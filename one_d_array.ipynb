{
 "cells": [
  {
   "metadata": {},
   "cell_type": "markdown",
   "source": "# Numpy",
   "id": "d7f33b1b593ec"
  },
  {
   "metadata": {},
   "cell_type": "markdown",
   "source": [
    "* Numpy stand for numerical python\n",
    "* It's a library created mainly for array\n",
    "* It has an object called nd array\n",
    "* it also have the object called masked array & matrices\n",
    "* i has multiple functions called linear algebra, statistical operations, random simulation, matrices, fourier transform"
   ],
   "id": "16b52b06c30032ad"
  },
  {
   "metadata": {},
   "cell_type": "markdown",
   "source": [
    "## array\n",
    "\n",
    "array is a data structure, what type of data structure??\n",
    "\n",
    "array store data of the same type.\n",
    "\n",
    "two arrays:\n",
    "\n",
    "[1, 2, 3, 4]\n",
    "\n",
    "[1.1, 2.2, 3.3, 4.4]\n",
    "\n",
    "what are the differences??\n",
    "\n",
    "* first different is their type\n",
    "* second is their location\n",
    "* every items have own indexes or different positions\n",
    "* their location is continuous\n",
    "* \n",
    "\n",
    "\n"
   ],
   "id": "9e4797b4800df37b"
  },
  {
   "metadata": {},
   "cell_type": "markdown",
   "source": [
    "## what are teh types of arrays??\n",
    "\n",
    "* single dimensional arrays\n",
    "* multi dimensional arrays(one dimensional, two dimensional, multi dimensional(n dimensional))"
   ],
   "id": "5a1a5174589e63eb"
  },
  {
   "metadata": {},
   "cell_type": "markdown",
   "source": [
    "## dimensions\n",
    "\n"
   ],
   "id": "eceaa593bc65542c"
  },
  {
   "metadata": {
    "ExecuteTime": {
     "end_time": "2024-07-20T17:29:49.656662Z",
     "start_time": "2024-07-20T17:29:49.486404Z"
    }
   },
   "cell_type": "code",
   "source": [
    "import numpy as np\n",
    "\n",
    "a = np.array([1, 2, 3, 4, 5, 6, 7, 8, 9])"
   ],
   "id": "53280adde01cf751",
   "outputs": [],
   "execution_count": 2
  },
  {
   "metadata": {
    "ExecuteTime": {
     "end_time": "2024-07-20T17:29:50.029681Z",
     "start_time": "2024-07-20T17:29:49.992990Z"
    }
   },
   "cell_type": "code",
   "source": "a.ndim",
   "id": "9accb1791793bee1",
   "outputs": [
    {
     "data": {
      "text/plain": [
       "1"
      ]
     },
     "execution_count": 3,
     "metadata": {},
     "output_type": "execute_result"
    }
   ],
   "execution_count": 3
  },
  {
   "metadata": {
    "ExecuteTime": {
     "end_time": "2024-07-20T17:29:50.155262Z",
     "start_time": "2024-07-20T17:29:50.143364Z"
    }
   },
   "cell_type": "code",
   "source": "a[2]",
   "id": "8dc388bb1a7c3717",
   "outputs": [
    {
     "data": {
      "text/plain": [
       "3"
      ]
     },
     "execution_count": 4,
     "metadata": {},
     "output_type": "execute_result"
    }
   ],
   "execution_count": 4
  },
  {
   "metadata": {
    "ExecuteTime": {
     "end_time": "2024-07-20T17:29:50.277701Z",
     "start_time": "2024-07-20T17:29:50.266040Z"
    }
   },
   "cell_type": "code",
   "source": "b = np.array([[1, 2, 3, 4, 5, 6], [1, 2, 3, 4, 5, 6]])",
   "id": "ed993c4f9235bf1f",
   "outputs": [],
   "execution_count": 5
  },
  {
   "metadata": {
    "ExecuteTime": {
     "end_time": "2024-07-20T17:29:50.447048Z",
     "start_time": "2024-07-20T17:29:50.437091Z"
    }
   },
   "cell_type": "code",
   "source": "b.ndim",
   "id": "ef4eb834b60b74f8",
   "outputs": [
    {
     "data": {
      "text/plain": [
       "2"
      ]
     },
     "execution_count": 6,
     "metadata": {},
     "output_type": "execute_result"
    }
   ],
   "execution_count": 6
  },
  {
   "metadata": {
    "ExecuteTime": {
     "end_time": "2024-07-20T17:29:50.530569Z",
     "start_time": "2024-07-20T17:29:50.519763Z"
    }
   },
   "cell_type": "code",
   "source": "b",
   "id": "4e31de01f1eda6bd",
   "outputs": [
    {
     "data": {
      "text/plain": [
       "array([[1, 2, 3, 4, 5, 6],\n",
       "       [1, 2, 3, 4, 5, 6]])"
      ]
     },
     "execution_count": 7,
     "metadata": {},
     "output_type": "execute_result"
    }
   ],
   "execution_count": 7
  },
  {
   "metadata": {
    "ExecuteTime": {
     "end_time": "2024-07-20T17:29:50.722529Z",
     "start_time": "2024-07-20T17:29:50.712869Z"
    }
   },
   "cell_type": "code",
   "source": "print(b)",
   "id": "eeccaca3a042a3cf",
   "outputs": [
    {
     "name": "stdout",
     "output_type": "stream",
     "text": [
      "[[1 2 3 4 5 6]\n",
      " [1 2 3 4 5 6]]\n"
     ]
    }
   ],
   "execution_count": 8
  },
  {
   "metadata": {},
   "cell_type": "raw",
   "source": "",
   "id": "ee5fcb37953a9542"
  },
  {
   "metadata": {
    "ExecuteTime": {
     "end_time": "2024-07-20T17:29:50.799266Z",
     "start_time": "2024-07-20T17:29:50.787461Z"
    }
   },
   "cell_type": "code",
   "source": "c = np.array([[[1, 2, 3, 4, 5, 6]]])",
   "id": "d42d3e7c33aeb0b7",
   "outputs": [],
   "execution_count": 9
  },
  {
   "metadata": {
    "ExecuteTime": {
     "end_time": "2024-07-20T17:29:50.979232Z",
     "start_time": "2024-07-20T17:29:50.964733Z"
    }
   },
   "cell_type": "code",
   "source": "c.ndim",
   "id": "2450d30ef799e63f",
   "outputs": [
    {
     "data": {
      "text/plain": [
       "3"
      ]
     },
     "execution_count": 10,
     "metadata": {},
     "output_type": "execute_result"
    }
   ],
   "execution_count": 10
  },
  {
   "metadata": {
    "ExecuteTime": {
     "end_time": "2024-07-20T17:29:51.143507Z",
     "start_time": "2024-07-20T17:29:51.127341Z"
    }
   },
   "cell_type": "code",
   "source": "c",
   "id": "dd53b1f3207fea7a",
   "outputs": [
    {
     "data": {
      "text/plain": [
       "array([[[1, 2, 3, 4, 5, 6]]])"
      ]
     },
     "execution_count": 11,
     "metadata": {},
     "output_type": "execute_result"
    }
   ],
   "execution_count": 11
  },
  {
   "metadata": {
    "ExecuteTime": {
     "end_time": "2024-07-20T17:29:51.209800Z",
     "start_time": "2024-07-20T17:29:51.201572Z"
    }
   },
   "cell_type": "code",
   "source": "type(c)",
   "id": "4f770daed459a20e",
   "outputs": [
    {
     "data": {
      "text/plain": [
       "numpy.ndarray"
      ]
     },
     "execution_count": 12,
     "metadata": {},
     "output_type": "execute_result"
    }
   ],
   "execution_count": 12
  },
  {
   "metadata": {
    "ExecuteTime": {
     "end_time": "2024-07-20T17:29:51.386412Z",
     "start_time": "2024-07-20T17:29:51.381032Z"
    }
   },
   "cell_type": "code",
   "source": "d = np.array((1, 2, 3))",
   "id": "507f6fd59f6367f8",
   "outputs": [],
   "execution_count": 13
  },
  {
   "metadata": {
    "ExecuteTime": {
     "end_time": "2024-07-20T17:29:51.521539Z",
     "start_time": "2024-07-20T17:29:51.511278Z"
    }
   },
   "cell_type": "code",
   "source": "d",
   "id": "31e575a4ea68504d",
   "outputs": [
    {
     "data": {
      "text/plain": [
       "array([1, 2, 3])"
      ]
     },
     "execution_count": 14,
     "metadata": {},
     "output_type": "execute_result"
    }
   ],
   "execution_count": 14
  },
  {
   "metadata": {
    "ExecuteTime": {
     "end_time": "2024-07-20T17:29:51.622949Z",
     "start_time": "2024-07-20T17:29:51.615937Z"
    }
   },
   "cell_type": "code",
   "source": "print(d)",
   "id": "557957734eae71",
   "outputs": [
    {
     "name": "stdout",
     "output_type": "stream",
     "text": [
      "[1 2 3]\n"
     ]
    }
   ],
   "execution_count": 15
  },
  {
   "metadata": {
    "ExecuteTime": {
     "end_time": "2024-07-20T17:29:51.758318Z",
     "start_time": "2024-07-20T17:29:51.748218Z"
    }
   },
   "cell_type": "code",
   "source": "type(d)",
   "id": "707908bc1f35d5f",
   "outputs": [
    {
     "data": {
      "text/plain": [
       "numpy.ndarray"
      ]
     },
     "execution_count": 16,
     "metadata": {},
     "output_type": "execute_result"
    }
   ],
   "execution_count": 16
  },
  {
   "metadata": {
    "ExecuteTime": {
     "end_time": "2024-07-20T17:29:51.879365Z",
     "start_time": "2024-07-20T17:29:51.875150Z"
    }
   },
   "cell_type": "code",
   "source": "",
   "id": "4d16c36d94bc3cae",
   "outputs": [],
   "execution_count": 16
  },
  {
   "metadata": {
    "ExecuteTime": {
     "end_time": "2024-07-20T17:29:51.934203Z",
     "start_time": "2024-07-20T17:29:51.924600Z"
    }
   },
   "cell_type": "code",
   "source": "",
   "id": "4af5e0d72700ac5b",
   "outputs": [],
   "execution_count": 16
  },
  {
   "metadata": {},
   "cell_type": "markdown",
   "source": [
    "# difference between scalar, vector, matrices and tensor\n",
    "\n",
    "* scalar : 1,2,3 . weight , temperature etc\n",
    "* one dimensional is the vector\n",
    "* two dimensional is the matrix (multiple is matrices)\n",
    "* greater than two dimensional is called tensor"
   ],
   "id": "32733d72b2f18cc0"
  },
  {
   "metadata": {
    "ExecuteTime": {
     "end_time": "2024-07-20T17:29:52.078596Z",
     "start_time": "2024-07-20T17:29:52.063067Z"
    }
   },
   "cell_type": "code",
   "source": "scalar = np.array(1)  # this is the scalar",
   "id": "103d263b7f06694a",
   "outputs": [],
   "execution_count": 17
  },
  {
   "metadata": {
    "ExecuteTime": {
     "end_time": "2024-07-20T17:29:52.146598Z",
     "start_time": "2024-07-20T17:29:52.133261Z"
    }
   },
   "cell_type": "code",
   "source": "scalar.ndim",
   "id": "ec2367c9d1e16906",
   "outputs": [
    {
     "data": {
      "text/plain": [
       "0"
      ]
     },
     "execution_count": 18,
     "metadata": {},
     "output_type": "execute_result"
    }
   ],
   "execution_count": 18
  },
  {
   "metadata": {
    "ExecuteTime": {
     "end_time": "2024-07-20T17:29:52.267893Z",
     "start_time": "2024-07-20T17:29:52.256678Z"
    }
   },
   "cell_type": "code",
   "source": "d = np.array((1, 2, 3))  # this is the vector",
   "id": "8e81b0e9b44cfa89",
   "outputs": [],
   "execution_count": 19
  },
  {
   "metadata": {},
   "cell_type": "markdown",
   "source": "",
   "id": "3dd84f080650598c"
  },
  {
   "metadata": {
    "ExecuteTime": {
     "end_time": "2024-07-20T17:29:52.366751Z",
     "start_time": "2024-07-20T17:29:52.358658Z"
    }
   },
   "cell_type": "code",
   "source": "b = np.array([[1, 2, 3, 4, 5, 6], [1, 2, 3, 4, 5, 6]])  # this is the matrix",
   "id": "a2ad831bfdc1578c",
   "outputs": [],
   "execution_count": 20
  },
  {
   "metadata": {
    "ExecuteTime": {
     "end_time": "2024-07-20T17:29:52.437022Z",
     "start_time": "2024-07-20T17:29:52.428372Z"
    }
   },
   "cell_type": "code",
   "source": "c = np.array([[[1, 2, 3, 4, 5, 6]]])  # this is the tensor",
   "id": "cd2a6bcc67924da3",
   "outputs": [],
   "execution_count": 21
  },
  {
   "metadata": {},
   "cell_type": "markdown",
   "source": "",
   "id": "fb68b89b066e8723"
  },
  {
   "metadata": {},
   "cell_type": "markdown",
   "source": [
    "## numpy data types\n",
    "\n",
    "* integer \n",
    "* float\n",
    "* complex\n",
    "* boolean\n",
    "* string\n",
    "* "
   ],
   "id": "1e531219043f72b0"
  },
  {
   "metadata": {
    "ExecuteTime": {
     "end_time": "2024-07-20T17:29:52.533630Z",
     "start_time": "2024-07-20T17:29:52.527861Z"
    }
   },
   "cell_type": "code",
   "source": "zero1 = np.zeros(1)",
   "id": "162545ce230a2740",
   "outputs": [],
   "execution_count": 22
  },
  {
   "metadata": {
    "ExecuteTime": {
     "end_time": "2024-07-20T17:29:56.823227Z",
     "start_time": "2024-07-20T17:29:56.808090Z"
    }
   },
   "cell_type": "code",
   "source": "zero1",
   "id": "f685e1d7b6907a01",
   "outputs": [
    {
     "data": {
      "text/plain": [
       "array([0.])"
      ]
     },
     "execution_count": 23,
     "metadata": {},
     "output_type": "execute_result"
    }
   ],
   "execution_count": 23
  },
  {
   "metadata": {
    "ExecuteTime": {
     "end_time": "2024-07-20T17:36:15.944664Z",
     "start_time": "2024-07-20T17:36:15.905853Z"
    }
   },
   "cell_type": "code",
   "source": "np.zeros((3))",
   "id": "ea28bea0e31a8062",
   "outputs": [
    {
     "data": {
      "text/plain": [
       "array([0., 0., 0.])"
      ]
     },
     "execution_count": 33,
     "metadata": {},
     "output_type": "execute_result"
    }
   ],
   "execution_count": 33
  },
  {
   "metadata": {},
   "cell_type": "code",
   "outputs": [],
   "execution_count": null,
   "source": "np.zeros((3, 3))\n",
   "id": "1c9d3bb6120005a5"
  },
  {
   "metadata": {},
   "cell_type": "code",
   "outputs": [],
   "execution_count": null,
   "source": "np.zeros((3, 3, 3))\n",
   "id": "65179c5e3015b71"
  },
  {
   "metadata": {
    "ExecuteTime": {
     "end_time": "2024-07-20T17:36:35.202870Z",
     "start_time": "2024-07-20T17:36:35.170942Z"
    }
   },
   "cell_type": "code",
   "source": "np.zeros((3, 3, 3, 3))",
   "id": "7c1e7cf6ea9537ed",
   "outputs": [
    {
     "data": {
      "text/plain": [
       "array([[[[0., 0., 0.],\n",
       "         [0., 0., 0.],\n",
       "         [0., 0., 0.]],\n",
       "\n",
       "        [[0., 0., 0.],\n",
       "         [0., 0., 0.],\n",
       "         [0., 0., 0.]],\n",
       "\n",
       "        [[0., 0., 0.],\n",
       "         [0., 0., 0.],\n",
       "         [0., 0., 0.]]],\n",
       "\n",
       "\n",
       "       [[[0., 0., 0.],\n",
       "         [0., 0., 0.],\n",
       "         [0., 0., 0.]],\n",
       "\n",
       "        [[0., 0., 0.],\n",
       "         [0., 0., 0.],\n",
       "         [0., 0., 0.]],\n",
       "\n",
       "        [[0., 0., 0.],\n",
       "         [0., 0., 0.],\n",
       "         [0., 0., 0.]]],\n",
       "\n",
       "\n",
       "       [[[0., 0., 0.],\n",
       "         [0., 0., 0.],\n",
       "         [0., 0., 0.]],\n",
       "\n",
       "        [[0., 0., 0.],\n",
       "         [0., 0., 0.],\n",
       "         [0., 0., 0.]],\n",
       "\n",
       "        [[0., 0., 0.],\n",
       "         [0., 0., 0.],\n",
       "         [0., 0., 0.]]]])"
      ]
     },
     "execution_count": 34,
     "metadata": {},
     "output_type": "execute_result"
    }
   ],
   "execution_count": 34
  },
  {
   "metadata": {
    "ExecuteTime": {
     "end_time": "2024-07-20T17:40:28.146162Z",
     "start_time": "2024-07-20T17:40:28.133714Z"
    }
   },
   "cell_type": "code",
   "source": "np.ones((3))",
   "id": "fc4f517ea40b74ea",
   "outputs": [
    {
     "data": {
      "text/plain": [
       "array([1., 1., 1.])"
      ]
     },
     "execution_count": 35,
     "metadata": {},
     "output_type": "execute_result"
    }
   ],
   "execution_count": 35
  },
  {
   "metadata": {
    "ExecuteTime": {
     "end_time": "2024-07-20T17:40:45.874101Z",
     "start_time": "2024-07-20T17:40:45.840956Z"
    }
   },
   "cell_type": "code",
   "source": "np.ones((3, 3))",
   "id": "74dba8dfd0ed7260",
   "outputs": [
    {
     "data": {
      "text/plain": [
       "array([[1., 1., 1.],\n",
       "       [1., 1., 1.],\n",
       "       [1., 1., 1.]])"
      ]
     },
     "execution_count": 36,
     "metadata": {},
     "output_type": "execute_result"
    }
   ],
   "execution_count": 36
  },
  {
   "metadata": {
    "ExecuteTime": {
     "end_time": "2024-07-20T17:41:01.111510Z",
     "start_time": "2024-07-20T17:41:01.087345Z"
    }
   },
   "cell_type": "code",
   "source": "np.ones((3, 3, 3))",
   "id": "3b6ca676d999c38e",
   "outputs": [
    {
     "data": {
      "text/plain": [
       "array([[[1., 1., 1.],\n",
       "        [1., 1., 1.],\n",
       "        [1., 1., 1.]],\n",
       "\n",
       "       [[1., 1., 1.],\n",
       "        [1., 1., 1.],\n",
       "        [1., 1., 1.]],\n",
       "\n",
       "       [[1., 1., 1.],\n",
       "        [1., 1., 1.],\n",
       "        [1., 1., 1.]]])"
      ]
     },
     "execution_count": 37,
     "metadata": {},
     "output_type": "execute_result"
    }
   ],
   "execution_count": 37
  },
  {
   "metadata": {
    "ExecuteTime": {
     "end_time": "2024-07-20T17:41:34.866882Z",
     "start_time": "2024-07-20T17:41:34.842309Z"
    }
   },
   "cell_type": "code",
   "source": "np.ones((3, 3, 3, 3))",
   "id": "d6c3b8b653693f34",
   "outputs": [
    {
     "data": {
      "text/plain": [
       "array([[[[1., 1., 1.],\n",
       "         [1., 1., 1.],\n",
       "         [1., 1., 1.]],\n",
       "\n",
       "        [[1., 1., 1.],\n",
       "         [1., 1., 1.],\n",
       "         [1., 1., 1.]],\n",
       "\n",
       "        [[1., 1., 1.],\n",
       "         [1., 1., 1.],\n",
       "         [1., 1., 1.]]],\n",
       "\n",
       "\n",
       "       [[[1., 1., 1.],\n",
       "         [1., 1., 1.],\n",
       "         [1., 1., 1.]],\n",
       "\n",
       "        [[1., 1., 1.],\n",
       "         [1., 1., 1.],\n",
       "         [1., 1., 1.]],\n",
       "\n",
       "        [[1., 1., 1.],\n",
       "         [1., 1., 1.],\n",
       "         [1., 1., 1.]]],\n",
       "\n",
       "\n",
       "       [[[1., 1., 1.],\n",
       "         [1., 1., 1.],\n",
       "         [1., 1., 1.]],\n",
       "\n",
       "        [[1., 1., 1.],\n",
       "         [1., 1., 1.],\n",
       "         [1., 1., 1.]],\n",
       "\n",
       "        [[1., 1., 1.],\n",
       "         [1., 1., 1.],\n",
       "         [1., 1., 1.]]]])"
      ]
     },
     "execution_count": 38,
     "metadata": {},
     "output_type": "execute_result"
    }
   ],
   "execution_count": 38
  },
  {
   "metadata": {
    "ExecuteTime": {
     "end_time": "2024-07-20T17:43:51.586518Z",
     "start_time": "2024-07-20T17:43:51.555092Z"
    }
   },
   "cell_type": "code",
   "source": "np.empty(3)",
   "id": "e295fd2f30265188",
   "outputs": [
    {
     "data": {
      "text/plain": [
       "array([0.e+000, 5.e-324, 1.e-323])"
      ]
     },
     "execution_count": 39,
     "metadata": {},
     "output_type": "execute_result"
    }
   ],
   "execution_count": 39
  },
  {
   "metadata": {
    "ExecuteTime": {
     "end_time": "2024-07-20T17:46:53.139085Z",
     "start_time": "2024-07-20T17:46:53.125517Z"
    }
   },
   "cell_type": "code",
   "source": "np.arange(-5, 6)",
   "id": "99f7e8051db67b2b",
   "outputs": [
    {
     "data": {
      "text/plain": [
       "array([-5, -4, -3, -2, -1,  0,  1,  2,  3,  4,  5])"
      ]
     },
     "execution_count": 43,
     "metadata": {},
     "output_type": "execute_result"
    }
   ],
   "execution_count": 43
  },
  {
   "metadata": {
    "ExecuteTime": {
     "end_time": "2024-07-20T17:48:00.282151Z",
     "start_time": "2024-07-20T17:48:00.266177Z"
    }
   },
   "cell_type": "code",
   "source": "np.arange(0, 11, 2)",
   "id": "3562d5ec45c033a6",
   "outputs": [
    {
     "data": {
      "text/plain": [
       "array([ 0,  2,  4,  6,  8, 10])"
      ]
     },
     "execution_count": 45,
     "metadata": {},
     "output_type": "execute_result"
    }
   ],
   "execution_count": 45
  },
  {
   "metadata": {
    "ExecuteTime": {
     "end_time": "2024-07-21T16:03:46.003849Z",
     "start_time": "2024-07-21T16:03:45.995517Z"
    }
   },
   "cell_type": "code",
   "source": "np.linspace(1, 10, 11)",
   "id": "f18fb0ec94b38401",
   "outputs": [
    {
     "data": {
      "text/plain": [
       "array([ 1. ,  1.9,  2.8,  3.7,  4.6,  5.5,  6.4,  7.3,  8.2,  9.1, 10. ])"
      ]
     },
     "execution_count": 157,
     "metadata": {},
     "output_type": "execute_result"
    }
   ],
   "execution_count": 157
  },
  {
   "metadata": {},
   "cell_type": "markdown",
   "source": [
    "# python range vs numpy arange \n",
    "\n",
    "np.arange() produce an array a list of numbers\n",
    "\n",
    "\n",
    "range produce  a list\n"
   ],
   "id": "72f02cf669c903c3"
  },
  {
   "metadata": {
    "ExecuteTime": {
     "end_time": "2024-07-21T16:10:51.945926Z",
     "start_time": "2024-07-21T16:10:51.936986Z"
    }
   },
   "cell_type": "code",
   "source": "np.arange(1, 10)",
   "id": "8b59e0f20ef6af32",
   "outputs": [
    {
     "data": {
      "text/plain": [
       "array([1, 2, 3, 4, 5, 6, 7, 8, 9])"
      ]
     },
     "execution_count": 158,
     "metadata": {},
     "output_type": "execute_result"
    }
   ],
   "execution_count": 158
  },
  {
   "metadata": {
    "ExecuteTime": {
     "end_time": "2024-07-21T16:13:30.808789Z",
     "start_time": "2024-07-21T16:13:30.801539Z"
    }
   },
   "cell_type": "code",
   "source": "np.arange(0, 10, 2)  # working like i += 2 ",
   "id": "41b2317d355a3698",
   "outputs": [
    {
     "data": {
      "text/plain": [
       "array([1, 3, 5, 7, 9])"
      ]
     },
     "execution_count": 160,
     "metadata": {},
     "output_type": "execute_result"
    }
   ],
   "execution_count": 160
  },
  {
   "metadata": {},
   "cell_type": "markdown",
   "source": [
    "## linspace \n",
    "produces values equally between two numbers\n",
    "\n",
    "\n",
    "need 15 numbers between 1,5, how?"
   ],
   "id": "2c90f62734aa8552"
  },
  {
   "metadata": {
    "ExecuteTime": {
     "end_time": "2024-07-21T16:18:51.599837Z",
     "start_time": "2024-07-21T16:18:51.592677Z"
    }
   },
   "cell_type": "code",
   "source": "np.linspace(1, 5, num=15)",
   "id": "b7be8c98a7a83e3f",
   "outputs": [
    {
     "data": {
      "text/plain": [
       "array([1.        , 1.28571429, 1.57142857, 1.85714286, 2.14285714,\n",
       "       2.42857143, 2.71428571, 3.        , 3.28571429, 3.57142857,\n",
       "       3.85714286, 4.14285714, 4.42857143, 4.71428571, 5.        ])"
      ]
     },
     "execution_count": 162,
     "metadata": {},
     "output_type": "execute_result"
    }
   ],
   "execution_count": 162
  },
  {
   "metadata": {},
   "cell_type": "markdown",
   "source": [
    "## reshape\n",
    "\n",
    "create a new shape with an existing array shape. change an array shape"
   ],
   "id": "e6cf05cdf67a9ded"
  },
  {
   "metadata": {
    "ExecuteTime": {
     "end_time": "2024-07-21T16:26:15.236571Z",
     "start_time": "2024-07-21T16:26:15.231413Z"
    }
   },
   "cell_type": "code",
   "source": "r_shape = np.array([1, 2, 3, 4, 5, 6, 7, 8, 9, 10, 11, 12])",
   "id": "217e958095ec1219",
   "outputs": [],
   "execution_count": 164
  },
  {
   "metadata": {
    "ExecuteTime": {
     "end_time": "2024-07-21T16:27:10.845154Z",
     "start_time": "2024-07-21T16:27:10.840941Z"
    }
   },
   "cell_type": "code",
   "source": "n_r_shape = np.reshape(r_shape, newshape=(3, 4)  )",
   "id": "83806ef5f3af583b",
   "outputs": [],
   "execution_count": 171
  },
  {
   "metadata": {
    "ExecuteTime": {
     "end_time": "2024-07-21T16:27:16.229469Z",
     "start_time": "2024-07-21T16:27:16.222874Z"
    }
   },
   "cell_type": "code",
   "source": "n_r_shape",
   "id": "98797a2b0f19a248",
   "outputs": [
    {
     "data": {
      "text/plain": [
       "array([[ 1,  2,  3,  4],\n",
       "       [ 5,  6,  7,  8],\n",
       "       [ 9, 10, 11, 12]])"
      ]
     },
     "execution_count": 172,
     "metadata": {},
     "output_type": "execute_result"
    }
   ],
   "execution_count": 172
  },
  {
   "metadata": {
    "ExecuteTime": {
     "end_time": "2024-07-21T16:27:48.789059Z",
     "start_time": "2024-07-21T16:27:48.785293Z"
    }
   },
   "cell_type": "code",
   "source": "n_r_shape = np.reshape(r_shape, newshape=(6,2)  )",
   "id": "ce8060f0c942a81d",
   "outputs": [],
   "execution_count": 174
  },
  {
   "metadata": {
    "ExecuteTime": {
     "end_time": "2024-07-21T16:27:51.401382Z",
     "start_time": "2024-07-21T16:27:51.369853Z"
    }
   },
   "cell_type": "code",
   "source": "n_r_shape",
   "id": "b8244b428c8c810e",
   "outputs": [
    {
     "data": {
      "text/plain": [
       "array([[ 1,  2],\n",
       "       [ 3,  4],\n",
       "       [ 5,  6],\n",
       "       [ 7,  8],\n",
       "       [ 9, 10],\n",
       "       [11, 12]])"
      ]
     },
     "execution_count": 175,
     "metadata": {},
     "output_type": "execute_result"
    }
   ],
   "execution_count": 175
  },
  {
   "metadata": {
    "ExecuteTime": {
     "end_time": "2024-07-20T17:55:40.251906Z",
     "start_time": "2024-07-20T17:55:40.239759Z"
    }
   },
   "cell_type": "code",
   "source": "cc = np.array([0, 1, 2, 3, 4, 5, 6, 7, 8, 9, 10])",
   "id": "72d1f313374d5b4c",
   "outputs": [],
   "execution_count": 55
  },
  {
   "metadata": {
    "ExecuteTime": {
     "end_time": "2024-07-20T17:59:04.929061Z",
     "start_time": "2024-07-20T17:59:04.909950Z"
    }
   },
   "cell_type": "code",
   "source": "np.reshape(cc, newshape=(11, 1))",
   "id": "76f7db7aefa02ce7",
   "outputs": [
    {
     "data": {
      "text/plain": [
       "array([[ 0],\n",
       "       [ 1],\n",
       "       [ 2],\n",
       "       [ 3],\n",
       "       [ 4],\n",
       "       [ 5],\n",
       "       [ 6],\n",
       "       [ 7],\n",
       "       [ 8],\n",
       "       [ 9],\n",
       "       [10]])"
      ]
     },
     "execution_count": 63,
     "metadata": {},
     "output_type": "execute_result"
    }
   ],
   "execution_count": 63
  },
  {
   "metadata": {
    "ExecuteTime": {
     "end_time": "2024-07-20T18:36:39.281877Z",
     "start_time": "2024-07-20T18:36:39.252793Z"
    }
   },
   "cell_type": "code",
   "source": [
    "arr1 = np.array([[0, 1, 2, 3, 4, 5, ], [1, 2, 3, 4, 5, 6]])\n",
    "arr1.shape"
   ],
   "id": "701c25e061e6c941",
   "outputs": [
    {
     "data": {
      "text/plain": [
       "(2, 6)"
      ]
     },
     "execution_count": 74,
     "metadata": {},
     "output_type": "execute_result"
    }
   ],
   "execution_count": 74
  },
  {
   "metadata": {
    "ExecuteTime": {
     "end_time": "2024-07-20T18:36:41.521590Z",
     "start_time": "2024-07-20T18:36:41.498434Z"
    }
   },
   "cell_type": "code",
   "source": "arr1.size",
   "id": "3d7be1d49ce5ae24",
   "outputs": [
    {
     "data": {
      "text/plain": [
       "12"
      ]
     },
     "execution_count": 75,
     "metadata": {},
     "output_type": "execute_result"
    }
   ],
   "execution_count": 75
  },
  {
   "metadata": {
    "ExecuteTime": {
     "end_time": "2024-07-20T18:36:43.215115Z",
     "start_time": "2024-07-20T18:36:43.201275Z"
    }
   },
   "cell_type": "code",
   "source": "arr1.dtype",
   "id": "872d239ad4c6f696",
   "outputs": [
    {
     "data": {
      "text/plain": [
       "dtype('int64')"
      ]
     },
     "execution_count": 76,
     "metadata": {},
     "output_type": "execute_result"
    }
   ],
   "execution_count": 76
  },
  {
   "metadata": {
    "ExecuteTime": {
     "end_time": "2024-07-20T18:36:45.449746Z",
     "start_time": "2024-07-20T18:36:45.429362Z"
    }
   },
   "cell_type": "code",
   "source": "arr1.itemsize",
   "id": "78dfd0047ac8fbe5",
   "outputs": [
    {
     "data": {
      "text/plain": [
       "8"
      ]
     },
     "execution_count": 77,
     "metadata": {},
     "output_type": "execute_result"
    }
   ],
   "execution_count": 77
  },
  {
   "metadata": {
    "ExecuteTime": {
     "end_time": "2024-07-20T18:37:00.909503Z",
     "start_time": "2024-07-20T18:37:00.901723Z"
    }
   },
   "cell_type": "code",
   "source": [
    "arr2 = np.array([[[0, 1, 2, 3, 4, 5, ], [1, 2, 3, 4, 5, 6]]])\n",
    "arr2.shape"
   ],
   "id": "fa91e943812fa87b",
   "outputs": [
    {
     "data": {
      "text/plain": [
       "(1, 2, 6)"
      ]
     },
     "execution_count": 79,
     "metadata": {},
     "output_type": "execute_result"
    }
   ],
   "execution_count": 79
  },
  {
   "metadata": {
    "ExecuteTime": {
     "end_time": "2024-07-20T18:37:04.855202Z",
     "start_time": "2024-07-20T18:37:04.827428Z"
    }
   },
   "cell_type": "code",
   "source": "arr2.size",
   "id": "43adc69de7ca048c",
   "outputs": [
    {
     "data": {
      "text/plain": [
       "12"
      ]
     },
     "execution_count": 80,
     "metadata": {},
     "output_type": "execute_result"
    }
   ],
   "execution_count": 80
  },
  {
   "metadata": {
    "ExecuteTime": {
     "end_time": "2024-07-20T18:37:13.116221Z",
     "start_time": "2024-07-20T18:37:13.103878Z"
    }
   },
   "cell_type": "code",
   "source": "arr2.itemsize",
   "id": "95aa2edee9d98be4",
   "outputs": [
    {
     "data": {
      "text/plain": [
       "8"
      ]
     },
     "execution_count": 81,
     "metadata": {},
     "output_type": "execute_result"
    }
   ],
   "execution_count": 81
  },
  {
   "metadata": {
    "ExecuteTime": {
     "end_time": "2024-07-20T18:39:38.102938Z",
     "start_time": "2024-07-20T18:39:38.090428Z"
    }
   },
   "cell_type": "code",
   "source": "arr2.data",
   "id": "3473790a9f96738e",
   "outputs": [
    {
     "data": {
      "text/plain": [
       "<memory at 0x7c94440a48b0>"
      ]
     },
     "execution_count": 82,
     "metadata": {},
     "output_type": "execute_result"
    }
   ],
   "execution_count": 82
  },
  {
   "metadata": {},
   "cell_type": "code",
   "outputs": [],
   "execution_count": null,
   "source": "",
   "id": "dd491201abdf2c5"
  },
  {
   "metadata": {},
   "cell_type": "code",
   "outputs": [],
   "execution_count": null,
   "source": "# problems",
   "id": "60b6e415b657accc"
  },
  {
   "metadata": {},
   "cell_type": "markdown",
   "source": "1. create a one dimensional array , 5 to 21",
   "id": "14653ec2d6a11a45"
  },
  {
   "metadata": {},
   "cell_type": "markdown",
   "source": "### sorting",
   "id": "5c18d9f3dfe77ce9"
  },
  {
   "metadata": {
    "ExecuteTime": {
     "end_time": "2024-07-21T07:13:46.815040Z",
     "start_time": "2024-07-21T07:13:46.806674Z"
    }
   },
   "cell_type": "code",
   "source": [
    "arr3 = np.array([7, 8, 4, 5, 3, 3, 4, 8, 8, 9, 4, 8, 2, 9])\n",
    "np.sort(arr3)"
   ],
   "id": "ccf819f5a3e227e4",
   "outputs": [
    {
     "data": {
      "text/plain": [
       "array([2, 3, 3, 4, 4, 4, 5, 7, 8, 8, 8, 8, 9, 9])"
      ]
     },
     "execution_count": 83,
     "metadata": {},
     "output_type": "execute_result"
    }
   ],
   "execution_count": 83
  },
  {
   "metadata": {},
   "cell_type": "markdown",
   "source": "### make two as one array",
   "id": "3fc412dd69c2b004"
  },
  {
   "metadata": {
    "ExecuteTime": {
     "end_time": "2024-07-21T07:15:18.975969Z",
     "start_time": "2024-07-21T07:15:18.971125Z"
    }
   },
   "cell_type": "code",
   "source": "h1 = np.array([1, 2, 3, 4, 5])",
   "id": "f4f5bfa1d8038577",
   "outputs": [],
   "execution_count": 84
  },
  {
   "metadata": {
    "ExecuteTime": {
     "end_time": "2024-07-21T07:15:38.813210Z",
     "start_time": "2024-07-21T07:15:38.789307Z"
    }
   },
   "cell_type": "code",
   "source": "h2 = np.array([1, 2, 3, 4, 5])",
   "id": "32bbc5ac4e37a711",
   "outputs": [],
   "execution_count": 85
  },
  {
   "metadata": {
    "ExecuteTime": {
     "end_time": "2024-07-21T07:16:12.300874Z",
     "start_time": "2024-07-21T07:16:12.280095Z"
    }
   },
   "cell_type": "code",
   "source": "np.concatenate((h1, h2))",
   "id": "ac0fd39535135d5e",
   "outputs": [
    {
     "data": {
      "text/plain": [
       "array([1, 2, 3, 4, 5, 1, 2, 3, 4, 5])"
      ]
     },
     "execution_count": 87,
     "metadata": {},
     "output_type": "execute_result"
    }
   ],
   "execution_count": 87
  },
  {
   "metadata": {
    "ExecuteTime": {
     "end_time": "2024-07-21T07:19:54.501415Z",
     "start_time": "2024-07-21T07:19:54.494735Z"
    }
   },
   "cell_type": "code",
   "source": "hh1 = np.array([[1, 2, 3], [4, 5, 6]])",
   "id": "ab979ce12602aa67",
   "outputs": [],
   "execution_count": 90
  },
  {
   "metadata": {
    "ExecuteTime": {
     "end_time": "2024-07-21T07:19:55.892937Z",
     "start_time": "2024-07-21T07:19:55.888877Z"
    }
   },
   "cell_type": "code",
   "source": "hh2 = np.array([[7, 8, 9], [10, 11, 12]])",
   "id": "d300610ad7b99e29",
   "outputs": [],
   "execution_count": 91
  },
  {
   "metadata": {
    "ExecuteTime": {
     "end_time": "2024-07-21T07:19:57.029144Z",
     "start_time": "2024-07-21T07:19:57.023354Z"
    }
   },
   "cell_type": "code",
   "source": "np.concatenate((hh1, hh2), axis=0)",
   "id": "471b3349f40f4341",
   "outputs": [
    {
     "data": {
      "text/plain": [
       "array([[ 1,  2,  3],\n",
       "       [ 4,  5,  6],\n",
       "       [ 7,  8,  9],\n",
       "       [10, 11, 12]])"
      ]
     },
     "execution_count": 92,
     "metadata": {},
     "output_type": "execute_result"
    }
   ],
   "execution_count": 92
  },
  {
   "metadata": {
    "ExecuteTime": {
     "end_time": "2024-07-21T07:20:20.044431Z",
     "start_time": "2024-07-21T07:20:20.036518Z"
    }
   },
   "cell_type": "code",
   "source": "np.concatenate((hh1, hh2), axis=1)",
   "id": "bbd2c684dd6f4450",
   "outputs": [
    {
     "data": {
      "text/plain": [
       "array([[ 1,  2,  3,  7,  8,  9],\n",
       "       [ 4,  5,  6, 10, 11, 12]])"
      ]
     },
     "execution_count": 93,
     "metadata": {},
     "output_type": "execute_result"
    }
   ],
   "execution_count": 93
  },
  {
   "metadata": {},
   "cell_type": "code",
   "outputs": [],
   "execution_count": null,
   "source": "",
   "id": "4a2bd6bd04d2a553"
  },
  {
   "metadata": {},
   "cell_type": "code",
   "outputs": [],
   "execution_count": null,
   "source": "",
   "id": "1a257ccc0bee0276"
  },
  {
   "metadata": {},
   "cell_type": "code",
   "outputs": [],
   "execution_count": null,
   "source": "",
   "id": "78636c8df41b7a9d"
  },
  {
   "metadata": {},
   "cell_type": "code",
   "outputs": [],
   "execution_count": null,
   "source": "",
   "id": "d06c0632b28baef3"
  },
  {
   "metadata": {},
   "cell_type": "markdown",
   "source": "### indexing and slicing",
   "id": "166bd1a7d7fdccb5"
  },
  {
   "metadata": {
    "ExecuteTime": {
     "end_time": "2024-07-21T07:27:53.890684Z",
     "start_time": "2024-07-21T07:27:53.884667Z"
    }
   },
   "cell_type": "code",
   "source": "index1 = np.array([0, 1, 2, 3, 4, 5, 6, 7, 8, 9, 10])",
   "id": "3a02beace7626da4",
   "outputs": [],
   "execution_count": 94
  },
  {
   "metadata": {
    "ExecuteTime": {
     "end_time": "2024-07-21T07:27:55.516036Z",
     "start_time": "2024-07-21T07:27:55.509924Z"
    }
   },
   "cell_type": "code",
   "source": "index1[5]",
   "id": "329b46c8a30278ce",
   "outputs": [
    {
     "data": {
      "text/plain": [
       "5"
      ]
     },
     "execution_count": 95,
     "metadata": {},
     "output_type": "execute_result"
    }
   ],
   "execution_count": 95
  },
  {
   "metadata": {
    "ExecuteTime": {
     "end_time": "2024-07-21T07:28:10.310666Z",
     "start_time": "2024-07-21T07:28:10.286470Z"
    }
   },
   "cell_type": "code",
   "source": "index1[-1]",
   "id": "72f45dcc8e1b7750",
   "outputs": [
    {
     "data": {
      "text/plain": [
       "10"
      ]
     },
     "execution_count": 96,
     "metadata": {},
     "output_type": "execute_result"
    }
   ],
   "execution_count": 96
  },
  {
   "metadata": {
    "ExecuteTime": {
     "end_time": "2024-07-21T07:31:23.054236Z",
     "start_time": "2024-07-21T07:31:23.046752Z"
    }
   },
   "cell_type": "code",
   "source": "index1[3:9]",
   "id": "b7e8e2b4e29e18dd",
   "outputs": [
    {
     "data": {
      "text/plain": [
       "array([3, 4, 5, 6, 7, 8])"
      ]
     },
     "execution_count": 97,
     "metadata": {},
     "output_type": "execute_result"
    }
   ],
   "execution_count": 97
  },
  {
   "metadata": {
    "ExecuteTime": {
     "end_time": "2024-07-21T07:32:40.217188Z",
     "start_time": "2024-07-21T07:32:40.206262Z"
    }
   },
   "cell_type": "code",
   "source": "index1[:]",
   "id": "cfa7bd5e977289c6",
   "outputs": [
    {
     "data": {
      "text/plain": [
       "array([ 0,  1,  2,  3,  4,  5,  6,  7,  8,  9, 10])"
      ]
     },
     "execution_count": 98,
     "metadata": {},
     "output_type": "execute_result"
    }
   ],
   "execution_count": 98
  },
  {
   "metadata": {
    "ExecuteTime": {
     "end_time": "2024-07-21T07:32:56.158027Z",
     "start_time": "2024-07-21T07:32:56.151761Z"
    }
   },
   "cell_type": "code",
   "source": "index1[4:]",
   "id": "afa387efc6f00fe",
   "outputs": [
    {
     "data": {
      "text/plain": [
       "array([ 4,  5,  6,  7,  8,  9, 10])"
      ]
     },
     "execution_count": 99,
     "metadata": {},
     "output_type": "execute_result"
    }
   ],
   "execution_count": 99
  },
  {
   "metadata": {
    "ExecuteTime": {
     "end_time": "2024-07-21T07:33:07.289582Z",
     "start_time": "2024-07-21T07:33:07.267319Z"
    }
   },
   "cell_type": "code",
   "source": "index1[:5]",
   "id": "84355b6353fb4625",
   "outputs": [
    {
     "data": {
      "text/plain": [
       "array([0, 1, 2, 3, 4])"
      ]
     },
     "execution_count": 100,
     "metadata": {},
     "output_type": "execute_result"
    }
   ],
   "execution_count": 100
  },
  {
   "metadata": {
    "ExecuteTime": {
     "end_time": "2024-07-21T07:34:42.612620Z",
     "start_time": "2024-07-21T07:34:42.606841Z"
    }
   },
   "cell_type": "code",
   "source": "index1[-3:]",
   "id": "bff729d9fe20431f",
   "outputs": [
    {
     "data": {
      "text/plain": [
       "array([ 8,  9, 10])"
      ]
     },
     "execution_count": 101,
     "metadata": {},
     "output_type": "execute_result"
    }
   ],
   "execution_count": 101
  },
  {
   "metadata": {
    "ExecuteTime": {
     "end_time": "2024-07-21T07:35:19.835595Z",
     "start_time": "2024-07-21T07:35:19.827660Z"
    }
   },
   "cell_type": "code",
   "source": "index1[-2:1]",
   "id": "554ddaa4f668e8f4",
   "outputs": [
    {
     "data": {
      "text/plain": [
       "array([], dtype=int64)"
      ]
     },
     "execution_count": 102,
     "metadata": {},
     "output_type": "execute_result"
    }
   ],
   "execution_count": 102
  },
  {
   "metadata": {
    "ExecuteTime": {
     "end_time": "2024-07-21T07:38:17.747467Z",
     "start_time": "2024-07-21T07:38:17.740448Z"
    }
   },
   "cell_type": "code",
   "source": "index1[0:-2]",
   "id": "db47dc708be4a820",
   "outputs": [
    {
     "data": {
      "text/plain": [
       "array([0, 1, 2, 3, 4, 5, 6, 7, 8])"
      ]
     },
     "execution_count": 103,
     "metadata": {},
     "output_type": "execute_result"
    }
   ],
   "execution_count": 103
  },
  {
   "metadata": {
    "ExecuteTime": {
     "end_time": "2024-07-21T07:38:39.082832Z",
     "start_time": "2024-07-21T07:38:39.073070Z"
    }
   },
   "cell_type": "code",
   "source": "index1[:-2]",
   "id": "174164d4197b1903",
   "outputs": [
    {
     "data": {
      "text/plain": [
       "array([0, 1, 2, 3, 4, 5, 6, 7, 8])"
      ]
     },
     "execution_count": 104,
     "metadata": {},
     "output_type": "execute_result"
    }
   ],
   "execution_count": 104
  },
  {
   "metadata": {
    "ExecuteTime": {
     "end_time": "2024-07-21T07:41:30.245378Z",
     "start_time": "2024-07-21T07:41:30.235274Z"
    }
   },
   "cell_type": "code",
   "source": [
    "# [0, 1, 2, 3, 4, 5, 6, 7, 8, 9, 10]\n",
    "index1[-2:2]"
   ],
   "id": "c72ce6574e700b99",
   "outputs": [
    {
     "data": {
      "text/plain": [
       "array([], dtype=int64)"
      ]
     },
     "execution_count": 106,
     "metadata": {},
     "output_type": "execute_result"
    }
   ],
   "execution_count": 106
  },
  {
   "metadata": {
    "ExecuteTime": {
     "end_time": "2024-07-21T07:42:16.642362Z",
     "start_time": "2024-07-21T07:42:16.619489Z"
    }
   },
   "cell_type": "code",
   "source": "index1[-2:-9]",
   "id": "d8a1f0406ff27ff6",
   "outputs": [
    {
     "data": {
      "text/plain": [
       "array([], dtype=int64)"
      ]
     },
     "execution_count": 107,
     "metadata": {},
     "output_type": "execute_result"
    }
   ],
   "execution_count": 107
  },
  {
   "metadata": {
    "ExecuteTime": {
     "end_time": "2024-07-21T07:42:45.537233Z",
     "start_time": "2024-07-21T07:42:45.529422Z"
    }
   },
   "cell_type": "code",
   "source": "index1[-9:-1]",
   "id": "1b0e6eb3c103598a",
   "outputs": [
    {
     "data": {
      "text/plain": [
       "array([2, 3, 4, 5, 6, 7, 8, 9])"
      ]
     },
     "execution_count": 108,
     "metadata": {},
     "output_type": "execute_result"
    }
   ],
   "execution_count": 108
  },
  {
   "metadata": {
    "ExecuteTime": {
     "end_time": "2024-07-21T07:42:56.652360Z",
     "start_time": "2024-07-21T07:42:56.640708Z"
    }
   },
   "cell_type": "code",
   "source": "index1[-9:6]",
   "id": "ad47dc93cb3accb2",
   "outputs": [
    {
     "data": {
      "text/plain": [
       "array([2, 3, 4, 5])"
      ]
     },
     "execution_count": 109,
     "metadata": {},
     "output_type": "execute_result"
    }
   ],
   "execution_count": 109
  },
  {
   "metadata": {},
   "cell_type": "code",
   "outputs": [],
   "execution_count": null,
   "source": "",
   "id": "71db05e891a5a2d7"
  },
  {
   "metadata": {},
   "cell_type": "code",
   "outputs": [],
   "execution_count": null,
   "source": "",
   "id": "e731fbaddba6655"
  },
  {
   "metadata": {},
   "cell_type": "markdown",
   "source": "### create an array from existing one",
   "id": "f0b79716bd0fca04"
  },
  {
   "metadata": {
    "ExecuteTime": {
     "end_time": "2024-07-21T09:39:34.046359Z",
     "start_time": "2024-07-21T09:39:34.041006Z"
    }
   },
   "cell_type": "code",
   "source": "main_arr1 = np.array([0, 1, 2, 3, 4, 5, 6, 7, 8, 9, 10])",
   "id": "cb22e56223884329",
   "outputs": [],
   "execution_count": 110
  },
  {
   "metadata": {},
   "cell_type": "code",
   "outputs": [],
   "execution_count": null,
   "source": "",
   "id": "9c042965e69d681d"
  },
  {
   "metadata": {
    "ExecuteTime": {
     "end_time": "2024-07-21T09:40:39.733823Z",
     "start_time": "2024-07-21T09:40:39.726252Z"
    }
   },
   "cell_type": "code",
   "source": "main_arr1[main_arr1 < 4]",
   "id": "702dded70df283a9",
   "outputs": [
    {
     "data": {
      "text/plain": [
       "array([0, 1, 2, 3])"
      ]
     },
     "execution_count": 113,
     "metadata": {},
     "output_type": "execute_result"
    }
   ],
   "execution_count": 113
  },
  {
   "metadata": {},
   "cell_type": "markdown",
   "source": "### even and odd number",
   "id": "adac6fb64d54a185"
  },
  {
   "metadata": {
    "ExecuteTime": {
     "end_time": "2024-07-21T09:41:36.731780Z",
     "start_time": "2024-07-21T09:41:36.722207Z"
    }
   },
   "cell_type": "code",
   "source": "main_arr1[main_arr1 % 2 == 0]",
   "id": "bef74d80c716f651",
   "outputs": [
    {
     "data": {
      "text/plain": [
       "array([ 0,  2,  4,  6,  8, 10])"
      ]
     },
     "execution_count": 115,
     "metadata": {},
     "output_type": "execute_result"
    }
   ],
   "execution_count": 115
  },
  {
   "metadata": {
    "ExecuteTime": {
     "end_time": "2024-07-21T09:41:54.069094Z",
     "start_time": "2024-07-21T09:41:54.063349Z"
    }
   },
   "cell_type": "code",
   "source": "main_arr1[main_arr1 % 2]",
   "id": "98ffd40f44f930f7",
   "outputs": [
    {
     "data": {
      "text/plain": [
       "array([0, 1, 0, 1, 0, 1, 0, 1, 0, 1, 0])"
      ]
     },
     "execution_count": 116,
     "metadata": {},
     "output_type": "execute_result"
    }
   ],
   "execution_count": 116
  },
  {
   "metadata": {
    "ExecuteTime": {
     "end_time": "2024-07-21T09:42:59.591046Z",
     "start_time": "2024-07-21T09:42:59.584011Z"
    }
   },
   "cell_type": "code",
   "source": "main_arr1[main_arr1 % 2 == 1]",
   "id": "7dbe4e8cca6957f8",
   "outputs": [
    {
     "data": {
      "text/plain": [
       "array([1, 3, 5, 7, 9])"
      ]
     },
     "execution_count": 117,
     "metadata": {},
     "output_type": "execute_result"
    }
   ],
   "execution_count": 117
  },
  {
   "metadata": {
    "ExecuteTime": {
     "end_time": "2024-07-21T09:44:31.867351Z",
     "start_time": "2024-07-21T09:44:31.860412Z"
    }
   },
   "cell_type": "code",
   "source": "main_arr1[(main_arr1 > 2) & (main_arr1 < 6)]",
   "id": "3e496148c88433f",
   "outputs": [
    {
     "data": {
      "text/plain": [
       "array([3, 4, 5])"
      ]
     },
     "execution_count": 120,
     "metadata": {},
     "output_type": "execute_result"
    }
   ],
   "execution_count": 120
  },
  {
   "metadata": {
    "ExecuteTime": {
     "end_time": "2024-07-21T09:44:40.026226Z",
     "start_time": "2024-07-21T09:44:40.017007Z"
    }
   },
   "cell_type": "code",
   "source": "main_arr1[(main_arr1 > 2) | (main_arr1 < 6)]",
   "id": "fa9f83a3fb8c3af6",
   "outputs": [
    {
     "data": {
      "text/plain": [
       "array([ 0,  1,  2,  3,  4,  5,  6,  7,  8,  9, 10])"
      ]
     },
     "execution_count": 121,
     "metadata": {},
     "output_type": "execute_result"
    }
   ],
   "execution_count": 121
  },
  {
   "metadata": {
    "ExecuteTime": {
     "end_time": "2024-07-21T09:46:42.949522Z",
     "start_time": "2024-07-21T09:46:42.941487Z"
    }
   },
   "cell_type": "code",
   "source": "(main_arr1 > 2) & (main_arr1 < 6)",
   "id": "539c4bcb34888e6e",
   "outputs": [
    {
     "data": {
      "text/plain": [
       "array([False, False, False,  True,  True,  True, False, False, False,\n",
       "       False, False])"
      ]
     },
     "execution_count": 123,
     "metadata": {},
     "output_type": "execute_result"
    }
   ],
   "execution_count": 123
  },
  {
   "metadata": {
    "ExecuteTime": {
     "end_time": "2024-07-21T09:50:15.240252Z",
     "start_time": "2024-07-21T09:50:15.230269Z"
    }
   },
   "cell_type": "code",
   "source": "np.arange(0, 25).reshape(5, 5)",
   "id": "3f5753b2e303fb43",
   "outputs": [
    {
     "data": {
      "text/plain": [
       "array([[ 0,  1,  2,  3,  4],\n",
       "       [ 5,  6,  7,  8,  9],\n",
       "       [10, 11, 12, 13, 14],\n",
       "       [15, 16, 17, 18, 19],\n",
       "       [20, 21, 22, 23, 24]])"
      ]
     },
     "execution_count": 127,
     "metadata": {},
     "output_type": "execute_result"
    }
   ],
   "execution_count": 127
  },
  {
   "metadata": {
    "ExecuteTime": {
     "end_time": "2024-07-21T09:55:17.476388Z",
     "start_time": "2024-07-21T09:55:17.465438Z"
    }
   },
   "cell_type": "code",
   "source": [
    "two_d_arr = np.array([\n",
    "    [1, 2, 3, 4],\n",
    "    [5, 6, 7, 8],\n",
    "    [5, 6, 7, 8]\n",
    "])"
   ],
   "id": "cc6fd82815244d6c",
   "outputs": [],
   "execution_count": 131
  },
  {
   "metadata": {
    "ExecuteTime": {
     "end_time": "2024-07-21T09:55:36.264829Z",
     "start_time": "2024-07-21T09:55:36.252961Z"
    }
   },
   "cell_type": "code",
   "source": "two_d_arr[1][1]",
   "id": "c1b19b995a228784",
   "outputs": [
    {
     "data": {
      "text/plain": [
       "6"
      ]
     },
     "execution_count": 133,
     "metadata": {},
     "output_type": "execute_result"
    }
   ],
   "execution_count": 133
  },
  {
   "metadata": {},
   "cell_type": "code",
   "outputs": [],
   "execution_count": null,
   "source": "",
   "id": "efd9646fccb58d66"
  },
  {
   "metadata": {
    "ExecuteTime": {
     "end_time": "2024-07-21T09:58:50.772385Z",
     "start_time": "2024-07-21T09:58:50.766235Z"
    }
   },
   "cell_type": "code",
   "source": "two_d_arr[0:2, 1:3]",
   "id": "eb89ba373ca506a6",
   "outputs": [
    {
     "data": {
      "text/plain": [
       "array([[2, 3],\n",
       "       [6, 7]])"
      ]
     },
     "execution_count": 136,
     "metadata": {},
     "output_type": "execute_result"
    }
   ],
   "execution_count": 136
  },
  {
   "metadata": {},
   "cell_type": "markdown",
   "source": "## 2d problems",
   "id": "5e32818502882188"
  },
  {
   "metadata": {
    "ExecuteTime": {
     "end_time": "2024-07-21T15:40:25.625568Z",
     "start_time": "2024-07-21T15:40:25.621574Z"
    }
   },
   "cell_type": "code",
   "source": "two_d_arr1 = np.arange(1, 26).reshape(5, 5)",
   "id": "df9efd6a9d7eddc7",
   "outputs": [],
   "execution_count": 138
  },
  {
   "metadata": {
    "ExecuteTime": {
     "end_time": "2024-07-21T15:40:31.738104Z",
     "start_time": "2024-07-21T15:40:31.732363Z"
    }
   },
   "cell_type": "code",
   "source": "two_d_arr1",
   "id": "fb81498a250e6c5c",
   "outputs": [
    {
     "data": {
      "text/plain": [
       "array([[ 1,  2,  3,  4,  5],\n",
       "       [ 6,  7,  8,  9, 10],\n",
       "       [11, 12, 13, 14, 15],\n",
       "       [16, 17, 18, 19, 20],\n",
       "       [21, 22, 23, 24, 25]])"
      ]
     },
     "execution_count": 139,
     "metadata": {},
     "output_type": "execute_result"
    }
   ],
   "execution_count": 139
  },
  {
   "metadata": {
    "ExecuteTime": {
     "end_time": "2024-07-21T15:43:13.159963Z",
     "start_time": "2024-07-21T15:43:13.151650Z"
    }
   },
   "cell_type": "code",
   "source": [
    "# all the numbers in row zero\n",
    "\n",
    "two_d_arr1[0]"
   ],
   "id": "c8c00281a46d51ef",
   "outputs": [
    {
     "data": {
      "text/plain": [
       "array([1, 2, 3, 4, 5])"
      ]
     },
     "execution_count": 143,
     "metadata": {},
     "output_type": "execute_result"
    }
   ],
   "execution_count": 143
  },
  {
   "metadata": {
    "ExecuteTime": {
     "end_time": "2024-07-21T15:44:28.937493Z",
     "start_time": "2024-07-21T15:44:28.931367Z"
    }
   },
   "cell_type": "code",
   "source": "two_d_arr1[:, 2:3]",
   "id": "f3271fe6becac3de",
   "outputs": [
    {
     "data": {
      "text/plain": [
       "array([[ 3],\n",
       "       [ 8],\n",
       "       [13],\n",
       "       [18],\n",
       "       [23]])"
      ]
     },
     "execution_count": 145,
     "metadata": {},
     "output_type": "execute_result"
    }
   ],
   "execution_count": 145
  },
  {
   "metadata": {
    "ExecuteTime": {
     "end_time": "2024-07-21T15:47:04.721486Z",
     "start_time": "2024-07-21T15:47:04.716181Z"
    }
   },
   "cell_type": "code",
   "source": "# all the numbers between 16 to 18",
   "id": "d024b5049d626b17",
   "outputs": [],
   "execution_count": 146
  },
  {
   "metadata": {
    "ExecuteTime": {
     "end_time": "2024-07-21T15:48:00.566421Z",
     "start_time": "2024-07-21T15:48:00.555636Z"
    }
   },
   "cell_type": "code",
   "source": "two_d_arr1[3][0:3]",
   "id": "d47ba17819b1b6bf",
   "outputs": [
    {
     "data": {
      "text/plain": [
       "array([16, 17, 18])"
      ]
     },
     "execution_count": 148,
     "metadata": {},
     "output_type": "execute_result"
    }
   ],
   "execution_count": 148
  },
  {
   "metadata": {
    "ExecuteTime": {
     "end_time": "2024-07-21T15:48:50.288220Z",
     "start_time": "2024-07-21T15:48:50.282892Z"
    }
   },
   "cell_type": "code",
   "source": "print(two_d_arr1)",
   "id": "2fedb87b777d7697",
   "outputs": [
    {
     "name": "stdout",
     "output_type": "stream",
     "text": [
      "[[ 1  2  3  4  5]\n",
      " [ 6  7  8  9 10]\n",
      " [11 12 13 14 15]\n",
      " [16 17 18 19 20]\n",
      " [21 22 23 24 25]]\n"
     ]
    }
   ],
   "execution_count": 149
  },
  {
   "metadata": {
    "ExecuteTime": {
     "end_time": "2024-07-21T15:49:56.922739Z",
     "start_time": "2024-07-21T15:49:56.900568Z"
    }
   },
   "cell_type": "code",
   "source": "two_d_arr1[3:, :3]",
   "id": "60607844c28e300e",
   "outputs": [
    {
     "data": {
      "text/plain": [
       "array([[16, 17, 18],\n",
       "       [21, 22, 23]])"
      ]
     },
     "execution_count": 150,
     "metadata": {},
     "output_type": "execute_result"
    }
   ],
   "execution_count": 150
  },
  {
   "metadata": {
    "ExecuteTime": {
     "end_time": "2024-07-21T15:51:42.654787Z",
     "start_time": "2024-07-21T15:51:42.647503Z"
    }
   },
   "cell_type": "code",
   "source": "two_d_arr1[2][[2]]",
   "id": "87997f75f51e310f",
   "outputs": [
    {
     "data": {
      "text/plain": [
       "array([13])"
      ]
     },
     "execution_count": 151,
     "metadata": {},
     "output_type": "execute_result"
    }
   ],
   "execution_count": 151
  },
  {
   "metadata": {
    "ExecuteTime": {
     "end_time": "2024-07-21T15:52:38.591161Z",
     "start_time": "2024-07-21T15:52:38.581636Z"
    }
   },
   "cell_type": "code",
   "source": "two_d_arr1[1:3, :]",
   "id": "2b1487196cc265c5",
   "outputs": [
    {
     "data": {
      "text/plain": [
       "array([[ 6,  7,  8,  9, 10],\n",
       "       [11, 12, 13, 14, 15]])"
      ]
     },
     "execution_count": 152,
     "metadata": {},
     "output_type": "execute_result"
    }
   ],
   "execution_count": 152
  },
  {
   "metadata": {
    "ExecuteTime": {
     "end_time": "2024-07-21T15:53:22.698931Z",
     "start_time": "2024-07-21T15:53:22.685864Z"
    }
   },
   "cell_type": "code",
   "source": "print(two_d_arr1)\n",
   "id": "ef9ecf8721936078",
   "outputs": [
    {
     "name": "stdout",
     "output_type": "stream",
     "text": [
      "[[ 1  2  3  4  5]\n",
      " [ 6  7  8  9 10]\n",
      " [11 12 13 14 15]\n",
      " [16 17 18 19 20]\n",
      " [21 22 23 24 25]]\n"
     ]
    }
   ],
   "execution_count": 153
  },
  {
   "metadata": {
    "ExecuteTime": {
     "end_time": "2024-07-21T15:54:01.332933Z",
     "start_time": "2024-07-21T15:54:01.321650Z"
    }
   },
   "cell_type": "code",
   "source": "two_d_arr1[:, 1:3]",
   "id": "547dcce80aef1f5b",
   "outputs": [
    {
     "data": {
      "text/plain": [
       "array([[ 2,  3],\n",
       "       [ 7,  8],\n",
       "       [12, 13],\n",
       "       [17, 18],\n",
       "       [22, 23]])"
      ]
     },
     "execution_count": 155,
     "metadata": {},
     "output_type": "execute_result"
    }
   ],
   "execution_count": 155
  },
  {
   "metadata": {},
   "cell_type": "code",
   "outputs": [],
   "execution_count": null,
   "source": "",
   "id": "f6b530fc62444480"
  }
 ],
 "metadata": {
  "kernelspec": {
   "display_name": "Python 3",
   "language": "python",
   "name": "python3"
  },
  "language_info": {
   "codemirror_mode": {
    "name": "ipython",
    "version": 2
   },
   "file_extension": ".py",
   "mimetype": "text/x-python",
   "name": "python",
   "nbconvert_exporter": "python",
   "pygments_lexer": "ipython2",
   "version": "2.7.6"
  }
 },
 "nbformat": 4,
 "nbformat_minor": 5
}
