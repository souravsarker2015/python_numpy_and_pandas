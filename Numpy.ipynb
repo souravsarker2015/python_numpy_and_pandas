{
 "cells": [
  {
   "metadata": {},
   "cell_type": "markdown",
   "source": "# Numpy",
   "id": "d7f33b1b593ec"
  },
  {
   "metadata": {},
   "cell_type": "markdown",
   "source": [
    "* Numpy stand for numerical python\n",
    "* It's a library created mainly for array\n",
    "* It has an object called nd array\n",
    "* it also have the object called masked array & matrices\n",
    "* i has multiple functions called linear algebra, statistical operations, random simulation, matrices, fourier transform"
   ],
   "id": "16b52b06c30032ad"
  },
  {
   "metadata": {},
   "cell_type": "markdown",
   "source": [
    "## array\n",
    "\n",
    "array is a data structure, what type of data structure??\n",
    "\n",
    "array store data of the same type.\n",
    "\n",
    "two arrays:\n",
    "\n",
    "[1, 2, 3, 4]\n",
    "\n",
    "[1.1, 2.2, 3.3, 4.4]\n",
    "\n",
    "what are the differences??\n",
    "\n",
    "* first different is their type\n",
    "* second is their location\n",
    "* every items have own indexes or different positions\n",
    "* their location is continuous\n",
    "* \n",
    "\n",
    "\n"
   ],
   "id": "9e4797b4800df37b"
  },
  {
   "metadata": {},
   "cell_type": "markdown",
   "source": [
    "## what are teh types of arrays??\n",
    "\n",
    "* single dimensional arrays\n",
    "* multi dimensional arrays(one dimensional, two dimensional, multi dimensional(n dimensional))"
   ],
   "id": "5a1a5174589e63eb"
  },
  {
   "metadata": {},
   "cell_type": "markdown",
   "source": [
    "## dimensions\n",
    "\n"
   ],
   "id": "eceaa593bc65542c"
  },
  {
   "metadata": {
    "ExecuteTime": {
     "end_time": "2024-07-23T10:19:15.406160Z",
     "start_time": "2024-07-23T10:19:15.401612Z"
    }
   },
   "cell_type": "code",
   "source": [
    "import numpy as np\n",
    "\n",
    "a = np.array([1, 2, 3, 4, 5, 6, 7, 8, 9])"
   ],
   "id": "53280adde01cf751",
   "outputs": [],
   "execution_count": 408
  },
  {
   "metadata": {
    "ExecuteTime": {
     "end_time": "2024-07-23T10:19:39.580788Z",
     "start_time": "2024-07-23T10:19:39.569649Z"
    }
   },
   "cell_type": "code",
   "source": "a.ndim",
   "id": "9accb1791793bee1",
   "outputs": [
    {
     "data": {
      "text/plain": [
       "1"
      ]
     },
     "execution_count": 409,
     "metadata": {},
     "output_type": "execute_result"
    }
   ],
   "execution_count": 409
  },
  {
   "metadata": {
    "ExecuteTime": {
     "end_time": "2024-07-23T10:19:39.924633Z",
     "start_time": "2024-07-23T10:19:39.915352Z"
    }
   },
   "cell_type": "code",
   "source": "a[2]",
   "id": "8dc388bb1a7c3717",
   "outputs": [
    {
     "data": {
      "text/plain": [
       "3"
      ]
     },
     "execution_count": 410,
     "metadata": {},
     "output_type": "execute_result"
    }
   ],
   "execution_count": 410
  },
  {
   "metadata": {
    "ExecuteTime": {
     "end_time": "2024-07-23T10:19:40.653057Z",
     "start_time": "2024-07-23T10:19:40.648305Z"
    }
   },
   "cell_type": "code",
   "source": "b = np.array([[1, 2, 3, 4, 5, 6], [1, 2, 3, 4, 5, 6]])",
   "id": "ed993c4f9235bf1f",
   "outputs": [],
   "execution_count": 411
  },
  {
   "metadata": {
    "ExecuteTime": {
     "end_time": "2024-07-23T10:19:41.462064Z",
     "start_time": "2024-07-23T10:19:41.453617Z"
    }
   },
   "cell_type": "code",
   "source": "b.ndim",
   "id": "ef4eb834b60b74f8",
   "outputs": [
    {
     "data": {
      "text/plain": [
       "2"
      ]
     },
     "execution_count": 412,
     "metadata": {},
     "output_type": "execute_result"
    }
   ],
   "execution_count": 412
  },
  {
   "metadata": {
    "ExecuteTime": {
     "end_time": "2024-07-23T10:19:41.962353Z",
     "start_time": "2024-07-23T10:19:41.943743Z"
    }
   },
   "cell_type": "code",
   "source": "b",
   "id": "4e31de01f1eda6bd",
   "outputs": [
    {
     "data": {
      "text/plain": [
       "array([[1, 2, 3, 4, 5, 6],\n",
       "       [1, 2, 3, 4, 5, 6]])"
      ]
     },
     "execution_count": 413,
     "metadata": {},
     "output_type": "execute_result"
    }
   ],
   "execution_count": 413
  },
  {
   "metadata": {
    "ExecuteTime": {
     "end_time": "2024-07-23T10:19:42.552877Z",
     "start_time": "2024-07-23T10:19:42.547622Z"
    }
   },
   "cell_type": "code",
   "source": "print(b)",
   "id": "eeccaca3a042a3cf",
   "outputs": [
    {
     "name": "stdout",
     "output_type": "stream",
     "text": [
      "[[1 2 3 4 5 6]\n",
      " [1 2 3 4 5 6]]\n"
     ]
    }
   ],
   "execution_count": 414
  },
  {
   "metadata": {},
   "cell_type": "raw",
   "source": "",
   "id": "ee5fcb37953a9542"
  },
  {
   "metadata": {
    "ExecuteTime": {
     "end_time": "2024-07-23T10:19:43.032019Z",
     "start_time": "2024-07-23T10:19:43.027195Z"
    }
   },
   "cell_type": "code",
   "source": "c = np.array([[[1, 2, 3, 4, 5, 6]]])",
   "id": "d42d3e7c33aeb0b7",
   "outputs": [],
   "execution_count": 415
  },
  {
   "metadata": {
    "ExecuteTime": {
     "end_time": "2024-07-23T10:19:43.763845Z",
     "start_time": "2024-07-23T10:19:43.757373Z"
    }
   },
   "cell_type": "code",
   "source": "c.ndim",
   "id": "2450d30ef799e63f",
   "outputs": [
    {
     "data": {
      "text/plain": [
       "3"
      ]
     },
     "execution_count": 416,
     "metadata": {},
     "output_type": "execute_result"
    }
   ],
   "execution_count": 416
  },
  {
   "metadata": {
    "ExecuteTime": {
     "end_time": "2024-07-23T10:19:44.236356Z",
     "start_time": "2024-07-23T10:19:44.228701Z"
    }
   },
   "cell_type": "code",
   "source": "c",
   "id": "dd53b1f3207fea7a",
   "outputs": [
    {
     "data": {
      "text/plain": [
       "array([[[1, 2, 3, 4, 5, 6]]])"
      ]
     },
     "execution_count": 417,
     "metadata": {},
     "output_type": "execute_result"
    }
   ],
   "execution_count": 417
  },
  {
   "metadata": {
    "ExecuteTime": {
     "end_time": "2024-07-23T10:19:44.843172Z",
     "start_time": "2024-07-23T10:19:44.837562Z"
    }
   },
   "cell_type": "code",
   "source": "type(c)",
   "id": "4f770daed459a20e",
   "outputs": [
    {
     "data": {
      "text/plain": [
       "numpy.ndarray"
      ]
     },
     "execution_count": 418,
     "metadata": {},
     "output_type": "execute_result"
    }
   ],
   "execution_count": 418
  },
  {
   "metadata": {
    "ExecuteTime": {
     "end_time": "2024-07-23T10:19:45.333546Z",
     "start_time": "2024-07-23T10:19:45.328202Z"
    }
   },
   "cell_type": "code",
   "source": "d = np.array((1, 2, 3))",
   "id": "507f6fd59f6367f8",
   "outputs": [],
   "execution_count": 419
  },
  {
   "metadata": {
    "ExecuteTime": {
     "end_time": "2024-07-23T10:19:45.985763Z",
     "start_time": "2024-07-23T10:19:45.979070Z"
    }
   },
   "cell_type": "code",
   "source": "d",
   "id": "31e575a4ea68504d",
   "outputs": [
    {
     "data": {
      "text/plain": [
       "array([1, 2, 3])"
      ]
     },
     "execution_count": 420,
     "metadata": {},
     "output_type": "execute_result"
    }
   ],
   "execution_count": 420
  },
  {
   "metadata": {
    "ExecuteTime": {
     "end_time": "2024-07-23T10:19:46.446396Z",
     "start_time": "2024-07-23T10:19:46.440762Z"
    }
   },
   "cell_type": "code",
   "source": "print(d)",
   "id": "557957734eae71",
   "outputs": [
    {
     "name": "stdout",
     "output_type": "stream",
     "text": [
      "[1 2 3]\n"
     ]
    }
   ],
   "execution_count": 421
  },
  {
   "metadata": {
    "ExecuteTime": {
     "end_time": "2024-07-23T10:19:46.977200Z",
     "start_time": "2024-07-23T10:19:46.971562Z"
    }
   },
   "cell_type": "code",
   "source": "type(d)",
   "id": "707908bc1f35d5f",
   "outputs": [
    {
     "data": {
      "text/plain": [
       "numpy.ndarray"
      ]
     },
     "execution_count": 422,
     "metadata": {},
     "output_type": "execute_result"
    }
   ],
   "execution_count": 422
  },
  {
   "metadata": {
    "ExecuteTime": {
     "end_time": "2024-07-23T10:19:47.516218Z",
     "start_time": "2024-07-23T10:19:47.512798Z"
    }
   },
   "cell_type": "code",
   "source": "",
   "id": "4d16c36d94bc3cae",
   "outputs": [],
   "execution_count": 422
  },
  {
   "metadata": {
    "ExecuteTime": {
     "end_time": "2024-07-23T10:19:48.426526Z",
     "start_time": "2024-07-23T10:19:48.423106Z"
    }
   },
   "cell_type": "code",
   "source": "",
   "id": "4af5e0d72700ac5b",
   "outputs": [],
   "execution_count": 422
  },
  {
   "metadata": {},
   "cell_type": "markdown",
   "source": [
    "# difference between scalar, vector, matrices and tensor\n",
    "\n",
    "* scalar : 1,2,3 . weight , temperature etc\n",
    "* one dimensional is the vector\n",
    "* two dimensional is the matrix (multiple is matrices)\n",
    "* greater than two dimensional is called tensor"
   ],
   "id": "32733d72b2f18cc0"
  },
  {
   "metadata": {
    "ExecuteTime": {
     "end_time": "2024-07-23T10:19:48.931387Z",
     "start_time": "2024-07-23T10:19:48.926389Z"
    }
   },
   "cell_type": "code",
   "source": "scalar = np.array(1)  # this is the scalar",
   "id": "103d263b7f06694a",
   "outputs": [],
   "execution_count": 423
  },
  {
   "metadata": {
    "ExecuteTime": {
     "end_time": "2024-07-23T10:19:49.544031Z",
     "start_time": "2024-07-23T10:19:49.538071Z"
    }
   },
   "cell_type": "code",
   "source": "scalar.ndim",
   "id": "ec2367c9d1e16906",
   "outputs": [
    {
     "data": {
      "text/plain": [
       "0"
      ]
     },
     "execution_count": 424,
     "metadata": {},
     "output_type": "execute_result"
    }
   ],
   "execution_count": 424
  },
  {
   "metadata": {
    "ExecuteTime": {
     "end_time": "2024-07-23T10:19:50.227866Z",
     "start_time": "2024-07-23T10:19:50.222126Z"
    }
   },
   "cell_type": "code",
   "source": "d = np.array((1, 2, 3))  # this is the vector",
   "id": "8e81b0e9b44cfa89",
   "outputs": [],
   "execution_count": 425
  },
  {
   "metadata": {},
   "cell_type": "markdown",
   "source": "",
   "id": "3dd84f080650598c"
  },
  {
   "metadata": {
    "ExecuteTime": {
     "end_time": "2024-07-23T10:19:50.781310Z",
     "start_time": "2024-07-23T10:19:50.774601Z"
    }
   },
   "cell_type": "code",
   "source": "b = np.array([[1, 2, 3, 4, 5, 6], [1, 2, 3, 4, 5, 6]])  # this is the matrix",
   "id": "a2ad831bfdc1578c",
   "outputs": [],
   "execution_count": 426
  },
  {
   "metadata": {
    "ExecuteTime": {
     "end_time": "2024-07-23T10:19:51.591760Z",
     "start_time": "2024-07-23T10:19:51.587662Z"
    }
   },
   "cell_type": "code",
   "source": "c = np.array([[[1, 2, 3, 4, 5, 6]]])  # this is the tensor",
   "id": "cd2a6bcc67924da3",
   "outputs": [],
   "execution_count": 427
  },
  {
   "metadata": {},
   "cell_type": "markdown",
   "source": "",
   "id": "fb68b89b066e8723"
  },
  {
   "metadata": {},
   "cell_type": "markdown",
   "source": [
    "## numpy data types\n",
    "\n",
    "* integer \n",
    "* float\n",
    "* complex\n",
    "* boolean\n",
    "* string\n",
    "* "
   ],
   "id": "1e531219043f72b0"
  },
  {
   "metadata": {
    "ExecuteTime": {
     "end_time": "2024-07-23T10:19:52.055818Z",
     "start_time": "2024-07-23T10:19:52.051902Z"
    }
   },
   "cell_type": "code",
   "source": "zero1 = np.zeros(1)",
   "id": "162545ce230a2740",
   "outputs": [],
   "execution_count": 428
  },
  {
   "metadata": {
    "ExecuteTime": {
     "end_time": "2024-07-23T10:19:52.710446Z",
     "start_time": "2024-07-23T10:19:52.700013Z"
    }
   },
   "cell_type": "code",
   "source": "zero1",
   "id": "f685e1d7b6907a01",
   "outputs": [
    {
     "data": {
      "text/plain": [
       "array([0.])"
      ]
     },
     "execution_count": 429,
     "metadata": {},
     "output_type": "execute_result"
    }
   ],
   "execution_count": 429
  },
  {
   "metadata": {
    "ExecuteTime": {
     "end_time": "2024-07-23T10:19:53.244391Z",
     "start_time": "2024-07-23T10:19:53.235927Z"
    }
   },
   "cell_type": "code",
   "source": "np.zeros((3))",
   "id": "ea28bea0e31a8062",
   "outputs": [
    {
     "data": {
      "text/plain": [
       "array([0., 0., 0.])"
      ]
     },
     "execution_count": 430,
     "metadata": {},
     "output_type": "execute_result"
    }
   ],
   "execution_count": 430
  },
  {
   "metadata": {
    "ExecuteTime": {
     "end_time": "2024-07-23T10:19:53.862695Z",
     "start_time": "2024-07-23T10:19:53.854921Z"
    }
   },
   "cell_type": "code",
   "source": "np.zeros((3, 3))\n",
   "id": "1c9d3bb6120005a5",
   "outputs": [
    {
     "data": {
      "text/plain": [
       "array([[0., 0., 0.],\n",
       "       [0., 0., 0.],\n",
       "       [0., 0., 0.]])"
      ]
     },
     "execution_count": 431,
     "metadata": {},
     "output_type": "execute_result"
    }
   ],
   "execution_count": 431
  },
  {
   "metadata": {
    "ExecuteTime": {
     "end_time": "2024-07-23T10:19:54.438367Z",
     "start_time": "2024-07-23T10:19:54.432124Z"
    }
   },
   "cell_type": "code",
   "source": "np.zeros((3, 3, 3))\n",
   "id": "65179c5e3015b71",
   "outputs": [
    {
     "data": {
      "text/plain": [
       "array([[[0., 0., 0.],\n",
       "        [0., 0., 0.],\n",
       "        [0., 0., 0.]],\n",
       "\n",
       "       [[0., 0., 0.],\n",
       "        [0., 0., 0.],\n",
       "        [0., 0., 0.]],\n",
       "\n",
       "       [[0., 0., 0.],\n",
       "        [0., 0., 0.],\n",
       "        [0., 0., 0.]]])"
      ]
     },
     "execution_count": 432,
     "metadata": {},
     "output_type": "execute_result"
    }
   ],
   "execution_count": 432
  },
  {
   "metadata": {
    "ExecuteTime": {
     "end_time": "2024-07-23T10:19:55.030802Z",
     "start_time": "2024-07-23T10:19:55.018574Z"
    }
   },
   "cell_type": "code",
   "source": "np.zeros((3, 3, 3, 3))",
   "id": "7c1e7cf6ea9537ed",
   "outputs": [
    {
     "data": {
      "text/plain": [
       "array([[[[0., 0., 0.],\n",
       "         [0., 0., 0.],\n",
       "         [0., 0., 0.]],\n",
       "\n",
       "        [[0., 0., 0.],\n",
       "         [0., 0., 0.],\n",
       "         [0., 0., 0.]],\n",
       "\n",
       "        [[0., 0., 0.],\n",
       "         [0., 0., 0.],\n",
       "         [0., 0., 0.]]],\n",
       "\n",
       "\n",
       "       [[[0., 0., 0.],\n",
       "         [0., 0., 0.],\n",
       "         [0., 0., 0.]],\n",
       "\n",
       "        [[0., 0., 0.],\n",
       "         [0., 0., 0.],\n",
       "         [0., 0., 0.]],\n",
       "\n",
       "        [[0., 0., 0.],\n",
       "         [0., 0., 0.],\n",
       "         [0., 0., 0.]]],\n",
       "\n",
       "\n",
       "       [[[0., 0., 0.],\n",
       "         [0., 0., 0.],\n",
       "         [0., 0., 0.]],\n",
       "\n",
       "        [[0., 0., 0.],\n",
       "         [0., 0., 0.],\n",
       "         [0., 0., 0.]],\n",
       "\n",
       "        [[0., 0., 0.],\n",
       "         [0., 0., 0.],\n",
       "         [0., 0., 0.]]]])"
      ]
     },
     "execution_count": 433,
     "metadata": {},
     "output_type": "execute_result"
    }
   ],
   "execution_count": 433
  },
  {
   "metadata": {
    "ExecuteTime": {
     "end_time": "2024-07-23T10:19:55.540226Z",
     "start_time": "2024-07-23T10:19:55.534140Z"
    }
   },
   "cell_type": "code",
   "source": "np.ones((3))",
   "id": "fc4f517ea40b74ea",
   "outputs": [
    {
     "data": {
      "text/plain": [
       "array([1., 1., 1.])"
      ]
     },
     "execution_count": 434,
     "metadata": {},
     "output_type": "execute_result"
    }
   ],
   "execution_count": 434
  },
  {
   "metadata": {
    "ExecuteTime": {
     "end_time": "2024-07-23T10:19:56.262331Z",
     "start_time": "2024-07-23T10:19:56.246345Z"
    }
   },
   "cell_type": "code",
   "source": "np.ones((3, 3))",
   "id": "74dba8dfd0ed7260",
   "outputs": [
    {
     "data": {
      "text/plain": [
       "array([[1., 1., 1.],\n",
       "       [1., 1., 1.],\n",
       "       [1., 1., 1.]])"
      ]
     },
     "execution_count": 435,
     "metadata": {},
     "output_type": "execute_result"
    }
   ],
   "execution_count": 435
  },
  {
   "metadata": {
    "ExecuteTime": {
     "end_time": "2024-07-23T10:19:56.782766Z",
     "start_time": "2024-07-23T10:19:56.774670Z"
    }
   },
   "cell_type": "code",
   "source": "np.ones((3, 3, 3))",
   "id": "3b6ca676d999c38e",
   "outputs": [
    {
     "data": {
      "text/plain": [
       "array([[[1., 1., 1.],\n",
       "        [1., 1., 1.],\n",
       "        [1., 1., 1.]],\n",
       "\n",
       "       [[1., 1., 1.],\n",
       "        [1., 1., 1.],\n",
       "        [1., 1., 1.]],\n",
       "\n",
       "       [[1., 1., 1.],\n",
       "        [1., 1., 1.],\n",
       "        [1., 1., 1.]]])"
      ]
     },
     "execution_count": 436,
     "metadata": {},
     "output_type": "execute_result"
    }
   ],
   "execution_count": 436
  },
  {
   "metadata": {
    "ExecuteTime": {
     "end_time": "2024-07-23T10:19:57.489635Z",
     "start_time": "2024-07-23T10:19:57.480850Z"
    }
   },
   "cell_type": "code",
   "source": "np.ones((3, 3, 3, 3))",
   "id": "d6c3b8b653693f34",
   "outputs": [
    {
     "data": {
      "text/plain": [
       "array([[[[1., 1., 1.],\n",
       "         [1., 1., 1.],\n",
       "         [1., 1., 1.]],\n",
       "\n",
       "        [[1., 1., 1.],\n",
       "         [1., 1., 1.],\n",
       "         [1., 1., 1.]],\n",
       "\n",
       "        [[1., 1., 1.],\n",
       "         [1., 1., 1.],\n",
       "         [1., 1., 1.]]],\n",
       "\n",
       "\n",
       "       [[[1., 1., 1.],\n",
       "         [1., 1., 1.],\n",
       "         [1., 1., 1.]],\n",
       "\n",
       "        [[1., 1., 1.],\n",
       "         [1., 1., 1.],\n",
       "         [1., 1., 1.]],\n",
       "\n",
       "        [[1., 1., 1.],\n",
       "         [1., 1., 1.],\n",
       "         [1., 1., 1.]]],\n",
       "\n",
       "\n",
       "       [[[1., 1., 1.],\n",
       "         [1., 1., 1.],\n",
       "         [1., 1., 1.]],\n",
       "\n",
       "        [[1., 1., 1.],\n",
       "         [1., 1., 1.],\n",
       "         [1., 1., 1.]],\n",
       "\n",
       "        [[1., 1., 1.],\n",
       "         [1., 1., 1.],\n",
       "         [1., 1., 1.]]]])"
      ]
     },
     "execution_count": 437,
     "metadata": {},
     "output_type": "execute_result"
    }
   ],
   "execution_count": 437
  },
  {
   "metadata": {
    "ExecuteTime": {
     "end_time": "2024-07-23T10:19:58.210580Z",
     "start_time": "2024-07-23T10:19:58.202630Z"
    }
   },
   "cell_type": "code",
   "source": "np.empty(3)",
   "id": "e295fd2f30265188",
   "outputs": [
    {
     "data": {
      "text/plain": [
       "array([1., 1., 1.])"
      ]
     },
     "execution_count": 438,
     "metadata": {},
     "output_type": "execute_result"
    }
   ],
   "execution_count": 438
  },
  {
   "metadata": {
    "ExecuteTime": {
     "end_time": "2024-07-23T10:19:58.767403Z",
     "start_time": "2024-07-23T10:19:58.759199Z"
    }
   },
   "cell_type": "code",
   "source": "np.arange(-5, 6)",
   "id": "99f7e8051db67b2b",
   "outputs": [
    {
     "data": {
      "text/plain": [
       "array([-5, -4, -3, -2, -1,  0,  1,  2,  3,  4,  5])"
      ]
     },
     "execution_count": 439,
     "metadata": {},
     "output_type": "execute_result"
    }
   ],
   "execution_count": 439
  },
  {
   "metadata": {
    "ExecuteTime": {
     "end_time": "2024-07-23T10:19:59.549498Z",
     "start_time": "2024-07-23T10:19:59.540732Z"
    }
   },
   "cell_type": "code",
   "source": "np.arange(0, 11, 2)",
   "id": "3562d5ec45c033a6",
   "outputs": [
    {
     "data": {
      "text/plain": [
       "array([ 0,  2,  4,  6,  8, 10])"
      ]
     },
     "execution_count": 440,
     "metadata": {},
     "output_type": "execute_result"
    }
   ],
   "execution_count": 440
  },
  {
   "metadata": {
    "ExecuteTime": {
     "end_time": "2024-07-23T10:20:00.206189Z",
     "start_time": "2024-07-23T10:20:00.197185Z"
    }
   },
   "cell_type": "code",
   "source": "np.linspace(1, 10, 11)",
   "id": "f18fb0ec94b38401",
   "outputs": [
    {
     "data": {
      "text/plain": [
       "array([ 1. ,  1.9,  2.8,  3.7,  4.6,  5.5,  6.4,  7.3,  8.2,  9.1, 10. ])"
      ]
     },
     "execution_count": 441,
     "metadata": {},
     "output_type": "execute_result"
    }
   ],
   "execution_count": 441
  },
  {
   "metadata": {},
   "cell_type": "markdown",
   "source": [
    "# python range vs numpy arange \n",
    "\n",
    "np.arange() produce an array a list of numbers\n",
    "\n",
    "\n",
    "range produce  a list\n"
   ],
   "id": "72f02cf669c903c3"
  },
  {
   "metadata": {
    "ExecuteTime": {
     "end_time": "2024-07-23T10:20:00.986619Z",
     "start_time": "2024-07-23T10:20:00.980378Z"
    }
   },
   "cell_type": "code",
   "source": "np.arange(1, 10)",
   "id": "8b59e0f20ef6af32",
   "outputs": [
    {
     "data": {
      "text/plain": [
       "array([1, 2, 3, 4, 5, 6, 7, 8, 9])"
      ]
     },
     "execution_count": 442,
     "metadata": {},
     "output_type": "execute_result"
    }
   ],
   "execution_count": 442
  },
  {
   "metadata": {
    "ExecuteTime": {
     "end_time": "2024-07-23T10:20:01.537078Z",
     "start_time": "2024-07-23T10:20:01.526618Z"
    }
   },
   "cell_type": "code",
   "source": "np.arange(0, 10, 2)  # working like i += 2 ",
   "id": "41b2317d355a3698",
   "outputs": [
    {
     "data": {
      "text/plain": [
       "array([0, 2, 4, 6, 8])"
      ]
     },
     "execution_count": 443,
     "metadata": {},
     "output_type": "execute_result"
    }
   ],
   "execution_count": 443
  },
  {
   "metadata": {},
   "cell_type": "markdown",
   "source": [
    "## linspace \n",
    "produces values equally between two numbers\n",
    "\n",
    "\n",
    "need 15 numbers between 1,5, how?"
   ],
   "id": "2c90f62734aa8552"
  },
  {
   "metadata": {
    "ExecuteTime": {
     "end_time": "2024-07-23T10:20:02.423469Z",
     "start_time": "2024-07-23T10:20:02.400416Z"
    }
   },
   "cell_type": "code",
   "source": "np.linspace(1, 5, num=15)",
   "id": "b7be8c98a7a83e3f",
   "outputs": [
    {
     "data": {
      "text/plain": [
       "array([1.        , 1.28571429, 1.57142857, 1.85714286, 2.14285714,\n",
       "       2.42857143, 2.71428571, 3.        , 3.28571429, 3.57142857,\n",
       "       3.85714286, 4.14285714, 4.42857143, 4.71428571, 5.        ])"
      ]
     },
     "execution_count": 444,
     "metadata": {},
     "output_type": "execute_result"
    }
   ],
   "execution_count": 444
  },
  {
   "metadata": {},
   "cell_type": "markdown",
   "source": [
    "## reshape\n",
    "\n",
    "create a new shape with an existing array shape. change an array shape"
   ],
   "id": "e6cf05cdf67a9ded"
  },
  {
   "metadata": {
    "ExecuteTime": {
     "end_time": "2024-07-23T10:20:02.985505Z",
     "start_time": "2024-07-23T10:20:02.978397Z"
    }
   },
   "cell_type": "code",
   "source": "r_shape = np.array([1, 2, 3, 4, 5, 6, 7, 8, 9, 10, 11, 12])",
   "id": "217e958095ec1219",
   "outputs": [],
   "execution_count": 445
  },
  {
   "metadata": {
    "ExecuteTime": {
     "end_time": "2024-07-23T10:20:03.923866Z",
     "start_time": "2024-07-23T10:20:03.917756Z"
    }
   },
   "cell_type": "code",
   "source": "n_r_shape = np.reshape(r_shape, newshape=(3, 4))",
   "id": "83806ef5f3af583b",
   "outputs": [],
   "execution_count": 446
  },
  {
   "metadata": {
    "ExecuteTime": {
     "end_time": "2024-07-23T10:20:04.640975Z",
     "start_time": "2024-07-23T10:20:04.634881Z"
    }
   },
   "cell_type": "code",
   "source": "n_r_shape",
   "id": "98797a2b0f19a248",
   "outputs": [
    {
     "data": {
      "text/plain": [
       "array([[ 1,  2,  3,  4],\n",
       "       [ 5,  6,  7,  8],\n",
       "       [ 9, 10, 11, 12]])"
      ]
     },
     "execution_count": 447,
     "metadata": {},
     "output_type": "execute_result"
    }
   ],
   "execution_count": 447
  },
  {
   "metadata": {
    "ExecuteTime": {
     "end_time": "2024-07-23T10:20:05.046681Z",
     "start_time": "2024-07-23T10:20:05.042044Z"
    }
   },
   "cell_type": "code",
   "source": "n_r_shape = np.reshape(r_shape, newshape=(6, 2))",
   "id": "ce8060f0c942a81d",
   "outputs": [],
   "execution_count": 448
  },
  {
   "metadata": {
    "ExecuteTime": {
     "end_time": "2024-07-23T10:20:05.609176Z",
     "start_time": "2024-07-23T10:20:05.603217Z"
    }
   },
   "cell_type": "code",
   "source": "n_r_shape",
   "id": "b8244b428c8c810e",
   "outputs": [
    {
     "data": {
      "text/plain": [
       "array([[ 1,  2],\n",
       "       [ 3,  4],\n",
       "       [ 5,  6],\n",
       "       [ 7,  8],\n",
       "       [ 9, 10],\n",
       "       [11, 12]])"
      ]
     },
     "execution_count": 449,
     "metadata": {},
     "output_type": "execute_result"
    }
   ],
   "execution_count": 449
  },
  {
   "metadata": {
    "ExecuteTime": {
     "end_time": "2024-07-23T10:20:06.074027Z",
     "start_time": "2024-07-23T10:20:06.066253Z"
    }
   },
   "cell_type": "code",
   "source": "cc = np.array([0, 1, 2, 3, 4, 5, 6, 7, 8, 9, 10])",
   "id": "72d1f313374d5b4c",
   "outputs": [],
   "execution_count": 450
  },
  {
   "metadata": {
    "ExecuteTime": {
     "end_time": "2024-07-23T10:20:06.651107Z",
     "start_time": "2024-07-23T10:20:06.645088Z"
    }
   },
   "cell_type": "code",
   "source": "np.reshape(cc, newshape=(11, 1))",
   "id": "76f7db7aefa02ce7",
   "outputs": [
    {
     "data": {
      "text/plain": [
       "array([[ 0],\n",
       "       [ 1],\n",
       "       [ 2],\n",
       "       [ 3],\n",
       "       [ 4],\n",
       "       [ 5],\n",
       "       [ 6],\n",
       "       [ 7],\n",
       "       [ 8],\n",
       "       [ 9],\n",
       "       [10]])"
      ]
     },
     "execution_count": 451,
     "metadata": {},
     "output_type": "execute_result"
    }
   ],
   "execution_count": 451
  },
  {
   "metadata": {
    "ExecuteTime": {
     "end_time": "2024-07-23T10:20:07.222710Z",
     "start_time": "2024-07-23T10:20:07.211381Z"
    }
   },
   "cell_type": "code",
   "source": [
    "arr1 = np.array([[0, 1, 2, 3, 4, 5, ], [1, 2, 3, 4, 5, 6]])\n",
    "arr1.shape"
   ],
   "id": "701c25e061e6c941",
   "outputs": [
    {
     "data": {
      "text/plain": [
       "(2, 6)"
      ]
     },
     "execution_count": 452,
     "metadata": {},
     "output_type": "execute_result"
    }
   ],
   "execution_count": 452
  },
  {
   "metadata": {
    "ExecuteTime": {
     "end_time": "2024-07-23T10:20:07.804442Z",
     "start_time": "2024-07-23T10:20:07.798208Z"
    }
   },
   "cell_type": "code",
   "source": "arr1.size",
   "id": "3d7be1d49ce5ae24",
   "outputs": [
    {
     "data": {
      "text/plain": [
       "12"
      ]
     },
     "execution_count": 453,
     "metadata": {},
     "output_type": "execute_result"
    }
   ],
   "execution_count": 453
  },
  {
   "metadata": {
    "ExecuteTime": {
     "end_time": "2024-07-23T10:20:08.276722Z",
     "start_time": "2024-07-23T10:20:08.268833Z"
    }
   },
   "cell_type": "code",
   "source": "arr1.dtype",
   "id": "872d239ad4c6f696",
   "outputs": [
    {
     "data": {
      "text/plain": [
       "dtype('int64')"
      ]
     },
     "execution_count": 454,
     "metadata": {},
     "output_type": "execute_result"
    }
   ],
   "execution_count": 454
  },
  {
   "metadata": {
    "ExecuteTime": {
     "end_time": "2024-07-23T10:20:08.929356Z",
     "start_time": "2024-07-23T10:20:08.923686Z"
    }
   },
   "cell_type": "code",
   "source": "arr1.itemsize",
   "id": "78dfd0047ac8fbe5",
   "outputs": [
    {
     "data": {
      "text/plain": [
       "8"
      ]
     },
     "execution_count": 455,
     "metadata": {},
     "output_type": "execute_result"
    }
   ],
   "execution_count": 455
  },
  {
   "metadata": {
    "ExecuteTime": {
     "end_time": "2024-07-23T10:20:09.385924Z",
     "start_time": "2024-07-23T10:20:09.377231Z"
    }
   },
   "cell_type": "code",
   "source": [
    "arr2 = np.array([[[0, 1, 2, 3, 4, 5, ], [1, 2, 3, 4, 5, 6]]])\n",
    "arr2.shape"
   ],
   "id": "fa91e943812fa87b",
   "outputs": [
    {
     "data": {
      "text/plain": [
       "(1, 2, 6)"
      ]
     },
     "execution_count": 456,
     "metadata": {},
     "output_type": "execute_result"
    }
   ],
   "execution_count": 456
  },
  {
   "metadata": {
    "ExecuteTime": {
     "end_time": "2024-07-23T10:20:10.166061Z",
     "start_time": "2024-07-23T10:20:10.159462Z"
    }
   },
   "cell_type": "code",
   "source": "arr2.size",
   "id": "43adc69de7ca048c",
   "outputs": [
    {
     "data": {
      "text/plain": [
       "12"
      ]
     },
     "execution_count": 457,
     "metadata": {},
     "output_type": "execute_result"
    }
   ],
   "execution_count": 457
  },
  {
   "metadata": {
    "ExecuteTime": {
     "end_time": "2024-07-23T10:20:10.710330Z",
     "start_time": "2024-07-23T10:20:10.699972Z"
    }
   },
   "cell_type": "code",
   "source": "arr2.itemsize",
   "id": "95aa2edee9d98be4",
   "outputs": [
    {
     "data": {
      "text/plain": [
       "8"
      ]
     },
     "execution_count": 458,
     "metadata": {},
     "output_type": "execute_result"
    }
   ],
   "execution_count": 458
  },
  {
   "metadata": {
    "ExecuteTime": {
     "end_time": "2024-07-23T10:20:11.562342Z",
     "start_time": "2024-07-23T10:20:11.554256Z"
    }
   },
   "cell_type": "code",
   "source": "arr2.data",
   "id": "3473790a9f96738e",
   "outputs": [
    {
     "data": {
      "text/plain": [
       "<memory at 0x7c9445349b70>"
      ]
     },
     "execution_count": 459,
     "metadata": {},
     "output_type": "execute_result"
    }
   ],
   "execution_count": 459
  },
  {
   "metadata": {
    "ExecuteTime": {
     "end_time": "2024-07-23T10:20:12.091911Z",
     "start_time": "2024-07-23T10:20:12.088541Z"
    }
   },
   "cell_type": "code",
   "source": "",
   "id": "dd491201abdf2c5",
   "outputs": [],
   "execution_count": 459
  },
  {
   "metadata": {
    "ExecuteTime": {
     "end_time": "2024-07-23T10:20:12.765424Z",
     "start_time": "2024-07-23T10:20:12.759570Z"
    }
   },
   "cell_type": "code",
   "source": "# problems",
   "id": "60b6e415b657accc",
   "outputs": [],
   "execution_count": 460
  },
  {
   "metadata": {},
   "cell_type": "markdown",
   "source": "1. create a one dimensional array , 5 to 21",
   "id": "14653ec2d6a11a45"
  },
  {
   "metadata": {},
   "cell_type": "markdown",
   "source": "### sorting",
   "id": "5c18d9f3dfe77ce9"
  },
  {
   "metadata": {
    "ExecuteTime": {
     "end_time": "2024-07-23T10:20:13.311763Z",
     "start_time": "2024-07-23T10:20:13.302271Z"
    }
   },
   "cell_type": "code",
   "source": [
    "arr3 = np.array([7, 8, 4, 5, 3, 3, 4, 8, 8, 9, 4, 8, 2, 9])\n",
    "np.sort(arr3)"
   ],
   "id": "ccf819f5a3e227e4",
   "outputs": [
    {
     "data": {
      "text/plain": [
       "array([2, 3, 3, 4, 4, 4, 5, 7, 8, 8, 8, 8, 9, 9])"
      ]
     },
     "execution_count": 461,
     "metadata": {},
     "output_type": "execute_result"
    }
   ],
   "execution_count": 461
  },
  {
   "metadata": {},
   "cell_type": "markdown",
   "source": "### make two as one array",
   "id": "3fc412dd69c2b004"
  },
  {
   "metadata": {
    "ExecuteTime": {
     "end_time": "2024-07-23T10:20:13.882819Z",
     "start_time": "2024-07-23T10:20:13.878864Z"
    }
   },
   "cell_type": "code",
   "source": "h1 = np.array([1, 2, 3, 4, 5])",
   "id": "f4f5bfa1d8038577",
   "outputs": [],
   "execution_count": 462
  },
  {
   "metadata": {
    "ExecuteTime": {
     "end_time": "2024-07-23T10:20:14.252966Z",
     "start_time": "2024-07-23T10:20:14.247291Z"
    }
   },
   "cell_type": "code",
   "source": "h2 = np.array([1, 2, 3, 4, 5])",
   "id": "32bbc5ac4e37a711",
   "outputs": [],
   "execution_count": 463
  },
  {
   "metadata": {
    "ExecuteTime": {
     "end_time": "2024-07-23T10:20:14.931926Z",
     "start_time": "2024-07-23T10:20:14.924809Z"
    }
   },
   "cell_type": "code",
   "source": "np.concatenate((h1, h2))",
   "id": "ac0fd39535135d5e",
   "outputs": [
    {
     "data": {
      "text/plain": [
       "array([1, 2, 3, 4, 5, 1, 2, 3, 4, 5])"
      ]
     },
     "execution_count": 464,
     "metadata": {},
     "output_type": "execute_result"
    }
   ],
   "execution_count": 464
  },
  {
   "metadata": {
    "ExecuteTime": {
     "end_time": "2024-07-23T10:20:15.325492Z",
     "start_time": "2024-07-23T10:20:15.320726Z"
    }
   },
   "cell_type": "code",
   "source": "hh1 = np.array([[1, 2, 3], [4, 5, 6]])",
   "id": "ab979ce12602aa67",
   "outputs": [],
   "execution_count": 465
  },
  {
   "metadata": {
    "ExecuteTime": {
     "end_time": "2024-07-23T10:20:15.903890Z",
     "start_time": "2024-07-23T10:20:15.898987Z"
    }
   },
   "cell_type": "code",
   "source": "hh2 = np.array([[7, 8, 9], [10, 11, 12]])",
   "id": "d300610ad7b99e29",
   "outputs": [],
   "execution_count": 466
  },
  {
   "metadata": {
    "ExecuteTime": {
     "end_time": "2024-07-23T10:20:16.430773Z",
     "start_time": "2024-07-23T10:20:16.423251Z"
    }
   },
   "cell_type": "code",
   "source": "np.concatenate((hh1, hh2), axis=0)",
   "id": "471b3349f40f4341",
   "outputs": [
    {
     "data": {
      "text/plain": [
       "array([[ 1,  2,  3],\n",
       "       [ 4,  5,  6],\n",
       "       [ 7,  8,  9],\n",
       "       [10, 11, 12]])"
      ]
     },
     "execution_count": 467,
     "metadata": {},
     "output_type": "execute_result"
    }
   ],
   "execution_count": 467
  },
  {
   "metadata": {
    "ExecuteTime": {
     "end_time": "2024-07-23T10:20:17.058678Z",
     "start_time": "2024-07-23T10:20:17.051523Z"
    }
   },
   "cell_type": "code",
   "source": "np.concatenate((hh1, hh2), axis=1)",
   "id": "bbd2c684dd6f4450",
   "outputs": [
    {
     "data": {
      "text/plain": [
       "array([[ 1,  2,  3,  7,  8,  9],\n",
       "       [ 4,  5,  6, 10, 11, 12]])"
      ]
     },
     "execution_count": 468,
     "metadata": {},
     "output_type": "execute_result"
    }
   ],
   "execution_count": 468
  },
  {
   "metadata": {
    "ExecuteTime": {
     "end_time": "2024-07-23T10:20:17.558126Z",
     "start_time": "2024-07-23T10:20:17.554934Z"
    }
   },
   "cell_type": "code",
   "source": "",
   "id": "4a2bd6bd04d2a553",
   "outputs": [],
   "execution_count": 468
  },
  {
   "metadata": {
    "ExecuteTime": {
     "end_time": "2024-07-23T10:20:18.333865Z",
     "start_time": "2024-07-23T10:20:18.329596Z"
    }
   },
   "cell_type": "code",
   "source": "",
   "id": "1a257ccc0bee0276",
   "outputs": [],
   "execution_count": 468
  },
  {
   "metadata": {
    "ExecuteTime": {
     "end_time": "2024-07-23T10:20:18.758949Z",
     "start_time": "2024-07-23T10:20:18.753417Z"
    }
   },
   "cell_type": "code",
   "source": "",
   "id": "78636c8df41b7a9d",
   "outputs": [],
   "execution_count": 468
  },
  {
   "metadata": {
    "ExecuteTime": {
     "end_time": "2024-07-23T10:20:19.249129Z",
     "start_time": "2024-07-23T10:20:19.244406Z"
    }
   },
   "cell_type": "code",
   "source": "",
   "id": "d06c0632b28baef3",
   "outputs": [],
   "execution_count": 468
  },
  {
   "metadata": {},
   "cell_type": "markdown",
   "source": "### indexing and slicing",
   "id": "166bd1a7d7fdccb5"
  },
  {
   "metadata": {
    "ExecuteTime": {
     "end_time": "2024-07-23T10:20:19.736420Z",
     "start_time": "2024-07-23T10:20:19.731937Z"
    }
   },
   "cell_type": "code",
   "source": "index1 = np.array([0, 1, 2, 3, 4, 5, 6, 7, 8, 9, 10])",
   "id": "3a02beace7626da4",
   "outputs": [],
   "execution_count": 469
  },
  {
   "metadata": {
    "ExecuteTime": {
     "end_time": "2024-07-23T10:20:20.070638Z",
     "start_time": "2024-07-23T10:20:20.064362Z"
    }
   },
   "cell_type": "code",
   "source": "index1[5]",
   "id": "329b46c8a30278ce",
   "outputs": [
    {
     "data": {
      "text/plain": [
       "5"
      ]
     },
     "execution_count": 470,
     "metadata": {},
     "output_type": "execute_result"
    }
   ],
   "execution_count": 470
  },
  {
   "metadata": {
    "ExecuteTime": {
     "end_time": "2024-07-23T10:20:20.649088Z",
     "start_time": "2024-07-23T10:20:20.633744Z"
    }
   },
   "cell_type": "code",
   "source": "index1[-1]",
   "id": "72f45dcc8e1b7750",
   "outputs": [
    {
     "data": {
      "text/plain": [
       "10"
      ]
     },
     "execution_count": 471,
     "metadata": {},
     "output_type": "execute_result"
    }
   ],
   "execution_count": 471
  },
  {
   "metadata": {
    "ExecuteTime": {
     "end_time": "2024-07-23T10:20:21.116237Z",
     "start_time": "2024-07-23T10:20:21.108843Z"
    }
   },
   "cell_type": "code",
   "source": "index1[3:9]",
   "id": "b7e8e2b4e29e18dd",
   "outputs": [
    {
     "data": {
      "text/plain": [
       "array([3, 4, 5, 6, 7, 8])"
      ]
     },
     "execution_count": 472,
     "metadata": {},
     "output_type": "execute_result"
    }
   ],
   "execution_count": 472
  },
  {
   "metadata": {
    "ExecuteTime": {
     "end_time": "2024-07-23T10:20:21.936703Z",
     "start_time": "2024-07-23T10:20:21.923535Z"
    }
   },
   "cell_type": "code",
   "source": "index1[:]",
   "id": "cfa7bd5e977289c6",
   "outputs": [
    {
     "data": {
      "text/plain": [
       "array([ 0,  1,  2,  3,  4,  5,  6,  7,  8,  9, 10])"
      ]
     },
     "execution_count": 473,
     "metadata": {},
     "output_type": "execute_result"
    }
   ],
   "execution_count": 473
  },
  {
   "metadata": {
    "ExecuteTime": {
     "end_time": "2024-07-23T10:20:22.773733Z",
     "start_time": "2024-07-23T10:20:22.755894Z"
    }
   },
   "cell_type": "code",
   "source": "index1[4:]",
   "id": "afa387efc6f00fe",
   "outputs": [
    {
     "data": {
      "text/plain": [
       "array([ 4,  5,  6,  7,  8,  9, 10])"
      ]
     },
     "execution_count": 474,
     "metadata": {},
     "output_type": "execute_result"
    }
   ],
   "execution_count": 474
  },
  {
   "metadata": {
    "ExecuteTime": {
     "end_time": "2024-07-23T10:20:23.362530Z",
     "start_time": "2024-07-23T10:20:23.355102Z"
    }
   },
   "cell_type": "code",
   "source": "index1[:5]",
   "id": "84355b6353fb4625",
   "outputs": [
    {
     "data": {
      "text/plain": [
       "array([0, 1, 2, 3, 4])"
      ]
     },
     "execution_count": 475,
     "metadata": {},
     "output_type": "execute_result"
    }
   ],
   "execution_count": 475
  },
  {
   "metadata": {
    "ExecuteTime": {
     "end_time": "2024-07-23T10:20:24.173797Z",
     "start_time": "2024-07-23T10:20:24.166168Z"
    }
   },
   "cell_type": "code",
   "source": "index1[-3:]",
   "id": "bff729d9fe20431f",
   "outputs": [
    {
     "data": {
      "text/plain": [
       "array([ 8,  9, 10])"
      ]
     },
     "execution_count": 476,
     "metadata": {},
     "output_type": "execute_result"
    }
   ],
   "execution_count": 476
  },
  {
   "metadata": {
    "ExecuteTime": {
     "end_time": "2024-07-23T10:20:24.871138Z",
     "start_time": "2024-07-23T10:20:24.864201Z"
    }
   },
   "cell_type": "code",
   "source": "index1[-2:1]",
   "id": "554ddaa4f668e8f4",
   "outputs": [
    {
     "data": {
      "text/plain": [
       "array([], dtype=int64)"
      ]
     },
     "execution_count": 477,
     "metadata": {},
     "output_type": "execute_result"
    }
   ],
   "execution_count": 477
  },
  {
   "metadata": {
    "ExecuteTime": {
     "end_time": "2024-07-23T10:20:25.315064Z",
     "start_time": "2024-07-23T10:20:25.308735Z"
    }
   },
   "cell_type": "code",
   "source": "index1[0:-2]",
   "id": "db47dc708be4a820",
   "outputs": [
    {
     "data": {
      "text/plain": [
       "array([0, 1, 2, 3, 4, 5, 6, 7, 8])"
      ]
     },
     "execution_count": 478,
     "metadata": {},
     "output_type": "execute_result"
    }
   ],
   "execution_count": 478
  },
  {
   "metadata": {
    "ExecuteTime": {
     "end_time": "2024-07-23T10:20:25.972297Z",
     "start_time": "2024-07-23T10:20:25.966343Z"
    }
   },
   "cell_type": "code",
   "source": "index1[:-2]",
   "id": "174164d4197b1903",
   "outputs": [
    {
     "data": {
      "text/plain": [
       "array([0, 1, 2, 3, 4, 5, 6, 7, 8])"
      ]
     },
     "execution_count": 479,
     "metadata": {},
     "output_type": "execute_result"
    }
   ],
   "execution_count": 479
  },
  {
   "metadata": {
    "ExecuteTime": {
     "end_time": "2024-07-23T10:20:26.726571Z",
     "start_time": "2024-07-23T10:20:26.718789Z"
    }
   },
   "cell_type": "code",
   "source": [
    "# [0, 1, 2, 3, 4, 5, 6, 7, 8, 9, 10]\n",
    "index1[-2:2]"
   ],
   "id": "c72ce6574e700b99",
   "outputs": [
    {
     "data": {
      "text/plain": [
       "array([], dtype=int64)"
      ]
     },
     "execution_count": 480,
     "metadata": {},
     "output_type": "execute_result"
    }
   ],
   "execution_count": 480
  },
  {
   "metadata": {
    "ExecuteTime": {
     "end_time": "2024-07-23T10:20:27.426904Z",
     "start_time": "2024-07-23T10:20:27.420091Z"
    }
   },
   "cell_type": "code",
   "source": "index1[-2:-9]",
   "id": "d8a1f0406ff27ff6",
   "outputs": [
    {
     "data": {
      "text/plain": [
       "array([], dtype=int64)"
      ]
     },
     "execution_count": 481,
     "metadata": {},
     "output_type": "execute_result"
    }
   ],
   "execution_count": 481
  },
  {
   "metadata": {
    "ExecuteTime": {
     "end_time": "2024-07-23T10:20:27.963922Z",
     "start_time": "2024-07-23T10:20:27.956237Z"
    }
   },
   "cell_type": "code",
   "source": "index1[-9:-1]",
   "id": "1b0e6eb3c103598a",
   "outputs": [
    {
     "data": {
      "text/plain": [
       "array([2, 3, 4, 5, 6, 7, 8, 9])"
      ]
     },
     "execution_count": 482,
     "metadata": {},
     "output_type": "execute_result"
    }
   ],
   "execution_count": 482
  },
  {
   "metadata": {
    "ExecuteTime": {
     "end_time": "2024-07-23T10:20:28.672182Z",
     "start_time": "2024-07-23T10:20:28.661894Z"
    }
   },
   "cell_type": "code",
   "source": "index1[-9:6]",
   "id": "ad47dc93cb3accb2",
   "outputs": [
    {
     "data": {
      "text/plain": [
       "array([2, 3, 4, 5])"
      ]
     },
     "execution_count": 483,
     "metadata": {},
     "output_type": "execute_result"
    }
   ],
   "execution_count": 483
  },
  {
   "metadata": {
    "ExecuteTime": {
     "end_time": "2024-07-23T10:20:29.179413Z",
     "start_time": "2024-07-23T10:20:29.176582Z"
    }
   },
   "cell_type": "code",
   "source": "",
   "id": "71db05e891a5a2d7",
   "outputs": [],
   "execution_count": 483
  },
  {
   "metadata": {
    "ExecuteTime": {
     "end_time": "2024-07-23T10:20:29.820335Z",
     "start_time": "2024-07-23T10:20:29.817031Z"
    }
   },
   "cell_type": "code",
   "source": "",
   "id": "e731fbaddba6655",
   "outputs": [],
   "execution_count": 483
  },
  {
   "metadata": {},
   "cell_type": "markdown",
   "source": "### create an array from existing one",
   "id": "f0b79716bd0fca04"
  },
  {
   "metadata": {
    "ExecuteTime": {
     "end_time": "2024-07-23T10:20:30.376684Z",
     "start_time": "2024-07-23T10:20:30.371879Z"
    }
   },
   "cell_type": "code",
   "source": "main_arr1 = np.array([0, 1, 2, 3, 4, 5, 6, 7, 8, 9, 10])",
   "id": "cb22e56223884329",
   "outputs": [],
   "execution_count": 484
  },
  {
   "metadata": {
    "ExecuteTime": {
     "end_time": "2024-07-23T10:20:30.958334Z",
     "start_time": "2024-07-23T10:20:30.953853Z"
    }
   },
   "cell_type": "code",
   "source": "",
   "id": "9c042965e69d681d",
   "outputs": [],
   "execution_count": 484
  },
  {
   "metadata": {
    "ExecuteTime": {
     "end_time": "2024-07-23T10:20:31.328064Z",
     "start_time": "2024-07-23T10:20:31.317598Z"
    }
   },
   "cell_type": "code",
   "source": "main_arr1[main_arr1 < 4]",
   "id": "702dded70df283a9",
   "outputs": [
    {
     "data": {
      "text/plain": [
       "array([0, 1, 2, 3])"
      ]
     },
     "execution_count": 485,
     "metadata": {},
     "output_type": "execute_result"
    }
   ],
   "execution_count": 485
  },
  {
   "metadata": {},
   "cell_type": "markdown",
   "source": "### even and odd number",
   "id": "adac6fb64d54a185"
  },
  {
   "metadata": {
    "ExecuteTime": {
     "end_time": "2024-07-23T10:20:31.868677Z",
     "start_time": "2024-07-23T10:20:31.861624Z"
    }
   },
   "cell_type": "code",
   "source": "main_arr1[main_arr1 % 2 == 0]",
   "id": "bef74d80c716f651",
   "outputs": [
    {
     "data": {
      "text/plain": [
       "array([ 0,  2,  4,  6,  8, 10])"
      ]
     },
     "execution_count": 486,
     "metadata": {},
     "output_type": "execute_result"
    }
   ],
   "execution_count": 486
  },
  {
   "metadata": {
    "ExecuteTime": {
     "end_time": "2024-07-23T10:20:32.331077Z",
     "start_time": "2024-07-23T10:20:32.321683Z"
    }
   },
   "cell_type": "code",
   "source": "main_arr1[main_arr1 % 2]",
   "id": "98ffd40f44f930f7",
   "outputs": [
    {
     "data": {
      "text/plain": [
       "array([0, 1, 0, 1, 0, 1, 0, 1, 0, 1, 0])"
      ]
     },
     "execution_count": 487,
     "metadata": {},
     "output_type": "execute_result"
    }
   ],
   "execution_count": 487
  },
  {
   "metadata": {
    "ExecuteTime": {
     "end_time": "2024-07-23T10:20:33.298219Z",
     "start_time": "2024-07-23T10:20:33.289584Z"
    }
   },
   "cell_type": "code",
   "source": "main_arr1[main_arr1 % 2 == 1]",
   "id": "7dbe4e8cca6957f8",
   "outputs": [
    {
     "data": {
      "text/plain": [
       "array([1, 3, 5, 7, 9])"
      ]
     },
     "execution_count": 488,
     "metadata": {},
     "output_type": "execute_result"
    }
   ],
   "execution_count": 488
  },
  {
   "metadata": {
    "ExecuteTime": {
     "end_time": "2024-07-23T10:20:33.655678Z",
     "start_time": "2024-07-23T10:20:33.644970Z"
    }
   },
   "cell_type": "code",
   "source": "main_arr1[(main_arr1 > 2) & (main_arr1 < 6)]",
   "id": "3e496148c88433f",
   "outputs": [
    {
     "data": {
      "text/plain": [
       "array([3, 4, 5])"
      ]
     },
     "execution_count": 489,
     "metadata": {},
     "output_type": "execute_result"
    }
   ],
   "execution_count": 489
  },
  {
   "metadata": {
    "ExecuteTime": {
     "end_time": "2024-07-23T10:20:34.350450Z",
     "start_time": "2024-07-23T10:20:34.341533Z"
    }
   },
   "cell_type": "code",
   "source": "main_arr1[(main_arr1 > 2) | (main_arr1 < 6)]",
   "id": "fa9f83a3fb8c3af6",
   "outputs": [
    {
     "data": {
      "text/plain": [
       "array([ 0,  1,  2,  3,  4,  5,  6,  7,  8,  9, 10])"
      ]
     },
     "execution_count": 490,
     "metadata": {},
     "output_type": "execute_result"
    }
   ],
   "execution_count": 490
  },
  {
   "metadata": {
    "ExecuteTime": {
     "end_time": "2024-07-23T10:20:34.847706Z",
     "start_time": "2024-07-23T10:20:34.839744Z"
    }
   },
   "cell_type": "code",
   "source": "(main_arr1 > 2) & (main_arr1 < 6)",
   "id": "539c4bcb34888e6e",
   "outputs": [
    {
     "data": {
      "text/plain": [
       "array([False, False, False,  True,  True,  True, False, False, False,\n",
       "       False, False])"
      ]
     },
     "execution_count": 491,
     "metadata": {},
     "output_type": "execute_result"
    }
   ],
   "execution_count": 491
  },
  {
   "metadata": {
    "ExecuteTime": {
     "end_time": "2024-07-23T10:20:35.553020Z",
     "start_time": "2024-07-23T10:20:35.546246Z"
    }
   },
   "cell_type": "code",
   "source": "np.arange(0, 25).reshape(5, 5)",
   "id": "3f5753b2e303fb43",
   "outputs": [
    {
     "data": {
      "text/plain": [
       "array([[ 0,  1,  2,  3,  4],\n",
       "       [ 5,  6,  7,  8,  9],\n",
       "       [10, 11, 12, 13, 14],\n",
       "       [15, 16, 17, 18, 19],\n",
       "       [20, 21, 22, 23, 24]])"
      ]
     },
     "execution_count": 492,
     "metadata": {},
     "output_type": "execute_result"
    }
   ],
   "execution_count": 492
  },
  {
   "metadata": {
    "ExecuteTime": {
     "end_time": "2024-07-23T10:20:36.057307Z",
     "start_time": "2024-07-23T10:20:36.052020Z"
    }
   },
   "cell_type": "code",
   "source": [
    "two_d_arr = np.array([\n",
    "    [1, 2, 3, 4],\n",
    "    [5, 6, 7, 8],\n",
    "    [5, 6, 7, 8]\n",
    "])"
   ],
   "id": "cc6fd82815244d6c",
   "outputs": [],
   "execution_count": 493
  },
  {
   "metadata": {
    "ExecuteTime": {
     "end_time": "2024-07-23T10:20:36.720712Z",
     "start_time": "2024-07-23T10:20:36.714949Z"
    }
   },
   "cell_type": "code",
   "source": "two_d_arr[1][1]",
   "id": "c1b19b995a228784",
   "outputs": [
    {
     "data": {
      "text/plain": [
       "6"
      ]
     },
     "execution_count": 494,
     "metadata": {},
     "output_type": "execute_result"
    }
   ],
   "execution_count": 494
  },
  {
   "metadata": {
    "ExecuteTime": {
     "end_time": "2024-07-23T10:20:37.211973Z",
     "start_time": "2024-07-23T10:20:37.208654Z"
    }
   },
   "cell_type": "code",
   "source": "",
   "id": "efd9646fccb58d66",
   "outputs": [],
   "execution_count": 494
  },
  {
   "metadata": {
    "ExecuteTime": {
     "end_time": "2024-07-23T10:20:37.734880Z",
     "start_time": "2024-07-23T10:20:37.728747Z"
    }
   },
   "cell_type": "code",
   "source": "two_d_arr[0:2, 1:3]",
   "id": "eb89ba373ca506a6",
   "outputs": [
    {
     "data": {
      "text/plain": [
       "array([[2, 3],\n",
       "       [6, 7]])"
      ]
     },
     "execution_count": 495,
     "metadata": {},
     "output_type": "execute_result"
    }
   ],
   "execution_count": 495
  },
  {
   "metadata": {},
   "cell_type": "markdown",
   "source": "## 2d problems",
   "id": "5e32818502882188"
  },
  {
   "metadata": {
    "ExecuteTime": {
     "end_time": "2024-07-23T10:20:38.216065Z",
     "start_time": "2024-07-23T10:20:38.206208Z"
    }
   },
   "cell_type": "code",
   "source": "two_d_arr1 = np.arange(1, 26).reshape(5, 5)",
   "id": "df9efd6a9d7eddc7",
   "outputs": [],
   "execution_count": 496
  },
  {
   "metadata": {
    "ExecuteTime": {
     "end_time": "2024-07-23T10:20:38.832025Z",
     "start_time": "2024-07-23T10:20:38.824730Z"
    }
   },
   "cell_type": "code",
   "source": "two_d_arr1",
   "id": "fb81498a250e6c5c",
   "outputs": [
    {
     "data": {
      "text/plain": [
       "array([[ 1,  2,  3,  4,  5],\n",
       "       [ 6,  7,  8,  9, 10],\n",
       "       [11, 12, 13, 14, 15],\n",
       "       [16, 17, 18, 19, 20],\n",
       "       [21, 22, 23, 24, 25]])"
      ]
     },
     "execution_count": 497,
     "metadata": {},
     "output_type": "execute_result"
    }
   ],
   "execution_count": 497
  },
  {
   "metadata": {
    "ExecuteTime": {
     "end_time": "2024-07-23T10:20:39.290547Z",
     "start_time": "2024-07-23T10:20:39.282356Z"
    }
   },
   "cell_type": "code",
   "source": [
    "# all the numbers in row zero\n",
    "\n",
    "two_d_arr1[0]"
   ],
   "id": "c8c00281a46d51ef",
   "outputs": [
    {
     "data": {
      "text/plain": [
       "array([1, 2, 3, 4, 5])"
      ]
     },
     "execution_count": 498,
     "metadata": {},
     "output_type": "execute_result"
    }
   ],
   "execution_count": 498
  },
  {
   "metadata": {
    "ExecuteTime": {
     "end_time": "2024-07-23T10:20:39.874700Z",
     "start_time": "2024-07-23T10:20:39.867618Z"
    }
   },
   "cell_type": "code",
   "source": "two_d_arr1[:, 2:3]",
   "id": "f3271fe6becac3de",
   "outputs": [
    {
     "data": {
      "text/plain": [
       "array([[ 3],\n",
       "       [ 8],\n",
       "       [13],\n",
       "       [18],\n",
       "       [23]])"
      ]
     },
     "execution_count": 499,
     "metadata": {},
     "output_type": "execute_result"
    }
   ],
   "execution_count": 499
  },
  {
   "metadata": {
    "ExecuteTime": {
     "end_time": "2024-07-23T10:20:40.381804Z",
     "start_time": "2024-07-23T10:20:40.376987Z"
    }
   },
   "cell_type": "code",
   "source": "# all the numbers between 16 to 18",
   "id": "d024b5049d626b17",
   "outputs": [],
   "execution_count": 500
  },
  {
   "metadata": {
    "ExecuteTime": {
     "end_time": "2024-07-23T10:20:41.064823Z",
     "start_time": "2024-07-23T10:20:41.058113Z"
    }
   },
   "cell_type": "code",
   "source": "two_d_arr1[3][0:3]",
   "id": "d47ba17819b1b6bf",
   "outputs": [
    {
     "data": {
      "text/plain": [
       "array([16, 17, 18])"
      ]
     },
     "execution_count": 501,
     "metadata": {},
     "output_type": "execute_result"
    }
   ],
   "execution_count": 501
  },
  {
   "metadata": {
    "ExecuteTime": {
     "end_time": "2024-07-23T10:20:41.512505Z",
     "start_time": "2024-07-23T10:20:41.505967Z"
    }
   },
   "cell_type": "code",
   "source": "print(two_d_arr1)",
   "id": "2fedb87b777d7697",
   "outputs": [
    {
     "name": "stdout",
     "output_type": "stream",
     "text": [
      "[[ 1  2  3  4  5]\n",
      " [ 6  7  8  9 10]\n",
      " [11 12 13 14 15]\n",
      " [16 17 18 19 20]\n",
      " [21 22 23 24 25]]\n"
     ]
    }
   ],
   "execution_count": 502
  },
  {
   "metadata": {
    "ExecuteTime": {
     "end_time": "2024-07-23T10:20:42.105657Z",
     "start_time": "2024-07-23T10:20:42.098285Z"
    }
   },
   "cell_type": "code",
   "source": "two_d_arr1[3:, :3]",
   "id": "60607844c28e300e",
   "outputs": [
    {
     "data": {
      "text/plain": [
       "array([[16, 17, 18],\n",
       "       [21, 22, 23]])"
      ]
     },
     "execution_count": 503,
     "metadata": {},
     "output_type": "execute_result"
    }
   ],
   "execution_count": 503
  },
  {
   "metadata": {
    "ExecuteTime": {
     "end_time": "2024-07-23T10:20:42.681405Z",
     "start_time": "2024-07-23T10:20:42.667396Z"
    }
   },
   "cell_type": "code",
   "source": "two_d_arr1[2][[2]]",
   "id": "87997f75f51e310f",
   "outputs": [
    {
     "data": {
      "text/plain": [
       "array([13])"
      ]
     },
     "execution_count": 504,
     "metadata": {},
     "output_type": "execute_result"
    }
   ],
   "execution_count": 504
  },
  {
   "metadata": {
    "ExecuteTime": {
     "end_time": "2024-07-23T10:20:43.532429Z",
     "start_time": "2024-07-23T10:20:43.526056Z"
    }
   },
   "cell_type": "code",
   "source": "two_d_arr1[1:3, :]",
   "id": "2b1487196cc265c5",
   "outputs": [
    {
     "data": {
      "text/plain": [
       "array([[ 6,  7,  8,  9, 10],\n",
       "       [11, 12, 13, 14, 15]])"
      ]
     },
     "execution_count": 505,
     "metadata": {},
     "output_type": "execute_result"
    }
   ],
   "execution_count": 505
  },
  {
   "metadata": {
    "ExecuteTime": {
     "end_time": "2024-07-23T10:20:44.032737Z",
     "start_time": "2024-07-23T10:20:44.025253Z"
    }
   },
   "cell_type": "code",
   "source": "print(two_d_arr1)\n",
   "id": "ef9ecf8721936078",
   "outputs": [
    {
     "name": "stdout",
     "output_type": "stream",
     "text": [
      "[[ 1  2  3  4  5]\n",
      " [ 6  7  8  9 10]\n",
      " [11 12 13 14 15]\n",
      " [16 17 18 19 20]\n",
      " [21 22 23 24 25]]\n"
     ]
    }
   ],
   "execution_count": 506
  },
  {
   "metadata": {
    "ExecuteTime": {
     "end_time": "2024-07-23T10:20:44.751664Z",
     "start_time": "2024-07-23T10:20:44.743549Z"
    }
   },
   "cell_type": "code",
   "source": "two_d_arr1[:, 1:3]",
   "id": "547dcce80aef1f5b",
   "outputs": [
    {
     "data": {
      "text/plain": [
       "array([[ 2,  3],\n",
       "       [ 7,  8],\n",
       "       [12, 13],\n",
       "       [17, 18],\n",
       "       [22, 23]])"
      ]
     },
     "execution_count": 507,
     "metadata": {},
     "output_type": "execute_result"
    }
   ],
   "execution_count": 507
  },
  {
   "metadata": {
    "ExecuteTime": {
     "end_time": "2024-07-23T10:20:45.304108Z",
     "start_time": "2024-07-23T10:20:45.300352Z"
    }
   },
   "cell_type": "code",
   "source": "",
   "id": "f6b530fc62444480",
   "outputs": [],
   "execution_count": 507
  },
  {
   "metadata": {},
   "cell_type": "markdown",
   "source": "## 3d array",
   "id": "83d8e946ae345adb"
  },
  {
   "metadata": {
    "ExecuteTime": {
     "end_time": "2024-07-23T10:20:45.938829Z",
     "start_time": "2024-07-23T10:20:45.932377Z"
    }
   },
   "cell_type": "code",
   "source": "three_d_arr1 = np.arange(72).reshape(3, 4, 6)",
   "id": "2789976abfc513f7",
   "outputs": [],
   "execution_count": 508
  },
  {
   "metadata": {
    "ExecuteTime": {
     "end_time": "2024-07-23T10:20:46.475383Z",
     "start_time": "2024-07-23T10:20:46.467114Z"
    }
   },
   "cell_type": "code",
   "source": "three_d_arr1[0]",
   "id": "ca39f42e1076d882",
   "outputs": [
    {
     "data": {
      "text/plain": [
       "array([[ 0,  1,  2,  3,  4,  5],\n",
       "       [ 6,  7,  8,  9, 10, 11],\n",
       "       [12, 13, 14, 15, 16, 17],\n",
       "       [18, 19, 20, 21, 22, 23]])"
      ]
     },
     "execution_count": 509,
     "metadata": {},
     "output_type": "execute_result"
    }
   ],
   "execution_count": 509
  },
  {
   "metadata": {
    "ExecuteTime": {
     "end_time": "2024-07-23T10:20:47.041336Z",
     "start_time": "2024-07-23T10:20:47.034236Z"
    }
   },
   "cell_type": "code",
   "source": "three_d_arr1[0][1:3, 1:4]",
   "id": "a48f534370540cd0",
   "outputs": [
    {
     "data": {
      "text/plain": [
       "array([[ 7,  8,  9],\n",
       "       [13, 14, 15]])"
      ]
     },
     "execution_count": 510,
     "metadata": {},
     "output_type": "execute_result"
    }
   ],
   "execution_count": 510
  },
  {
   "metadata": {
    "ExecuteTime": {
     "end_time": "2024-07-23T10:20:47.451586Z",
     "start_time": "2024-07-23T10:20:47.445981Z"
    }
   },
   "cell_type": "code",
   "source": "three_d_arr1 = np.arange(72).reshape(3, 4, 6)",
   "id": "44f813e9dd0efccd",
   "outputs": [],
   "execution_count": 511
  },
  {
   "metadata": {
    "ExecuteTime": {
     "end_time": "2024-07-23T10:20:48.101253Z",
     "start_time": "2024-07-23T10:20:48.092713Z"
    }
   },
   "cell_type": "code",
   "source": "three_d_arr1",
   "id": "8c94c2bcbab659ab",
   "outputs": [
    {
     "data": {
      "text/plain": [
       "array([[[ 0,  1,  2,  3,  4,  5],\n",
       "        [ 6,  7,  8,  9, 10, 11],\n",
       "        [12, 13, 14, 15, 16, 17],\n",
       "        [18, 19, 20, 21, 22, 23]],\n",
       "\n",
       "       [[24, 25, 26, 27, 28, 29],\n",
       "        [30, 31, 32, 33, 34, 35],\n",
       "        [36, 37, 38, 39, 40, 41],\n",
       "        [42, 43, 44, 45, 46, 47]],\n",
       "\n",
       "       [[48, 49, 50, 51, 52, 53],\n",
       "        [54, 55, 56, 57, 58, 59],\n",
       "        [60, 61, 62, 63, 64, 65],\n",
       "        [66, 67, 68, 69, 70, 71]]])"
      ]
     },
     "execution_count": 512,
     "metadata": {},
     "output_type": "execute_result"
    }
   ],
   "execution_count": 512
  },
  {
   "metadata": {
    "ExecuteTime": {
     "end_time": "2024-07-23T10:20:48.564911Z",
     "start_time": "2024-07-23T10:20:48.555181Z"
    }
   },
   "cell_type": "code",
   "source": "three_d_arr1[2]",
   "id": "626168eb8b757d99",
   "outputs": [
    {
     "data": {
      "text/plain": [
       "array([[48, 49, 50, 51, 52, 53],\n",
       "       [54, 55, 56, 57, 58, 59],\n",
       "       [60, 61, 62, 63, 64, 65],\n",
       "       [66, 67, 68, 69, 70, 71]])"
      ]
     },
     "execution_count": 513,
     "metadata": {},
     "output_type": "execute_result"
    }
   ],
   "execution_count": 513
  },
  {
   "metadata": {
    "ExecuteTime": {
     "end_time": "2024-07-23T10:20:49.200453Z",
     "start_time": "2024-07-23T10:20:49.190945Z"
    }
   },
   "cell_type": "code",
   "source": "three_d_arr1[2][2][2:]",
   "id": "dd13fd972c394ae8",
   "outputs": [
    {
     "data": {
      "text/plain": [
       "array([62, 63, 64, 65])"
      ]
     },
     "execution_count": 514,
     "metadata": {},
     "output_type": "execute_result"
    }
   ],
   "execution_count": 514
  },
  {
   "metadata": {
    "ExecuteTime": {
     "end_time": "2024-07-23T10:20:49.828525Z",
     "start_time": "2024-07-23T10:20:49.825164Z"
    }
   },
   "cell_type": "code",
   "source": "",
   "id": "b6ac657b8fa53154",
   "outputs": [],
   "execution_count": 514
  },
  {
   "metadata": {
    "ExecuteTime": {
     "end_time": "2024-07-23T10:20:50.345796Z",
     "start_time": "2024-07-23T10:20:50.341597Z"
    }
   },
   "cell_type": "code",
   "source": "",
   "id": "c2aee9f79ed047dc",
   "outputs": [],
   "execution_count": 514
  },
  {
   "metadata": {
    "ExecuteTime": {
     "end_time": "2024-07-23T10:20:51.025564Z",
     "start_time": "2024-07-23T10:20:51.022454Z"
    }
   },
   "cell_type": "code",
   "source": "",
   "id": "224598a6795ddd02",
   "outputs": [],
   "execution_count": 514
  },
  {
   "metadata": {},
   "cell_type": "markdown",
   "source": "### selecting nd array\n",
   "id": "e1dbeeff28db9a21"
  },
  {
   "metadata": {
    "ExecuteTime": {
     "end_time": "2024-07-23T10:20:51.446837Z",
     "start_time": "2024-07-23T10:20:51.442189Z"
    }
   },
   "cell_type": "code",
   "source": "select_nd_arr = np.arange(72).reshape(3, 4, 6)",
   "id": "b0c60259dd87ee01",
   "outputs": [],
   "execution_count": 515
  },
  {
   "metadata": {
    "ExecuteTime": {
     "end_time": "2024-07-23T10:20:51.957738Z",
     "start_time": "2024-07-23T10:20:51.952096Z"
    }
   },
   "cell_type": "code",
   "source": "print(select_nd_arr)",
   "id": "f3e7f56a88c279e3",
   "outputs": [
    {
     "name": "stdout",
     "output_type": "stream",
     "text": [
      "[[[ 0  1  2  3  4  5]\n",
      "  [ 6  7  8  9 10 11]\n",
      "  [12 13 14 15 16 17]\n",
      "  [18 19 20 21 22 23]]\n",
      "\n",
      " [[24 25 26 27 28 29]\n",
      "  [30 31 32 33 34 35]\n",
      "  [36 37 38 39 40 41]\n",
      "  [42 43 44 45 46 47]]\n",
      "\n",
      " [[48 49 50 51 52 53]\n",
      "  [54 55 56 57 58 59]\n",
      "  [60 61 62 63 64 65]\n",
      "  [66 67 68 69 70 71]]]\n"
     ]
    }
   ],
   "execution_count": 516
  },
  {
   "metadata": {
    "ExecuteTime": {
     "end_time": "2024-07-23T10:20:52.354566Z",
     "start_time": "2024-07-23T10:20:52.349101Z"
    }
   },
   "cell_type": "code",
   "source": "print(select_nd_arr[2])",
   "id": "3a37788f7b8573a8",
   "outputs": [
    {
     "name": "stdout",
     "output_type": "stream",
     "text": [
      "[[48 49 50 51 52 53]\n",
      " [54 55 56 57 58 59]\n",
      " [60 61 62 63 64 65]\n",
      " [66 67 68 69 70 71]]\n"
     ]
    }
   ],
   "execution_count": 517
  },
  {
   "metadata": {
    "ExecuteTime": {
     "end_time": "2024-07-23T10:20:53.097577Z",
     "start_time": "2024-07-23T10:20:53.092613Z"
    }
   },
   "cell_type": "code",
   "source": "print(select_nd_arr[2, 2, 2])",
   "id": "9f290d7662a3c6a2",
   "outputs": [
    {
     "name": "stdout",
     "output_type": "stream",
     "text": [
      "62\n"
     ]
    }
   ],
   "execution_count": 518
  },
  {
   "metadata": {
    "ExecuteTime": {
     "end_time": "2024-07-23T10:20:53.698442Z",
     "start_time": "2024-07-23T10:20:53.692490Z"
    }
   },
   "cell_type": "code",
   "source": [
    "# x=[[48 49 50 51 52 53]\n",
    "#  [54 55 56 57 58 59]\n",
    "#  [60 61 62 63 64 65]\n",
    "#  [66 67 68 69 70 71]]\n",
    "print(select_nd_arr[2, 2, 3:])\n"
   ],
   "id": "92e195d049bf6b27",
   "outputs": [
    {
     "name": "stdout",
     "output_type": "stream",
     "text": [
      "[63 64 65]\n"
     ]
    }
   ],
   "execution_count": 519
  },
  {
   "metadata": {
    "ExecuteTime": {
     "end_time": "2024-07-23T10:20:54.492689Z",
     "start_time": "2024-07-23T10:20:54.488506Z"
    }
   },
   "cell_type": "code",
   "source": "",
   "id": "638a27fa7d29255f",
   "outputs": [],
   "execution_count": 519
  },
  {
   "metadata": {
    "ExecuteTime": {
     "end_time": "2024-07-23T10:20:54.953144Z",
     "start_time": "2024-07-23T10:20:54.949749Z"
    }
   },
   "cell_type": "code",
   "source": "",
   "id": "3e5a6ff46d2d5c4d",
   "outputs": [],
   "execution_count": 519
  },
  {
   "metadata": {
    "ExecuteTime": {
     "end_time": "2024-07-23T10:20:55.804069Z",
     "start_time": "2024-07-23T10:20:55.800716Z"
    }
   },
   "cell_type": "code",
   "source": "",
   "id": "482bea484785d0d4",
   "outputs": [],
   "execution_count": 519
  },
  {
   "metadata": {
    "ExecuteTime": {
     "end_time": "2024-07-23T10:20:56.130997Z",
     "start_time": "2024-07-23T10:20:56.127537Z"
    }
   },
   "cell_type": "code",
   "source": "",
   "id": "d8a8196bf6b939b2",
   "outputs": [],
   "execution_count": 519
  },
  {
   "metadata": {},
   "cell_type": "markdown",
   "source": [
    "### flatten and ravel\n",
    "\n",
    "it used for make a two dimensional array to one dimensional array\n",
    "\n",
    "\n",
    "for flatten parent array not changed for the value substitution in the new array. two array has their different memory locations.\n",
    "\n",
    "\n",
    "in ravel parent variable change. so they are using the same memory location "
   ],
   "id": "2be394a54ec341ad"
  },
  {
   "metadata": {
    "ExecuteTime": {
     "end_time": "2024-07-23T10:20:56.627214Z",
     "start_time": "2024-07-23T10:20:56.621756Z"
    }
   },
   "cell_type": "code",
   "source": "flatten_arr_example = arr = np.arange(72).reshape(12, 6)\n",
   "id": "193d341f7662037e",
   "outputs": [],
   "execution_count": 520
  },
  {
   "metadata": {
    "ExecuteTime": {
     "end_time": "2024-07-23T10:20:57.018099Z",
     "start_time": "2024-07-23T10:20:57.008376Z"
    }
   },
   "cell_type": "code",
   "source": "flatten_arr_example",
   "id": "4a70baa9c1319bf0",
   "outputs": [
    {
     "data": {
      "text/plain": [
       "array([[ 0,  1,  2,  3,  4,  5],\n",
       "       [ 6,  7,  8,  9, 10, 11],\n",
       "       [12, 13, 14, 15, 16, 17],\n",
       "       [18, 19, 20, 21, 22, 23],\n",
       "       [24, 25, 26, 27, 28, 29],\n",
       "       [30, 31, 32, 33, 34, 35],\n",
       "       [36, 37, 38, 39, 40, 41],\n",
       "       [42, 43, 44, 45, 46, 47],\n",
       "       [48, 49, 50, 51, 52, 53],\n",
       "       [54, 55, 56, 57, 58, 59],\n",
       "       [60, 61, 62, 63, 64, 65],\n",
       "       [66, 67, 68, 69, 70, 71]])"
      ]
     },
     "execution_count": 521,
     "metadata": {},
     "output_type": "execute_result"
    }
   ],
   "execution_count": 521
  },
  {
   "metadata": {
    "ExecuteTime": {
     "end_time": "2024-07-23T10:20:57.590778Z",
     "start_time": "2024-07-23T10:20:57.586832Z"
    }
   },
   "cell_type": "code",
   "source": "flatten_arr_executed_example = flatten_arr_example.flatten()",
   "id": "f1e446bfba9edaa5",
   "outputs": [],
   "execution_count": 522
  },
  {
   "metadata": {
    "ExecuteTime": {
     "end_time": "2024-07-23T10:20:57.964320Z",
     "start_time": "2024-07-23T10:20:57.957904Z"
    }
   },
   "cell_type": "code",
   "source": "flatten_arr_executed_example",
   "id": "23f6e41d86e3db5a",
   "outputs": [
    {
     "data": {
      "text/plain": [
       "array([ 0,  1,  2,  3,  4,  5,  6,  7,  8,  9, 10, 11, 12, 13, 14, 15, 16,\n",
       "       17, 18, 19, 20, 21, 22, 23, 24, 25, 26, 27, 28, 29, 30, 31, 32, 33,\n",
       "       34, 35, 36, 37, 38, 39, 40, 41, 42, 43, 44, 45, 46, 47, 48, 49, 50,\n",
       "       51, 52, 53, 54, 55, 56, 57, 58, 59, 60, 61, 62, 63, 64, 65, 66, 67,\n",
       "       68, 69, 70, 71])"
      ]
     },
     "execution_count": 523,
     "metadata": {},
     "output_type": "execute_result"
    }
   ],
   "execution_count": 523
  },
  {
   "metadata": {
    "ExecuteTime": {
     "end_time": "2024-07-23T10:20:58.631932Z",
     "start_time": "2024-07-23T10:20:58.627647Z"
    }
   },
   "cell_type": "code",
   "source": "flatten_arr_executed_example[0] = 888",
   "id": "2119345511d4e570",
   "outputs": [],
   "execution_count": 524
  },
  {
   "metadata": {
    "ExecuteTime": {
     "end_time": "2024-07-23T10:20:59.022096Z",
     "start_time": "2024-07-23T10:20:59.014582Z"
    }
   },
   "cell_type": "code",
   "source": "flatten_arr_executed_example",
   "id": "57d53c8c6964d438",
   "outputs": [
    {
     "data": {
      "text/plain": [
       "array([888,   1,   2,   3,   4,   5,   6,   7,   8,   9,  10,  11,  12,\n",
       "        13,  14,  15,  16,  17,  18,  19,  20,  21,  22,  23,  24,  25,\n",
       "        26,  27,  28,  29,  30,  31,  32,  33,  34,  35,  36,  37,  38,\n",
       "        39,  40,  41,  42,  43,  44,  45,  46,  47,  48,  49,  50,  51,\n",
       "        52,  53,  54,  55,  56,  57,  58,  59,  60,  61,  62,  63,  64,\n",
       "        65,  66,  67,  68,  69,  70,  71])"
      ]
     },
     "execution_count": 525,
     "metadata": {},
     "output_type": "execute_result"
    }
   ],
   "execution_count": 525
  },
  {
   "metadata": {
    "ExecuteTime": {
     "end_time": "2024-07-23T10:20:59.643259Z",
     "start_time": "2024-07-23T10:20:59.636782Z"
    }
   },
   "cell_type": "code",
   "source": "flatten_arr_example",
   "id": "9652ef06ad787c8",
   "outputs": [
    {
     "data": {
      "text/plain": [
       "array([[ 0,  1,  2,  3,  4,  5],\n",
       "       [ 6,  7,  8,  9, 10, 11],\n",
       "       [12, 13, 14, 15, 16, 17],\n",
       "       [18, 19, 20, 21, 22, 23],\n",
       "       [24, 25, 26, 27, 28, 29],\n",
       "       [30, 31, 32, 33, 34, 35],\n",
       "       [36, 37, 38, 39, 40, 41],\n",
       "       [42, 43, 44, 45, 46, 47],\n",
       "       [48, 49, 50, 51, 52, 53],\n",
       "       [54, 55, 56, 57, 58, 59],\n",
       "       [60, 61, 62, 63, 64, 65],\n",
       "       [66, 67, 68, 69, 70, 71]])"
      ]
     },
     "execution_count": 526,
     "metadata": {},
     "output_type": "execute_result"
    }
   ],
   "execution_count": 526
  },
  {
   "metadata": {
    "ExecuteTime": {
     "end_time": "2024-07-23T10:21:00.153492Z",
     "start_time": "2024-07-23T10:21:00.145649Z"
    }
   },
   "cell_type": "code",
   "source": "ravel_arr_example = np.arange(72).reshape(12, 6)",
   "id": "9bb82e21234704bb",
   "outputs": [],
   "execution_count": 527
  },
  {
   "metadata": {
    "ExecuteTime": {
     "end_time": "2024-07-23T10:21:00.842673Z",
     "start_time": "2024-07-23T10:21:00.835251Z"
    }
   },
   "cell_type": "code",
   "source": "ravel_arr_example",
   "id": "bebca62bf4f45d03",
   "outputs": [
    {
     "data": {
      "text/plain": [
       "array([[ 0,  1,  2,  3,  4,  5],\n",
       "       [ 6,  7,  8,  9, 10, 11],\n",
       "       [12, 13, 14, 15, 16, 17],\n",
       "       [18, 19, 20, 21, 22, 23],\n",
       "       [24, 25, 26, 27, 28, 29],\n",
       "       [30, 31, 32, 33, 34, 35],\n",
       "       [36, 37, 38, 39, 40, 41],\n",
       "       [42, 43, 44, 45, 46, 47],\n",
       "       [48, 49, 50, 51, 52, 53],\n",
       "       [54, 55, 56, 57, 58, 59],\n",
       "       [60, 61, 62, 63, 64, 65],\n",
       "       [66, 67, 68, 69, 70, 71]])"
      ]
     },
     "execution_count": 528,
     "metadata": {},
     "output_type": "execute_result"
    }
   ],
   "execution_count": 528
  },
  {
   "metadata": {
    "ExecuteTime": {
     "end_time": "2024-07-23T10:21:01.390205Z",
     "start_time": "2024-07-23T10:21:01.385414Z"
    }
   },
   "cell_type": "code",
   "source": "ravel_arr_executed_example = ravel_arr_example.ravel()",
   "id": "57e7cb26d266fc8a",
   "outputs": [],
   "execution_count": 529
  },
  {
   "metadata": {
    "ExecuteTime": {
     "end_time": "2024-07-23T10:21:02.054485Z",
     "start_time": "2024-07-23T10:21:02.046366Z"
    }
   },
   "cell_type": "code",
   "source": "ravel_arr_executed_example",
   "id": "6e6736226eaef309",
   "outputs": [
    {
     "data": {
      "text/plain": [
       "array([ 0,  1,  2,  3,  4,  5,  6,  7,  8,  9, 10, 11, 12, 13, 14, 15, 16,\n",
       "       17, 18, 19, 20, 21, 22, 23, 24, 25, 26, 27, 28, 29, 30, 31, 32, 33,\n",
       "       34, 35, 36, 37, 38, 39, 40, 41, 42, 43, 44, 45, 46, 47, 48, 49, 50,\n",
       "       51, 52, 53, 54, 55, 56, 57, 58, 59, 60, 61, 62, 63, 64, 65, 66, 67,\n",
       "       68, 69, 70, 71])"
      ]
     },
     "execution_count": 530,
     "metadata": {},
     "output_type": "execute_result"
    }
   ],
   "execution_count": 530
  },
  {
   "metadata": {
    "ExecuteTime": {
     "end_time": "2024-07-23T10:21:02.688866Z",
     "start_time": "2024-07-23T10:21:02.677682Z"
    }
   },
   "cell_type": "code",
   "source": "",
   "id": "f0abec4d75ad1a9c",
   "outputs": [],
   "execution_count": 530
  },
  {
   "metadata": {
    "ExecuteTime": {
     "end_time": "2024-07-23T10:21:03.408056Z",
     "start_time": "2024-07-23T10:21:03.398788Z"
    }
   },
   "cell_type": "code",
   "source": "ravel_arr_executed_example[0] = 888",
   "id": "82142b9c61d24cc2",
   "outputs": [],
   "execution_count": 531
  },
  {
   "metadata": {
    "ExecuteTime": {
     "end_time": "2024-07-23T10:21:04.317699Z",
     "start_time": "2024-07-23T10:21:04.299086Z"
    }
   },
   "cell_type": "code",
   "source": "ravel_arr_executed_example",
   "id": "13237bfa73f35f21",
   "outputs": [
    {
     "data": {
      "text/plain": [
       "array([888,   1,   2,   3,   4,   5,   6,   7,   8,   9,  10,  11,  12,\n",
       "        13,  14,  15,  16,  17,  18,  19,  20,  21,  22,  23,  24,  25,\n",
       "        26,  27,  28,  29,  30,  31,  32,  33,  34,  35,  36,  37,  38,\n",
       "        39,  40,  41,  42,  43,  44,  45,  46,  47,  48,  49,  50,  51,\n",
       "        52,  53,  54,  55,  56,  57,  58,  59,  60,  61,  62,  63,  64,\n",
       "        65,  66,  67,  68,  69,  70,  71])"
      ]
     },
     "execution_count": 532,
     "metadata": {},
     "output_type": "execute_result"
    }
   ],
   "execution_count": 532
  },
  {
   "metadata": {
    "ExecuteTime": {
     "end_time": "2024-07-23T10:21:05.257986Z",
     "start_time": "2024-07-23T10:21:05.247073Z"
    }
   },
   "cell_type": "code",
   "source": "ravel_arr_executed_example",
   "id": "8741a0ed192f18ad",
   "outputs": [
    {
     "data": {
      "text/plain": [
       "array([888,   1,   2,   3,   4,   5,   6,   7,   8,   9,  10,  11,  12,\n",
       "        13,  14,  15,  16,  17,  18,  19,  20,  21,  22,  23,  24,  25,\n",
       "        26,  27,  28,  29,  30,  31,  32,  33,  34,  35,  36,  37,  38,\n",
       "        39,  40,  41,  42,  43,  44,  45,  46,  47,  48,  49,  50,  51,\n",
       "        52,  53,  54,  55,  56,  57,  58,  59,  60,  61,  62,  63,  64,\n",
       "        65,  66,  67,  68,  69,  70,  71])"
      ]
     },
     "execution_count": 533,
     "metadata": {},
     "output_type": "execute_result"
    }
   ],
   "execution_count": 533
  },
  {
   "metadata": {
    "ExecuteTime": {
     "end_time": "2024-07-23T10:21:05.983622Z",
     "start_time": "2024-07-23T10:21:05.978369Z"
    }
   },
   "cell_type": "code",
   "source": "",
   "id": "4ae234ec922e77c4",
   "outputs": [],
   "execution_count": 533
  },
  {
   "metadata": {
    "ExecuteTime": {
     "end_time": "2024-07-23T10:21:06.489934Z",
     "start_time": "2024-07-23T10:21:06.486390Z"
    }
   },
   "cell_type": "code",
   "source": "",
   "id": "e3b254805ae87de3",
   "outputs": [],
   "execution_count": 533
  },
  {
   "metadata": {
    "ExecuteTime": {
     "end_time": "2024-07-23T10:21:07.289284Z",
     "start_time": "2024-07-23T10:21:07.285729Z"
    }
   },
   "cell_type": "code",
   "source": "",
   "id": "7286d4a30f240579",
   "outputs": [],
   "execution_count": 533
  },
  {
   "metadata": {},
   "cell_type": "markdown",
   "source": "### transpose ",
   "id": "d3d8e78306358bec"
  },
  {
   "metadata": {
    "ExecuteTime": {
     "end_time": "2024-07-23T10:21:07.732479Z",
     "start_time": "2024-07-23T10:21:07.727680Z"
    }
   },
   "cell_type": "code",
   "source": "transpose_example_arr = np.arange(12).reshape(3, 4)",
   "id": "25cbc350e8528665",
   "outputs": [],
   "execution_count": 534
  },
  {
   "metadata": {
    "ExecuteTime": {
     "end_time": "2024-07-23T10:21:08.438167Z",
     "start_time": "2024-07-23T10:21:08.430648Z"
    }
   },
   "cell_type": "code",
   "source": "transpose_example_arr",
   "id": "88f5bdcd986bd91d",
   "outputs": [
    {
     "data": {
      "text/plain": [
       "array([[ 0,  1,  2,  3],\n",
       "       [ 4,  5,  6,  7],\n",
       "       [ 8,  9, 10, 11]])"
      ]
     },
     "execution_count": 535,
     "metadata": {},
     "output_type": "execute_result"
    }
   ],
   "execution_count": 535
  },
  {
   "metadata": {
    "ExecuteTime": {
     "end_time": "2024-07-23T10:21:08.857220Z",
     "start_time": "2024-07-23T10:21:08.852685Z"
    }
   },
   "cell_type": "code",
   "source": "transpose_executed_example_arr = transpose_example_arr.transpose()",
   "id": "7688820efab10f1e",
   "outputs": [],
   "execution_count": 536
  },
  {
   "metadata": {
    "ExecuteTime": {
     "end_time": "2024-07-23T10:21:09.686439Z",
     "start_time": "2024-07-23T10:21:09.678028Z"
    }
   },
   "cell_type": "code",
   "source": "transpose_executed_example_arr",
   "id": "76fc084b736f7901",
   "outputs": [
    {
     "data": {
      "text/plain": [
       "array([[ 0,  4,  8],\n",
       "       [ 1,  5,  9],\n",
       "       [ 2,  6, 10],\n",
       "       [ 3,  7, 11]])"
      ]
     },
     "execution_count": 537,
     "metadata": {},
     "output_type": "execute_result"
    }
   ],
   "execution_count": 537
  },
  {
   "metadata": {},
   "cell_type": "markdown",
   "source": "### reverse an array",
   "id": "7556c0a97da3b047"
  },
  {
   "metadata": {
    "ExecuteTime": {
     "end_time": "2024-07-23T10:21:10.147462Z",
     "start_time": "2024-07-23T10:21:10.141694Z"
    }
   },
   "cell_type": "code",
   "source": "reverse_example_arr = np.arange(12).reshape(2, 2, 3)",
   "id": "8f65ad15dd61cec4",
   "outputs": [],
   "execution_count": 538
  },
  {
   "metadata": {
    "ExecuteTime": {
     "end_time": "2024-07-23T10:21:10.803822Z",
     "start_time": "2024-07-23T10:21:10.795785Z"
    }
   },
   "cell_type": "code",
   "source": "reverse_example_arr",
   "id": "a9606223bedf5d62",
   "outputs": [
    {
     "data": {
      "text/plain": [
       "array([[[ 0,  1,  2],\n",
       "        [ 3,  4,  5]],\n",
       "\n",
       "       [[ 6,  7,  8],\n",
       "        [ 9, 10, 11]]])"
      ]
     },
     "execution_count": 539,
     "metadata": {},
     "output_type": "execute_result"
    }
   ],
   "execution_count": 539
  },
  {
   "metadata": {
    "ExecuteTime": {
     "end_time": "2024-07-23T10:21:11.296060Z",
     "start_time": "2024-07-23T10:21:11.288658Z"
    }
   },
   "cell_type": "code",
   "source": "np.flip(reverse_example_arr)",
   "id": "ee5e14bd4cb63305",
   "outputs": [
    {
     "data": {
      "text/plain": [
       "array([[[11, 10,  9],\n",
       "        [ 8,  7,  6]],\n",
       "\n",
       "       [[ 5,  4,  3],\n",
       "        [ 2,  1,  0]]])"
      ]
     },
     "execution_count": 540,
     "metadata": {},
     "output_type": "execute_result"
    }
   ],
   "execution_count": 540
  },
  {
   "metadata": {
    "ExecuteTime": {
     "end_time": "2024-07-23T10:21:11.887747Z",
     "start_time": "2024-07-23T10:21:11.877442Z"
    }
   },
   "cell_type": "code",
   "source": "np.flip(reverse_example_arr, axis=0)",
   "id": "3da1a2a394295d50",
   "outputs": [
    {
     "data": {
      "text/plain": [
       "array([[[ 6,  7,  8],\n",
       "        [ 9, 10, 11]],\n",
       "\n",
       "       [[ 0,  1,  2],\n",
       "        [ 3,  4,  5]]])"
      ]
     },
     "execution_count": 541,
     "metadata": {},
     "output_type": "execute_result"
    }
   ],
   "execution_count": 541
  },
  {
   "metadata": {
    "ExecuteTime": {
     "end_time": "2024-07-23T10:21:12.357065Z",
     "start_time": "2024-07-23T10:21:12.349907Z"
    }
   },
   "cell_type": "code",
   "source": "np.flip(reverse_example_arr, axis=1)",
   "id": "d0ec4bc32439743b",
   "outputs": [
    {
     "data": {
      "text/plain": [
       "array([[[ 3,  4,  5],\n",
       "        [ 0,  1,  2]],\n",
       "\n",
       "       [[ 9, 10, 11],\n",
       "        [ 6,  7,  8]]])"
      ]
     },
     "execution_count": 542,
     "metadata": {},
     "output_type": "execute_result"
    }
   ],
   "execution_count": 542
  },
  {
   "metadata": {},
   "cell_type": "markdown",
   "source": "### find unique values and indexes",
   "id": "51fed2b477cfa97e"
  },
  {
   "metadata": {
    "ExecuteTime": {
     "end_time": "2024-07-23T10:21:13.176521Z",
     "start_time": "2024-07-23T10:21:13.172108Z"
    }
   },
   "cell_type": "code",
   "source": "unq = np.array([[1, 2, 2, 2, 3], [5, 6, 4, 5, 6]])",
   "id": "162370b8b658e460",
   "outputs": [],
   "execution_count": 543
  },
  {
   "metadata": {
    "ExecuteTime": {
     "end_time": "2024-07-23T10:21:13.660550Z",
     "start_time": "2024-07-23T10:21:13.651280Z"
    }
   },
   "cell_type": "code",
   "source": "np.unique(unq)",
   "id": "a43141d60e177f16",
   "outputs": [
    {
     "data": {
      "text/plain": [
       "array([1, 2, 3, 4, 5, 6])"
      ]
     },
     "execution_count": 544,
     "metadata": {},
     "output_type": "execute_result"
    }
   ],
   "execution_count": 544
  },
  {
   "metadata": {
    "ExecuteTime": {
     "end_time": "2024-07-23T10:21:14.986546Z",
     "start_time": "2024-07-23T10:21:14.975358Z"
    }
   },
   "cell_type": "code",
   "source": "np.unique(unq, return_index=True)",
   "id": "186337ca4297e37",
   "outputs": [
    {
     "data": {
      "text/plain": [
       "(array([1, 2, 3, 4, 5, 6]), array([0, 1, 4, 7, 5, 6]))"
      ]
     },
     "execution_count": 545,
     "metadata": {},
     "output_type": "execute_result"
    }
   ],
   "execution_count": 545
  },
  {
   "metadata": {},
   "cell_type": "markdown",
   "source": "### minimum, maximum, sum ",
   "id": "de4bceab84704938"
  },
  {
   "metadata": {
    "ExecuteTime": {
     "end_time": "2024-07-23T10:21:16.416191Z",
     "start_time": "2024-07-23T10:21:16.410790Z"
    }
   },
   "cell_type": "code",
   "source": "min_max_sum_arr = np.array([[13, 3, 4], [1, 2, -4], [3, 4, 5]])",
   "id": "dc6961e1940ac3a5",
   "outputs": [],
   "execution_count": 546
  },
  {
   "metadata": {
    "ExecuteTime": {
     "end_time": "2024-07-23T10:21:17.544285Z",
     "start_time": "2024-07-23T10:21:17.536834Z"
    }
   },
   "cell_type": "code",
   "source": "min_max_sum_arr",
   "id": "b6f72a4f64ed679",
   "outputs": [
    {
     "data": {
      "text/plain": [
       "array([[13,  3,  4],\n",
       "       [ 1,  2, -4],\n",
       "       [ 3,  4,  5]])"
      ]
     },
     "execution_count": 547,
     "metadata": {},
     "output_type": "execute_result"
    }
   ],
   "execution_count": 547
  },
  {
   "metadata": {
    "ExecuteTime": {
     "end_time": "2024-07-23T10:21:18.009976Z",
     "start_time": "2024-07-23T10:21:18.000673Z"
    }
   },
   "cell_type": "code",
   "source": "min_max_sum_arr.min(axis=0)",
   "id": "b54da6a2bdf4009b",
   "outputs": [
    {
     "data": {
      "text/plain": [
       "array([ 1,  2, -4])"
      ]
     },
     "execution_count": 548,
     "metadata": {},
     "output_type": "execute_result"
    }
   ],
   "execution_count": 548
  },
  {
   "metadata": {
    "ExecuteTime": {
     "end_time": "2024-07-23T10:21:18.594569Z",
     "start_time": "2024-07-23T10:21:18.587087Z"
    }
   },
   "cell_type": "code",
   "source": "min_max_sum_arr.max(axis=1)",
   "id": "d8b9c28bfd9f9f7d",
   "outputs": [
    {
     "data": {
      "text/plain": [
       "array([13,  2,  5])"
      ]
     },
     "execution_count": 549,
     "metadata": {},
     "output_type": "execute_result"
    }
   ],
   "execution_count": 549
  },
  {
   "metadata": {
    "ExecuteTime": {
     "end_time": "2024-07-23T10:21:19.145834Z",
     "start_time": "2024-07-23T10:21:19.138769Z"
    }
   },
   "cell_type": "code",
   "source": "min_max_sum_arr.sum(axis=1)",
   "id": "695b1e64f2975a96",
   "outputs": [
    {
     "data": {
      "text/plain": [
       "array([20, -1, 12])"
      ]
     },
     "execution_count": 550,
     "metadata": {},
     "output_type": "execute_result"
    }
   ],
   "execution_count": 550
  },
  {
   "metadata": {
    "ExecuteTime": {
     "end_time": "2024-07-23T10:21:19.909130Z",
     "start_time": "2024-07-23T10:21:19.905632Z"
    }
   },
   "cell_type": "code",
   "source": "",
   "id": "612456ba1d52e91d",
   "outputs": [],
   "execution_count": 550
  },
  {
   "metadata": {},
   "cell_type": "markdown",
   "source": "### stacking , horizontal and vertical",
   "id": "7d2a000c83348f03"
  },
  {
   "metadata": {
    "ExecuteTime": {
     "end_time": "2024-07-23T10:21:20.322530Z",
     "start_time": "2024-07-23T10:21:20.317891Z"
    }
   },
   "cell_type": "code",
   "source": "stacking_example_arr1 = np.array([[0, 1, 2, 3, 4], [5, 6, 7, 8, 9]])",
   "id": "7a059c27344ab69f",
   "outputs": [],
   "execution_count": 551
  },
  {
   "metadata": {
    "ExecuteTime": {
     "end_time": "2024-07-23T10:21:21.060479Z",
     "start_time": "2024-07-23T10:21:21.054516Z"
    }
   },
   "cell_type": "code",
   "source": "stacking_example_arr2 = np.array([[10, 11, 12, 13, 14], [15, 16, 17, 18, 19]])",
   "id": "cee4b8bd094ff1ad",
   "outputs": [],
   "execution_count": 552
  },
  {
   "metadata": {
    "ExecuteTime": {
     "end_time": "2024-07-23T10:21:21.556878Z",
     "start_time": "2024-07-23T10:21:21.546432Z"
    }
   },
   "cell_type": "code",
   "source": "np.hstack((stacking_example_arr1, stacking_example_arr2))",
   "id": "e1c0bf2c8ff2e971",
   "outputs": [
    {
     "data": {
      "text/plain": [
       "array([[ 0,  1,  2,  3,  4, 10, 11, 12, 13, 14],\n",
       "       [ 5,  6,  7,  8,  9, 15, 16, 17, 18, 19]])"
      ]
     },
     "execution_count": 553,
     "metadata": {},
     "output_type": "execute_result"
    }
   ],
   "execution_count": 553
  },
  {
   "metadata": {
    "ExecuteTime": {
     "end_time": "2024-07-23T10:21:22.257717Z",
     "start_time": "2024-07-23T10:21:22.250961Z"
    }
   },
   "cell_type": "code",
   "source": "np.vstack((stacking_example_arr1, stacking_example_arr2))",
   "id": "9c1da1262fb57871",
   "outputs": [
    {
     "data": {
      "text/plain": [
       "array([[ 0,  1,  2,  3,  4],\n",
       "       [ 5,  6,  7,  8,  9],\n",
       "       [10, 11, 12, 13, 14],\n",
       "       [15, 16, 17, 18, 19]])"
      ]
     },
     "execution_count": 554,
     "metadata": {},
     "output_type": "execute_result"
    }
   ],
   "execution_count": 554
  },
  {
   "metadata": {},
   "cell_type": "markdown",
   "source": "### split the array",
   "id": "a7c474619f334a93"
  },
  {
   "metadata": {},
   "cell_type": "markdown",
   "source": "",
   "id": "39ae2c17d0523a75"
  },
  {
   "metadata": {
    "ExecuteTime": {
     "end_time": "2024-07-23T10:21:22.612287Z",
     "start_time": "2024-07-23T10:21:22.606471Z"
    }
   },
   "cell_type": "code",
   "source": "split_example_arr = np.arange(1, 49)",
   "id": "d681a114f6eb4e22",
   "outputs": [],
   "execution_count": 555
  },
  {
   "metadata": {
    "ExecuteTime": {
     "end_time": "2024-07-23T10:21:23.383626Z",
     "start_time": "2024-07-23T10:21:23.380357Z"
    }
   },
   "cell_type": "code",
   "source": "",
   "id": "9316cedaec4d7b90",
   "outputs": [],
   "execution_count": 555
  },
  {
   "metadata": {
    "ExecuteTime": {
     "end_time": "2024-07-23T10:21:24.087431Z",
     "start_time": "2024-07-23T10:21:24.075909Z"
    }
   },
   "cell_type": "code",
   "source": "np.hsplit(split_example_arr, 2)",
   "id": "e88f4273d6344f9d",
   "outputs": [
    {
     "data": {
      "text/plain": [
       "[array([ 1,  2,  3,  4,  5,  6,  7,  8,  9, 10, 11, 12, 13, 14, 15, 16, 17,\n",
       "        18, 19, 20, 21, 22, 23, 24]),\n",
       " array([25, 26, 27, 28, 29, 30, 31, 32, 33, 34, 35, 36, 37, 38, 39, 40, 41,\n",
       "        42, 43, 44, 45, 46, 47, 48])]"
      ]
     },
     "execution_count": 556,
     "metadata": {},
     "output_type": "execute_result"
    }
   ],
   "execution_count": 556
  },
  {
   "metadata": {
    "ExecuteTime": {
     "end_time": "2024-07-23T10:21:24.679941Z",
     "start_time": "2024-07-23T10:21:24.675546Z"
    }
   },
   "cell_type": "code",
   "source": "split_example_arr1 = np.arange(1, 25).reshape(2, 12)",
   "id": "e69fe3424bd51d64",
   "outputs": [],
   "execution_count": 557
  },
  {
   "metadata": {
    "ExecuteTime": {
     "end_time": "2024-07-23T10:21:25.136617Z",
     "start_time": "2024-07-23T10:21:25.130496Z"
    }
   },
   "cell_type": "code",
   "source": "split_example_arr1",
   "id": "ee2df4d793e491d9",
   "outputs": [
    {
     "data": {
      "text/plain": [
       "array([[ 1,  2,  3,  4,  5,  6,  7,  8,  9, 10, 11, 12],\n",
       "       [13, 14, 15, 16, 17, 18, 19, 20, 21, 22, 23, 24]])"
      ]
     },
     "execution_count": 558,
     "metadata": {},
     "output_type": "execute_result"
    }
   ],
   "execution_count": 558
  },
  {
   "metadata": {
    "ExecuteTime": {
     "end_time": "2024-07-23T10:21:25.778361Z",
     "start_time": "2024-07-23T10:21:25.771796Z"
    }
   },
   "cell_type": "code",
   "source": "",
   "id": "9938c23bb0c93f4f",
   "outputs": [],
   "execution_count": 558
  },
  {
   "metadata": {
    "ExecuteTime": {
     "end_time": "2024-07-23T10:21:26.196237Z",
     "start_time": "2024-07-23T10:21:26.188642Z"
    }
   },
   "cell_type": "code",
   "source": "np.hsplit(split_example_arr1, (2, 5))",
   "id": "65c22a7a75e3bc25",
   "outputs": [
    {
     "data": {
      "text/plain": [
       "[array([[ 1,  2],\n",
       "        [13, 14]]),\n",
       " array([[ 3,  4,  5],\n",
       "        [15, 16, 17]]),\n",
       " array([[ 6,  7,  8,  9, 10, 11, 12],\n",
       "        [18, 19, 20, 21, 22, 23, 24]])]"
      ]
     },
     "execution_count": 559,
     "metadata": {},
     "output_type": "execute_result"
    }
   ],
   "execution_count": 559
  },
  {
   "metadata": {
    "ExecuteTime": {
     "end_time": "2024-07-23T10:21:26.850352Z",
     "start_time": "2024-07-23T10:21:26.846106Z"
    }
   },
   "cell_type": "code",
   "source": "",
   "id": "d14c52157c2406d9",
   "outputs": [],
   "execution_count": 559
  },
  {
   "metadata": {},
   "cell_type": "markdown",
   "source": [
    "### copy array \n",
    "* deep copy \n",
    "* shallow copy "
   ],
   "id": "2738529980b589d0"
  },
  {
   "metadata": {
    "ExecuteTime": {
     "end_time": "2024-07-23T10:21:27.252903Z",
     "start_time": "2024-07-23T10:21:27.247825Z"
    }
   },
   "cell_type": "code",
   "source": "copy_example_arr = np.arange(1, 13).reshape(3, 4)",
   "id": "50b826d9253a4f8a",
   "outputs": [],
   "execution_count": 560
  },
  {
   "metadata": {
    "ExecuteTime": {
     "end_time": "2024-07-23T10:21:27.974839Z",
     "start_time": "2024-07-23T10:21:27.967250Z"
    }
   },
   "cell_type": "code",
   "source": "copy_example_arr",
   "id": "8d35e24351b87aa4",
   "outputs": [
    {
     "data": {
      "text/plain": [
       "array([[ 1,  2,  3,  4],\n",
       "       [ 5,  6,  7,  8],\n",
       "       [ 9, 10, 11, 12]])"
      ]
     },
     "execution_count": 561,
     "metadata": {},
     "output_type": "execute_result"
    }
   ],
   "execution_count": 561
  },
  {
   "metadata": {
    "ExecuteTime": {
     "end_time": "2024-07-23T10:21:28.451503Z",
     "start_time": "2024-07-23T10:21:28.445371Z"
    }
   },
   "cell_type": "code",
   "source": "copy_example_arr1 = copy_example_arr.copy()",
   "id": "33ce9c409cd6df04",
   "outputs": [],
   "execution_count": 562
  },
  {
   "metadata": {
    "ExecuteTime": {
     "end_time": "2024-07-23T10:21:29.021647Z",
     "start_time": "2024-07-23T10:21:29.015491Z"
    }
   },
   "cell_type": "code",
   "source": "copy_example_arr1",
   "id": "6e5e01d3c99c40eb",
   "outputs": [
    {
     "data": {
      "text/plain": [
       "array([[ 1,  2,  3,  4],\n",
       "       [ 5,  6,  7,  8],\n",
       "       [ 9, 10, 11, 12]])"
      ]
     },
     "execution_count": 563,
     "metadata": {},
     "output_type": "execute_result"
    }
   ],
   "execution_count": 563
  },
  {
   "metadata": {
    "ExecuteTime": {
     "end_time": "2024-07-23T10:21:29.468658Z",
     "start_time": "2024-07-23T10:21:29.464325Z"
    }
   },
   "cell_type": "code",
   "source": "copy_example_arr2 = copy_example_arr[1]",
   "id": "c4365dc7bba828b",
   "outputs": [],
   "execution_count": 564
  },
  {
   "metadata": {
    "ExecuteTime": {
     "end_time": "2024-07-23T10:21:30.023897Z",
     "start_time": "2024-07-23T10:21:30.016871Z"
    }
   },
   "cell_type": "code",
   "source": "copy_example_arr2",
   "id": "bcebfc5272d803c7",
   "outputs": [
    {
     "data": {
      "text/plain": [
       "array([5, 6, 7, 8])"
      ]
     },
     "execution_count": 565,
     "metadata": {},
     "output_type": "execute_result"
    }
   ],
   "execution_count": 565
  },
  {
   "metadata": {
    "ExecuteTime": {
     "end_time": "2024-07-23T10:21:30.543345Z",
     "start_time": "2024-07-23T10:21:30.535925Z"
    }
   },
   "cell_type": "code",
   "source": "copy_example_arr2[0] = 11",
   "id": "8f1c3a0bfca0eaac",
   "outputs": [],
   "execution_count": 566
  },
  {
   "metadata": {
    "ExecuteTime": {
     "end_time": "2024-07-23T10:21:31.113051Z",
     "start_time": "2024-07-23T10:21:31.106466Z"
    }
   },
   "cell_type": "code",
   "source": "copy_example_arr",
   "id": "5b8e1e4bca513086",
   "outputs": [
    {
     "data": {
      "text/plain": [
       "array([[ 1,  2,  3,  4],\n",
       "       [11,  6,  7,  8],\n",
       "       [ 9, 10, 11, 12]])"
      ]
     },
     "execution_count": 567,
     "metadata": {},
     "output_type": "execute_result"
    }
   ],
   "execution_count": 567
  },
  {
   "metadata": {
    "ExecuteTime": {
     "end_time": "2024-07-23T10:21:31.594442Z",
     "start_time": "2024-07-23T10:21:31.587950Z"
    }
   },
   "cell_type": "code",
   "source": "copy_example_arr = np.arange(1, 13).reshape(3, 4)",
   "id": "eb99523d2c174057",
   "outputs": [],
   "execution_count": 568
  },
  {
   "metadata": {
    "ExecuteTime": {
     "end_time": "2024-07-23T10:21:32.132409Z",
     "start_time": "2024-07-23T10:21:32.125987Z"
    }
   },
   "cell_type": "code",
   "source": "copy_example_arr",
   "id": "878b2e125af09c3a",
   "outputs": [
    {
     "data": {
      "text/plain": [
       "array([[ 1,  2,  3,  4],\n",
       "       [ 5,  6,  7,  8],\n",
       "       [ 9, 10, 11, 12]])"
      ]
     },
     "execution_count": 569,
     "metadata": {},
     "output_type": "execute_result"
    }
   ],
   "execution_count": 569
  },
  {
   "metadata": {
    "ExecuteTime": {
     "end_time": "2024-07-23T10:21:32.608883Z",
     "start_time": "2024-07-23T10:21:32.601484Z"
    }
   },
   "cell_type": "code",
   "source": "copy_example_arr3 = copy_example_arr[1:, 1:].copy()",
   "id": "a460a0bc2016918",
   "outputs": [],
   "execution_count": 570
  },
  {
   "metadata": {
    "ExecuteTime": {
     "end_time": "2024-07-23T10:21:33.177954Z",
     "start_time": "2024-07-23T10:21:33.171291Z"
    }
   },
   "cell_type": "code",
   "source": "copy_example_arr3",
   "id": "9619a60f47011ecb",
   "outputs": [
    {
     "data": {
      "text/plain": [
       "array([[ 6,  7,  8],\n",
       "       [10, 11, 12]])"
      ]
     },
     "execution_count": 571,
     "metadata": {},
     "output_type": "execute_result"
    }
   ],
   "execution_count": 571
  },
  {
   "metadata": {
    "ExecuteTime": {
     "end_time": "2024-07-23T10:21:33.699916Z",
     "start_time": "2024-07-23T10:21:33.695414Z"
    }
   },
   "cell_type": "code",
   "source": "copy_example_arr3[1, 1] = 333",
   "id": "3453658c3a3013c3",
   "outputs": [],
   "execution_count": 572
  },
  {
   "metadata": {
    "ExecuteTime": {
     "end_time": "2024-07-23T10:21:34.355078Z",
     "start_time": "2024-07-23T10:21:34.344812Z"
    }
   },
   "cell_type": "code",
   "source": "copy_example_arr3",
   "id": "3aa6f65106842ac7",
   "outputs": [
    {
     "data": {
      "text/plain": [
       "array([[  6,   7,   8],\n",
       "       [ 10, 333,  12]])"
      ]
     },
     "execution_count": 573,
     "metadata": {},
     "output_type": "execute_result"
    }
   ],
   "execution_count": 573
  },
  {
   "metadata": {
    "ExecuteTime": {
     "end_time": "2024-07-23T10:21:34.915852Z",
     "start_time": "2024-07-23T10:21:34.906722Z"
    }
   },
   "cell_type": "code",
   "source": "copy_example_arr",
   "id": "54b632cb8800d682",
   "outputs": [
    {
     "data": {
      "text/plain": [
       "array([[ 1,  2,  3,  4],\n",
       "       [ 5,  6,  7,  8],\n",
       "       [ 9, 10, 11, 12]])"
      ]
     },
     "execution_count": 574,
     "metadata": {},
     "output_type": "execute_result"
    }
   ],
   "execution_count": 574
  },
  {
   "metadata": {
    "ExecuteTime": {
     "end_time": "2024-07-23T10:21:35.486059Z",
     "start_time": "2024-07-23T10:21:35.482285Z"
    }
   },
   "cell_type": "code",
   "source": "",
   "id": "6e71116dd7983cd0",
   "outputs": [],
   "execution_count": 574
  },
  {
   "metadata": {},
   "cell_type": "markdown",
   "source": [
    "### array operators\n",
    "\n",
    "* a =[1,2,3,4,5,6,7,8,9,10]\n",
    "* b= [1,2,3,4,5,6,7,8,9,10]\n",
    "* a+10\n",
    "* a-1\n",
    "* a*2\n",
    "* a**2\n",
    "* a+b\n",
    "* a*b\n",
    "* a/b\n",
    "* a%2"
   ],
   "id": "c9fe49c6ec01f08e"
  },
  {
   "metadata": {
    "ExecuteTime": {
     "end_time": "2024-07-23T10:21:35.979312Z",
     "start_time": "2024-07-23T10:21:35.974389Z"
    }
   },
   "cell_type": "code",
   "source": "operator_example_arr = np.arange(1, 11)",
   "id": "1eedffa54df8110a",
   "outputs": [],
   "execution_count": 575
  },
  {
   "metadata": {
    "ExecuteTime": {
     "end_time": "2024-07-23T10:21:36.682671Z",
     "start_time": "2024-07-23T10:21:36.676478Z"
    }
   },
   "cell_type": "code",
   "source": "operator_example_arr",
   "id": "74b242cd45c8d902",
   "outputs": [
    {
     "data": {
      "text/plain": [
       "array([ 1,  2,  3,  4,  5,  6,  7,  8,  9, 10])"
      ]
     },
     "execution_count": 576,
     "metadata": {},
     "output_type": "execute_result"
    }
   ],
   "execution_count": 576
  },
  {
   "metadata": {
    "ExecuteTime": {
     "end_time": "2024-07-23T10:21:37.145386Z",
     "start_time": "2024-07-23T10:21:37.137940Z"
    }
   },
   "cell_type": "code",
   "source": "operator_example_arr * 2",
   "id": "219835f228c8e314",
   "outputs": [
    {
     "data": {
      "text/plain": [
       "array([ 2,  4,  6,  8, 10, 12, 14, 16, 18, 20])"
      ]
     },
     "execution_count": 577,
     "metadata": {},
     "output_type": "execute_result"
    }
   ],
   "execution_count": 577
  },
  {
   "metadata": {
    "ExecuteTime": {
     "end_time": "2024-07-23T10:21:37.717446Z",
     "start_time": "2024-07-23T10:21:37.713596Z"
    }
   },
   "cell_type": "code",
   "source": "",
   "id": "8216da39156d0635",
   "outputs": [],
   "execution_count": 577
  },
  {
   "metadata": {
    "ExecuteTime": {
     "end_time": "2024-07-23T10:21:38.204400Z",
     "start_time": "2024-07-23T10:21:38.200093Z"
    }
   },
   "cell_type": "code",
   "source": "",
   "id": "508aaa2016103da3",
   "outputs": [],
   "execution_count": 577
  },
  {
   "metadata": {},
   "cell_type": "markdown",
   "source": "### delete from array",
   "id": "dac2bdd520dad6af"
  },
  {
   "metadata": {
    "ExecuteTime": {
     "end_time": "2024-07-23T10:21:38.884023Z",
     "start_time": "2024-07-23T10:21:38.878866Z"
    }
   },
   "cell_type": "code",
   "source": "delete_example_arr = np.arange(1, 11)",
   "id": "187f14e487cd67ba",
   "outputs": [],
   "execution_count": 578
  },
  {
   "metadata": {
    "ExecuteTime": {
     "end_time": "2024-07-23T10:21:39.304759Z",
     "start_time": "2024-07-23T10:21:39.297136Z"
    }
   },
   "cell_type": "code",
   "source": "delete_example_arr",
   "id": "80f83a2d16d0d948",
   "outputs": [
    {
     "data": {
      "text/plain": [
       "array([ 1,  2,  3,  4,  5,  6,  7,  8,  9, 10])"
      ]
     },
     "execution_count": 579,
     "metadata": {},
     "output_type": "execute_result"
    }
   ],
   "execution_count": 579
  },
  {
   "metadata": {
    "ExecuteTime": {
     "end_time": "2024-07-23T10:21:39.836664Z",
     "start_time": "2024-07-23T10:21:39.832925Z"
    }
   },
   "cell_type": "code",
   "source": "index_of_delete_example_arr = [2]",
   "id": "f44fb26fe3e81c07",
   "outputs": [],
   "execution_count": 580
  },
  {
   "metadata": {
    "ExecuteTime": {
     "end_time": "2024-07-23T10:21:40.271558Z",
     "start_time": "2024-07-23T10:21:40.266318Z"
    }
   },
   "cell_type": "code",
   "source": "delete_example_arr2 = np.delete(operator_example_arr, index_of_delete_example_arr)",
   "id": "855f8d4d2f0dd483",
   "outputs": [],
   "execution_count": 581
  },
  {
   "metadata": {
    "ExecuteTime": {
     "end_time": "2024-07-23T10:21:40.916935Z",
     "start_time": "2024-07-23T10:21:40.909269Z"
    }
   },
   "cell_type": "code",
   "source": "delete_example_arr2",
   "id": "369566e4996aafd6",
   "outputs": [
    {
     "data": {
      "text/plain": [
       "array([ 1,  2,  4,  5,  6,  7,  8,  9, 10])"
      ]
     },
     "execution_count": 582,
     "metadata": {},
     "output_type": "execute_result"
    }
   ],
   "execution_count": 582
  },
  {
   "metadata": {
    "ExecuteTime": {
     "end_time": "2024-07-23T10:21:41.318547Z",
     "start_time": "2024-07-23T10:21:41.307880Z"
    }
   },
   "cell_type": "code",
   "source": "operator_example_arr",
   "id": "5c6d3f634cd3908a",
   "outputs": [
    {
     "data": {
      "text/plain": [
       "array([ 1,  2,  3,  4,  5,  6,  7,  8,  9, 10])"
      ]
     },
     "execution_count": 583,
     "metadata": {},
     "output_type": "execute_result"
    }
   ],
   "execution_count": 583
  },
  {
   "metadata": {
    "ExecuteTime": {
     "end_time": "2024-07-23T10:21:41.883144Z",
     "start_time": "2024-07-23T10:21:41.875492Z"
    }
   },
   "cell_type": "code",
   "source": "delete_example_arr2",
   "id": "73d1b211ed5ee350",
   "outputs": [
    {
     "data": {
      "text/plain": [
       "array([ 1,  2,  4,  5,  6,  7,  8,  9, 10])"
      ]
     },
     "execution_count": 584,
     "metadata": {},
     "output_type": "execute_result"
    }
   ],
   "execution_count": 584
  },
  {
   "metadata": {
    "ExecuteTime": {
     "end_time": "2024-07-23T10:21:42.377146Z",
     "start_time": "2024-07-23T10:21:42.365854Z"
    }
   },
   "cell_type": "code",
   "source": "np.delete(delete_example_arr, [3, 6, 8])",
   "id": "9a258bb62f70fc01",
   "outputs": [
    {
     "data": {
      "text/plain": [
       "array([ 1,  2,  3,  5,  6,  8, 10])"
      ]
     },
     "execution_count": 585,
     "metadata": {},
     "output_type": "execute_result"
    }
   ],
   "execution_count": 585
  },
  {
   "metadata": {
    "ExecuteTime": {
     "end_time": "2024-07-23T10:21:43.010703Z",
     "start_time": "2024-07-23T10:21:43.003722Z"
    }
   },
   "cell_type": "code",
   "source": "np.setdiff1d(delete_example_arr, [2, 5, 7, 307])",
   "id": "dbe9c9954af55293",
   "outputs": [
    {
     "data": {
      "text/plain": [
       "array([ 1,  3,  4,  6,  8,  9, 10])"
      ]
     },
     "execution_count": 586,
     "metadata": {},
     "output_type": "execute_result"
    }
   ],
   "execution_count": 586
  },
  {
   "metadata": {
    "ExecuteTime": {
     "end_time": "2024-07-23T10:21:43.517593Z",
     "start_time": "2024-07-23T10:21:43.511487Z"
    }
   },
   "cell_type": "code",
   "source": "# delete a column",
   "id": "509280897dcdb368",
   "outputs": [],
   "execution_count": 587
  },
  {
   "metadata": {
    "ExecuteTime": {
     "end_time": "2024-07-23T10:21:44.202059Z",
     "start_time": "2024-07-23T10:21:44.195905Z"
    }
   },
   "cell_type": "code",
   "source": "delete_example_two_d_arr = np.arange(1, 13).reshape(3, 4)",
   "id": "619df300b34f4196",
   "outputs": [],
   "execution_count": 588
  },
  {
   "metadata": {
    "ExecuteTime": {
     "end_time": "2024-07-23T10:21:44.669059Z",
     "start_time": "2024-07-23T10:21:44.660229Z"
    }
   },
   "cell_type": "code",
   "source": "delete_example_two_d_arr",
   "id": "5c871760e728081d",
   "outputs": [
    {
     "data": {
      "text/plain": [
       "array([[ 1,  2,  3,  4],\n",
       "       [ 5,  6,  7,  8],\n",
       "       [ 9, 10, 11, 12]])"
      ]
     },
     "execution_count": 589,
     "metadata": {},
     "output_type": "execute_result"
    }
   ],
   "execution_count": 589
  },
  {
   "metadata": {},
   "cell_type": "markdown",
   "source": "",
   "id": "d47c7bb72669a4d2"
  },
  {
   "metadata": {
    "ExecuteTime": {
     "end_time": "2024-07-23T10:21:45.153596Z",
     "start_time": "2024-07-23T10:21:45.147777Z"
    }
   },
   "cell_type": "code",
   "source": "np.delete(delete_example_two_d_arr, 1, axis=1)",
   "id": "b1a0c9dda88260d",
   "outputs": [
    {
     "data": {
      "text/plain": [
       "array([[ 1,  3,  4],\n",
       "       [ 5,  7,  8],\n",
       "       [ 9, 11, 12]])"
      ]
     },
     "execution_count": 590,
     "metadata": {},
     "output_type": "execute_result"
    }
   ],
   "execution_count": 590
  },
  {
   "metadata": {
    "ExecuteTime": {
     "end_time": "2024-07-23T10:21:45.572443Z",
     "start_time": "2024-07-23T10:21:45.563552Z"
    }
   },
   "cell_type": "code",
   "source": "np.delete(delete_example_two_d_arr, 1, axis=0)",
   "id": "35ba62a8d4717ef4",
   "outputs": [
    {
     "data": {
      "text/plain": [
       "array([[ 1,  2,  3,  4],\n",
       "       [ 9, 10, 11, 12]])"
      ]
     },
     "execution_count": 591,
     "metadata": {},
     "output_type": "execute_result"
    }
   ],
   "execution_count": 591
  },
  {
   "metadata": {
    "ExecuteTime": {
     "end_time": "2024-07-23T10:21:46.293161Z",
     "start_time": "2024-07-23T10:21:46.285147Z"
    }
   },
   "cell_type": "code",
   "source": "np.delete(delete_example_two_d_arr, [0, 2], axis=0)",
   "id": "b2bba4ae174c3ad9",
   "outputs": [
    {
     "data": {
      "text/plain": [
       "array([[5, 6, 7, 8]])"
      ]
     },
     "execution_count": 592,
     "metadata": {},
     "output_type": "execute_result"
    }
   ],
   "execution_count": 592
  },
  {
   "metadata": {
    "ExecuteTime": {
     "end_time": "2024-07-23T10:21:46.908390Z",
     "start_time": "2024-07-23T10:21:46.905020Z"
    }
   },
   "cell_type": "code",
   "source": "",
   "id": "fcc9248a6f617cd1",
   "outputs": [],
   "execution_count": 592
  },
  {
   "metadata": {},
   "cell_type": "markdown",
   "source": "### appending and inserting elements in the array",
   "id": "7c19cedc8684e8b6"
  },
  {
   "metadata": {
    "ExecuteTime": {
     "end_time": "2024-07-23T10:21:47.561344Z",
     "start_time": "2024-07-23T10:21:47.556938Z"
    }
   },
   "cell_type": "code",
   "source": "append_example_arr = np.array([1, 2, 3, 4, 5])",
   "id": "3fd16889c7454735",
   "outputs": [],
   "execution_count": 593
  },
  {
   "metadata": {
    "ExecuteTime": {
     "end_time": "2024-07-23T10:21:48.016416Z",
     "start_time": "2024-07-23T10:21:48.007886Z"
    }
   },
   "cell_type": "code",
   "source": "np.append(append_example_arr, 44)",
   "id": "db619d2bae274336",
   "outputs": [
    {
     "data": {
      "text/plain": [
       "array([ 1,  2,  3,  4,  5, 44])"
      ]
     },
     "execution_count": 594,
     "metadata": {},
     "output_type": "execute_result"
    }
   ],
   "execution_count": 594
  },
  {
   "metadata": {
    "ExecuteTime": {
     "end_time": "2024-07-23T10:21:48.588126Z",
     "start_time": "2024-07-23T10:21:48.580124Z"
    }
   },
   "cell_type": "code",
   "source": "np.insert(append_example_arr, 3, [44, 44])",
   "id": "22dfb213fd2fea43",
   "outputs": [
    {
     "data": {
      "text/plain": [
       "array([ 1,  2,  3, 44, 44,  4,  5])"
      ]
     },
     "execution_count": 595,
     "metadata": {},
     "output_type": "execute_result"
    }
   ],
   "execution_count": 595
  },
  {
   "metadata": {
    "ExecuteTime": {
     "end_time": "2024-07-23T10:21:48.999935Z",
     "start_time": "2024-07-23T10:21:48.996299Z"
    }
   },
   "cell_type": "code",
   "source": "",
   "id": "186c36bd90d25928",
   "outputs": [],
   "execution_count": 595
  },
  {
   "metadata": {},
   "cell_type": "markdown",
   "source": "### newaxis",
   "id": "8f98a6320ed745b"
  },
  {
   "metadata": {
    "ExecuteTime": {
     "end_time": "2024-07-23T10:21:49.686014Z",
     "start_time": "2024-07-23T10:21:49.680877Z"
    }
   },
   "cell_type": "code",
   "source": "new_axis_example_arr = np.array([1, 2, 3, 4, 5])",
   "id": "7caca2a615454bd",
   "outputs": [],
   "execution_count": 596
  },
  {
   "metadata": {
    "ExecuteTime": {
     "end_time": "2024-07-23T10:21:50.238630Z",
     "start_time": "2024-07-23T10:21:50.229824Z"
    }
   },
   "cell_type": "code",
   "source": "new_axis_example_arr",
   "id": "6e58aabf912a82cb",
   "outputs": [
    {
     "data": {
      "text/plain": [
       "array([1, 2, 3, 4, 5])"
      ]
     },
     "execution_count": 597,
     "metadata": {},
     "output_type": "execute_result"
    }
   ],
   "execution_count": 597
  },
  {
   "metadata": {
    "ExecuteTime": {
     "end_time": "2024-07-23T10:21:50.743212Z",
     "start_time": "2024-07-23T10:21:50.738933Z"
    }
   },
   "cell_type": "code",
   "source": "new_axis_example_arr1 = new_axis_example_arr[:]",
   "id": "49fbe9ab9fd47a73",
   "outputs": [],
   "execution_count": 598
  },
  {
   "metadata": {
    "ExecuteTime": {
     "end_time": "2024-07-23T10:21:51.140197Z",
     "start_time": "2024-07-23T10:21:51.134422Z"
    }
   },
   "cell_type": "code",
   "source": "new_axis_example_arr1",
   "id": "1041bafd68e97bb",
   "outputs": [
    {
     "data": {
      "text/plain": [
       "array([1, 2, 3, 4, 5])"
      ]
     },
     "execution_count": 599,
     "metadata": {},
     "output_type": "execute_result"
    }
   ],
   "execution_count": 599
  },
  {
   "metadata": {
    "ExecuteTime": {
     "end_time": "2024-07-23T10:21:51.780250Z",
     "start_time": "2024-07-23T10:21:51.771433Z"
    }
   },
   "cell_type": "code",
   "source": "new_axis_example_arr1[np.newaxis, :]",
   "id": "4c423def9cb38037",
   "outputs": [
    {
     "data": {
      "text/plain": [
       "array([[1, 2, 3, 4, 5]])"
      ]
     },
     "execution_count": 600,
     "metadata": {},
     "output_type": "execute_result"
    }
   ],
   "execution_count": 600
  },
  {
   "metadata": {
    "ExecuteTime": {
     "end_time": "2024-07-23T10:21:52.250149Z",
     "start_time": "2024-07-23T10:21:52.245174Z"
    }
   },
   "cell_type": "code",
   "source": "new_axis_example_arr2 = np.arange(1, 26).reshape(5, 5)",
   "id": "c9d08e278184cd96",
   "outputs": [],
   "execution_count": 601
  },
  {
   "metadata": {
    "ExecuteTime": {
     "end_time": "2024-07-23T10:21:52.896857Z",
     "start_time": "2024-07-23T10:21:52.889977Z"
    }
   },
   "cell_type": "code",
   "source": "new_axis_example_arr2",
   "id": "d65002d3bc0beb5",
   "outputs": [
    {
     "data": {
      "text/plain": [
       "array([[ 1,  2,  3,  4,  5],\n",
       "       [ 6,  7,  8,  9, 10],\n",
       "       [11, 12, 13, 14, 15],\n",
       "       [16, 17, 18, 19, 20],\n",
       "       [21, 22, 23, 24, 25]])"
      ]
     },
     "execution_count": 602,
     "metadata": {},
     "output_type": "execute_result"
    }
   ],
   "execution_count": 602
  },
  {
   "metadata": {
    "ExecuteTime": {
     "end_time": "2024-07-23T10:21:53.397156Z",
     "start_time": "2024-07-23T10:21:53.392628Z"
    }
   },
   "cell_type": "code",
   "source": "new_axis_example_arr3 = new_axis_example_arr2[np.newaxis, :]",
   "id": "37bf2fa5731e1a71",
   "outputs": [],
   "execution_count": 603
  },
  {
   "metadata": {
    "ExecuteTime": {
     "end_time": "2024-07-23T10:21:53.913873Z",
     "start_time": "2024-07-23T10:21:53.905716Z"
    }
   },
   "cell_type": "code",
   "source": "new_axis_example_arr3",
   "id": "5c0efa4a62f95702",
   "outputs": [
    {
     "data": {
      "text/plain": [
       "array([[[ 1,  2,  3,  4,  5],\n",
       "        [ 6,  7,  8,  9, 10],\n",
       "        [11, 12, 13, 14, 15],\n",
       "        [16, 17, 18, 19, 20],\n",
       "        [21, 22, 23, 24, 25]]])"
      ]
     },
     "execution_count": 604,
     "metadata": {},
     "output_type": "execute_result"
    }
   ],
   "execution_count": 604
  },
  {
   "metadata": {
    "ExecuteTime": {
     "end_time": "2024-07-23T10:21:54.423516Z",
     "start_time": "2024-07-23T10:21:54.417957Z"
    }
   },
   "cell_type": "code",
   "source": "new_axis_example_arr4 = new_axis_example_arr2[:, np.newaxis]",
   "id": "14ef8782685cdde7",
   "outputs": [],
   "execution_count": 605
  },
  {
   "metadata": {
    "ExecuteTime": {
     "end_time": "2024-07-23T10:21:54.953746Z",
     "start_time": "2024-07-23T10:21:54.944928Z"
    }
   },
   "cell_type": "code",
   "source": "new_axis_example_arr4",
   "id": "8c843107511aa8d4",
   "outputs": [
    {
     "data": {
      "text/plain": [
       "array([[[ 1,  2,  3,  4,  5]],\n",
       "\n",
       "       [[ 6,  7,  8,  9, 10]],\n",
       "\n",
       "       [[11, 12, 13, 14, 15]],\n",
       "\n",
       "       [[16, 17, 18, 19, 20]],\n",
       "\n",
       "       [[21, 22, 23, 24, 25]]])"
      ]
     },
     "execution_count": 606,
     "metadata": {},
     "output_type": "execute_result"
    }
   ],
   "execution_count": 606
  },
  {
   "metadata": {
    "ExecuteTime": {
     "end_time": "2024-07-23T10:21:55.432696Z",
     "start_time": "2024-07-23T10:21:55.427665Z"
    }
   },
   "cell_type": "code",
   "source": "new_axis_example_arr5 = new_axis_example_arr2[np.newaxis, :, np.newaxis]",
   "id": "ff1f470abfe0c6bc",
   "outputs": [],
   "execution_count": 607
  },
  {
   "metadata": {
    "ExecuteTime": {
     "end_time": "2024-07-23T10:21:56.022675Z",
     "start_time": "2024-07-23T10:21:56.016353Z"
    }
   },
   "cell_type": "code",
   "source": "new_axis_example_arr5",
   "id": "4acc3504a2d4c8c6",
   "outputs": [
    {
     "data": {
      "text/plain": [
       "array([[[[ 1,  2,  3,  4,  5]],\n",
       "\n",
       "        [[ 6,  7,  8,  9, 10]],\n",
       "\n",
       "        [[11, 12, 13, 14, 15]],\n",
       "\n",
       "        [[16, 17, 18, 19, 20]],\n",
       "\n",
       "        [[21, 22, 23, 24, 25]]]])"
      ]
     },
     "execution_count": 608,
     "metadata": {},
     "output_type": "execute_result"
    }
   ],
   "execution_count": 608
  },
  {
   "metadata": {},
   "cell_type": "markdown",
   "source": "### searching",
   "id": "81b875d1e5cf3ea5"
  },
  {
   "metadata": {
    "ExecuteTime": {
     "end_time": "2024-07-23T10:21:56.496453Z",
     "start_time": "2024-07-23T10:21:56.491942Z"
    }
   },
   "cell_type": "code",
   "source": "search_example_arr = np.arange(1, 6)",
   "id": "32f888ef106b831a",
   "outputs": [],
   "execution_count": 609
  },
  {
   "metadata": {
    "ExecuteTime": {
     "end_time": "2024-07-23T10:21:57.169521Z",
     "start_time": "2024-07-23T10:21:57.163186Z"
    }
   },
   "cell_type": "code",
   "source": "search_example_arr",
   "id": "91fb10394678e9d9",
   "outputs": [
    {
     "data": {
      "text/plain": [
       "array([1, 2, 3, 4, 5])"
      ]
     },
     "execution_count": 610,
     "metadata": {},
     "output_type": "execute_result"
    }
   ],
   "execution_count": 610
  },
  {
   "metadata": {
    "ExecuteTime": {
     "end_time": "2024-07-23T10:21:57.616051Z",
     "start_time": "2024-07-23T10:21:57.606707Z"
    }
   },
   "cell_type": "code",
   "source": "np.where(search_example_arr == 2)",
   "id": "ec9c5047dfd022c0",
   "outputs": [
    {
     "data": {
      "text/plain": [
       "(array([1]),)"
      ]
     },
     "execution_count": 611,
     "metadata": {},
     "output_type": "execute_result"
    }
   ],
   "execution_count": 611
  },
  {
   "metadata": {
    "ExecuteTime": {
     "end_time": "2024-07-23T10:21:58.160898Z",
     "start_time": "2024-07-23T10:21:58.155406Z"
    }
   },
   "cell_type": "code",
   "source": "np.where(search_example_arr % 2 == 1)",
   "id": "62fed48f06096d5",
   "outputs": [
    {
     "data": {
      "text/plain": [
       "(array([0, 2, 4]),)"
      ]
     },
     "execution_count": 612,
     "metadata": {},
     "output_type": "execute_result"
    }
   ],
   "execution_count": 612
  },
  {
   "metadata": {
    "ExecuteTime": {
     "end_time": "2024-07-23T10:21:58.637636Z",
     "start_time": "2024-07-23T10:21:58.632138Z"
    }
   },
   "cell_type": "code",
   "source": "",
   "id": "616154523ee56d4b",
   "outputs": [],
   "execution_count": 612
  },
  {
   "metadata": {},
   "cell_type": "markdown",
   "source": "### multiply",
   "id": "4e3f1605de0f1841"
  },
  {
   "metadata": {
    "ExecuteTime": {
     "end_time": "2024-07-23T10:21:59.265059Z",
     "start_time": "2024-07-23T10:21:59.260347Z"
    }
   },
   "cell_type": "code",
   "source": "multiply_example_arr = np.arange(1, 6)",
   "id": "bf4f45b9ec1cf99c",
   "outputs": [],
   "execution_count": 613
  },
  {
   "metadata": {
    "ExecuteTime": {
     "end_time": "2024-07-23T10:21:59.805783Z",
     "start_time": "2024-07-23T10:21:59.793020Z"
    }
   },
   "cell_type": "code",
   "source": "multiply_example_arr",
   "id": "bff465010985d4f",
   "outputs": [
    {
     "data": {
      "text/plain": [
       "array([1, 2, 3, 4, 5])"
      ]
     },
     "execution_count": 614,
     "metadata": {},
     "output_type": "execute_result"
    }
   ],
   "execution_count": 614
  },
  {
   "metadata": {
    "ExecuteTime": {
     "end_time": "2024-07-23T10:22:00.413477Z",
     "start_time": "2024-07-23T10:22:00.406563Z"
    }
   },
   "cell_type": "code",
   "source": "np.multiply(2, multiply_example_arr)\n",
   "id": "91956b3624d542ef",
   "outputs": [
    {
     "data": {
      "text/plain": [
       "array([ 2,  4,  6,  8, 10])"
      ]
     },
     "execution_count": 615,
     "metadata": {},
     "output_type": "execute_result"
    }
   ],
   "execution_count": 615
  },
  {
   "metadata": {},
   "cell_type": "markdown",
   "source": "### dot product",
   "id": "7d083a1b0797cebc"
  },
  {
   "metadata": {
    "ExecuteTime": {
     "end_time": "2024-07-23T10:22:00.812120Z",
     "start_time": "2024-07-23T10:22:00.808037Z"
    }
   },
   "cell_type": "code",
   "source": [
    "dot_x = [\n",
    "    [1, 2, 3],\n",
    "    [1, 2, 3],\n",
    "    [1, 2, 3]\n",
    "]"
   ],
   "id": "cbb7993109ae88a7",
   "outputs": [],
   "execution_count": 616
  },
  {
   "metadata": {
    "ExecuteTime": {
     "end_time": "2024-07-23T10:22:01.488777Z",
     "start_time": "2024-07-23T10:22:01.483493Z"
    }
   },
   "cell_type": "code",
   "source": [
    "dot_y = [\n",
    "    [1, 2, 3],\n",
    "    [1, 2, 3],\n",
    "    [1, 2, 3],\n",
    "]"
   ],
   "id": "aae0615b8aa9dfd8",
   "outputs": [],
   "execution_count": 617
  },
  {
   "metadata": {
    "ExecuteTime": {
     "end_time": "2024-07-23T10:22:02.052625Z",
     "start_time": "2024-07-23T10:22:02.039846Z"
    }
   },
   "cell_type": "code",
   "source": "np.dot(dot_x, dot_y)",
   "id": "4122ca0da3b8e507",
   "outputs": [
    {
     "data": {
      "text/plain": [
       "array([[ 6, 12, 18],\n",
       "       [ 6, 12, 18],\n",
       "       [ 6, 12, 18]])"
      ]
     },
     "execution_count": 618,
     "metadata": {},
     "output_type": "execute_result"
    }
   ],
   "execution_count": 618
  },
  {
   "metadata": {
    "ExecuteTime": {
     "end_time": "2024-07-23T10:22:02.652332Z",
     "start_time": "2024-07-23T10:22:02.648745Z"
    }
   },
   "cell_type": "code",
   "source": "",
   "id": "deb4439541590f5b",
   "outputs": [],
   "execution_count": 618
  },
  {
   "metadata": {},
   "cell_type": "markdown",
   "source": "### trace",
   "id": "7d89b8812f561089"
  },
  {
   "metadata": {
    "ExecuteTime": {
     "end_time": "2024-07-23T10:22:03.130531Z",
     "start_time": "2024-07-23T10:22:03.121050Z"
    }
   },
   "cell_type": "code",
   "source": "trace_example_arr = np.arange(1, 10).reshape(3, 3)",
   "id": "9f88c9b6fa2fa505",
   "outputs": [],
   "execution_count": 619
  },
  {
   "metadata": {
    "ExecuteTime": {
     "end_time": "2024-07-23T10:22:04.164933Z",
     "start_time": "2024-07-23T10:22:04.159525Z"
    }
   },
   "cell_type": "code",
   "source": "trace_example_arr",
   "id": "9d84be9cd2a412cc",
   "outputs": [
    {
     "data": {
      "text/plain": [
       "array([[1, 2, 3],\n",
       "       [4, 5, 6],\n",
       "       [7, 8, 9]])"
      ]
     },
     "execution_count": 620,
     "metadata": {},
     "output_type": "execute_result"
    }
   ],
   "execution_count": 620
  },
  {
   "metadata": {
    "ExecuteTime": {
     "end_time": "2024-07-23T10:22:04.443992Z",
     "start_time": "2024-07-23T10:22:04.437259Z"
    }
   },
   "cell_type": "code",
   "source": "np.trace(trace_example_arr)",
   "id": "33bced5102cba3de",
   "outputs": [
    {
     "data": {
      "text/plain": [
       "15"
      ]
     },
     "execution_count": 621,
     "metadata": {},
     "output_type": "execute_result"
    }
   ],
   "execution_count": 621
  },
  {
   "metadata": {
    "ExecuteTime": {
     "end_time": "2024-07-23T10:22:04.969529Z",
     "start_time": "2024-07-23T10:22:04.964581Z"
    }
   },
   "cell_type": "code",
   "source": "",
   "id": "33990e7b29a9f3b6",
   "outputs": [],
   "execution_count": 621
  },
  {
   "metadata": {},
   "cell_type": "markdown",
   "source": "### outer product",
   "id": "7e1ce59693a676b6"
  },
  {
   "metadata": {
    "ExecuteTime": {
     "end_time": "2024-07-23T10:22:05.430401Z",
     "start_time": "2024-07-23T10:22:05.425294Z"
    }
   },
   "cell_type": "code",
   "source": [
    "outer_x = [\n",
    "    [1, 2, 3],\n",
    "    [1, 2, 3],\n",
    "    [1, 2, 3]\n",
    "]"
   ],
   "id": "52d0b4bf10eb7f98",
   "outputs": [],
   "execution_count": 622
  },
  {
   "metadata": {
    "ExecuteTime": {
     "end_time": "2024-07-23T10:22:06.049830Z",
     "start_time": "2024-07-23T10:22:06.045344Z"
    }
   },
   "cell_type": "code",
   "source": [
    "outer_y = [\n",
    "    [1, 2, 3],\n",
    "    [1, 2, 3],\n",
    "    [1, 2, 3],\n",
    "]"
   ],
   "id": "6c510023ffec47ec",
   "outputs": [],
   "execution_count": 623
  },
  {
   "metadata": {
    "ExecuteTime": {
     "end_time": "2024-07-23T10:22:06.498540Z",
     "start_time": "2024-07-23T10:22:06.492494Z"
    }
   },
   "cell_type": "code",
   "source": "np.outer(outer_x, outer_y)",
   "id": "1a46687ac5e90613",
   "outputs": [
    {
     "data": {
      "text/plain": [
       "array([[1, 2, 3, 1, 2, 3, 1, 2, 3],\n",
       "       [2, 4, 6, 2, 4, 6, 2, 4, 6],\n",
       "       [3, 6, 9, 3, 6, 9, 3, 6, 9],\n",
       "       [1, 2, 3, 1, 2, 3, 1, 2, 3],\n",
       "       [2, 4, 6, 2, 4, 6, 2, 4, 6],\n",
       "       [3, 6, 9, 3, 6, 9, 3, 6, 9],\n",
       "       [1, 2, 3, 1, 2, 3, 1, 2, 3],\n",
       "       [2, 4, 6, 2, 4, 6, 2, 4, 6],\n",
       "       [3, 6, 9, 3, 6, 9, 3, 6, 9]])"
      ]
     },
     "execution_count": 624,
     "metadata": {},
     "output_type": "execute_result"
    }
   ],
   "execution_count": 624
  },
  {
   "metadata": {
    "ExecuteTime": {
     "end_time": "2024-07-23T10:22:07.047852Z",
     "start_time": "2024-07-23T10:22:07.044860Z"
    }
   },
   "cell_type": "code",
   "source": "",
   "id": "b7facca2723c9a18",
   "outputs": [],
   "execution_count": 624
  },
  {
   "metadata": {},
   "cell_type": "markdown",
   "source": "### inner product",
   "id": "9ccf099667316162"
  },
  {
   "metadata": {
    "ExecuteTime": {
     "end_time": "2024-07-23T10:22:07.438063Z",
     "start_time": "2024-07-23T10:22:07.433455Z"
    }
   },
   "cell_type": "code",
   "source": [
    "inner_x = [\n",
    "    [1, 2, 3],\n",
    "    [1, 2, 3],\n",
    "    [1, 2, 3]\n",
    "]"
   ],
   "id": "3c34972bb1ed0e96",
   "outputs": [],
   "execution_count": 625
  },
  {
   "metadata": {
    "ExecuteTime": {
     "end_time": "2024-07-23T10:22:08.070959Z",
     "start_time": "2024-07-23T10:22:08.064660Z"
    }
   },
   "cell_type": "code",
   "source": [
    "inner_y = [\n",
    "    [1, 2, 3],\n",
    "    [1, 2, 3],\n",
    "    [1, 2, 3],\n",
    "]"
   ],
   "id": "f0f4289c82a1f63b",
   "outputs": [],
   "execution_count": 626
  },
  {
   "metadata": {
    "ExecuteTime": {
     "end_time": "2024-07-23T10:22:08.478812Z",
     "start_time": "2024-07-23T10:22:08.472936Z"
    }
   },
   "cell_type": "code",
   "source": "np.inner(inner_x, inner_y)",
   "id": "4f5e37ac42b5bbec",
   "outputs": [
    {
     "data": {
      "text/plain": [
       "array([[14, 14, 14],\n",
       "       [14, 14, 14],\n",
       "       [14, 14, 14]])"
      ]
     },
     "execution_count": 627,
     "metadata": {},
     "output_type": "execute_result"
    }
   ],
   "execution_count": 627
  },
  {
   "metadata": {
    "ExecuteTime": {
     "end_time": "2024-07-23T10:22:09.041773Z",
     "start_time": "2024-07-23T10:22:09.038605Z"
    }
   },
   "cell_type": "code",
   "source": "",
   "id": "71f72945c0d2ec04",
   "outputs": [],
   "execution_count": 627
  },
  {
   "metadata": {},
   "cell_type": "markdown",
   "source": "### cross product",
   "id": "a3f5535adf7df27c"
  },
  {
   "metadata": {
    "ExecuteTime": {
     "end_time": "2024-07-23T10:22:09.427356Z",
     "start_time": "2024-07-23T10:22:09.423301Z"
    }
   },
   "cell_type": "code",
   "source": [
    "cross_x = [\n",
    "    [1, 2, 3],\n",
    "    [1, 2, 3],\n",
    "    [1, 2, 3]\n",
    "]"
   ],
   "id": "20563e472b31ed71",
   "outputs": [],
   "execution_count": 628
  },
  {
   "metadata": {
    "ExecuteTime": {
     "end_time": "2024-07-23T10:22:10.097731Z",
     "start_time": "2024-07-23T10:22:10.091066Z"
    }
   },
   "cell_type": "code",
   "source": [
    "cross_y = [\n",
    "    [1, 2, 3],\n",
    "    [1, 2, 3],\n",
    "    [1, 2, 3],\n",
    "]"
   ],
   "id": "eecb28e88c1581a",
   "outputs": [],
   "execution_count": 629
  },
  {
   "metadata": {
    "ExecuteTime": {
     "end_time": "2024-07-23T10:22:10.499932Z",
     "start_time": "2024-07-23T10:22:10.494145Z"
    }
   },
   "cell_type": "code",
   "source": "np.cross(cross_x, cross_y)",
   "id": "1f3a39e2b45c728b",
   "outputs": [
    {
     "data": {
      "text/plain": [
       "array([[0, 0, 0],\n",
       "       [0, 0, 0],\n",
       "       [0, 0, 0]])"
      ]
     },
     "execution_count": 630,
     "metadata": {},
     "output_type": "execute_result"
    }
   ],
   "execution_count": 630
  },
  {
   "metadata": {
    "ExecuteTime": {
     "end_time": "2024-07-23T10:22:11.047497Z",
     "start_time": "2024-07-23T10:22:11.040692Z"
    }
   },
   "cell_type": "code",
   "source": "np.cross(cross_y, cross_x)",
   "id": "c2c734d1c33ffc8b",
   "outputs": [
    {
     "data": {
      "text/plain": [
       "array([[0, 0, 0],\n",
       "       [0, 0, 0],\n",
       "       [0, 0, 0]])"
      ]
     },
     "execution_count": 631,
     "metadata": {},
     "output_type": "execute_result"
    }
   ],
   "execution_count": 631
  },
  {
   "metadata": {
    "ExecuteTime": {
     "end_time": "2024-07-23T10:22:11.456450Z",
     "start_time": "2024-07-23T10:22:11.452948Z"
    }
   },
   "cell_type": "code",
   "source": "",
   "id": "4887df3ebc62237c",
   "outputs": [],
   "execution_count": 631
  },
  {
   "metadata": {},
   "cell_type": "markdown",
   "source": "### kronecker product of two arrays",
   "id": "b2e4abf74a2a07ae"
  },
  {
   "metadata": {
    "ExecuteTime": {
     "end_time": "2024-07-23T10:23:01.855368Z",
     "start_time": "2024-07-23T10:23:01.848697Z"
    }
   },
   "cell_type": "code",
   "source": [
    "kronecker_x = [\n",
    "    [1, 2, 3],\n",
    "    [1, 2, 3],\n",
    "    [1, 2, 3]\n",
    "]"
   ],
   "id": "bd5bee51c712deb",
   "outputs": [],
   "execution_count": 633
  },
  {
   "metadata": {
    "ExecuteTime": {
     "end_time": "2024-07-23T10:23:03.533704Z",
     "start_time": "2024-07-23T10:23:03.527709Z"
    }
   },
   "cell_type": "code",
   "source": [
    "kronecker_y = [\n",
    "    [1, 2, 3],\n",
    "    [1, 2, 3],\n",
    "    [1, 2, 3],\n",
    "]"
   ],
   "id": "c4f8d7effec9d74c",
   "outputs": [],
   "execution_count": 634
  },
  {
   "metadata": {
    "ExecuteTime": {
     "end_time": "2024-07-23T10:23:29.181915Z",
     "start_time": "2024-07-23T10:23:29.174606Z"
    }
   },
   "cell_type": "code",
   "source": "np.kron(kronecker_x, kronecker_y)",
   "id": "a187f0ce3b4ea258",
   "outputs": [
    {
     "data": {
      "text/plain": [
       "array([[1, 2, 3, 2, 4, 6, 3, 6, 9],\n",
       "       [1, 2, 3, 2, 4, 6, 3, 6, 9],\n",
       "       [1, 2, 3, 2, 4, 6, 3, 6, 9],\n",
       "       [1, 2, 3, 2, 4, 6, 3, 6, 9],\n",
       "       [1, 2, 3, 2, 4, 6, 3, 6, 9],\n",
       "       [1, 2, 3, 2, 4, 6, 3, 6, 9],\n",
       "       [1, 2, 3, 2, 4, 6, 3, 6, 9],\n",
       "       [1, 2, 3, 2, 4, 6, 3, 6, 9],\n",
       "       [1, 2, 3, 2, 4, 6, 3, 6, 9]])"
      ]
     },
     "execution_count": 635,
     "metadata": {},
     "output_type": "execute_result"
    }
   ],
   "execution_count": 635
  },
  {
   "metadata": {},
   "cell_type": "markdown",
   "source": "### determinant",
   "id": "c8649f59f5438eaf"
  },
  {
   "metadata": {
    "ExecuteTime": {
     "end_time": "2024-07-23T10:29:24.190350Z",
     "start_time": "2024-07-23T10:29:24.186261Z"
    }
   },
   "cell_type": "code",
   "source": [
    "determinant_a = [\n",
    "    [1, 2],\n",
    "    [1, 3],\n",
    "]"
   ],
   "id": "b4a457c3a716f40b",
   "outputs": [],
   "execution_count": 638
  },
  {
   "metadata": {
    "ExecuteTime": {
     "end_time": "2024-07-23T10:33:08.837017Z",
     "start_time": "2024-07-23T10:33:08.827598Z"
    }
   },
   "cell_type": "code",
   "source": "np.linalg.det(determinant_a)",
   "id": "3deab596bf5a4357",
   "outputs": [
    {
     "data": {
      "text/plain": [
       "1.0"
      ]
     },
     "execution_count": 640,
     "metadata": {},
     "output_type": "execute_result"
    }
   ],
   "execution_count": 640
  },
  {
   "metadata": {},
   "cell_type": "code",
   "outputs": [],
   "execution_count": null,
   "source": "",
   "id": "7fbcab737586e3a"
  },
  {
   "metadata": {},
   "cell_type": "markdown",
   "source": "### inverse of an array",
   "id": "70de58332c1d6ad5"
  },
  {
   "metadata": {
    "ExecuteTime": {
     "end_time": "2024-07-23T10:36:43.147827Z",
     "start_time": "2024-07-23T10:36:43.139993Z"
    }
   },
   "cell_type": "code",
   "source": [
    "inverse_a = [\n",
    "    [1, 2],\n",
    "    [1, 3],\n",
    "]"
   ],
   "id": "a5212b509e59842e",
   "outputs": [],
   "execution_count": 641
  },
  {
   "metadata": {
    "ExecuteTime": {
     "end_time": "2024-07-23T10:37:02.366076Z",
     "start_time": "2024-07-23T10:37:02.339557Z"
    }
   },
   "cell_type": "code",
   "source": "np.linalg.inv(inverse_a)",
   "id": "94d4ef69fb62bade",
   "outputs": [
    {
     "data": {
      "text/plain": [
       "array([[ 3., -2.],\n",
       "       [-1.,  1.]])"
      ]
     },
     "execution_count": 643,
     "metadata": {},
     "output_type": "execute_result"
    }
   ],
   "execution_count": 643
  },
  {
   "metadata": {},
   "cell_type": "code",
   "outputs": [],
   "execution_count": null,
   "source": "",
   "id": "796f5c7eaf64d721"
  },
  {
   "metadata": {},
   "cell_type": "markdown",
   "source": "### condition number",
   "id": "2821bd1d2e31a42a"
  },
  {
   "metadata": {
    "ExecuteTime": {
     "end_time": "2024-07-23T10:41:16.452272Z",
     "start_time": "2024-07-23T10:41:16.441633Z"
    }
   },
   "cell_type": "code",
   "source": [
    "condition_number_example_arr = [\n",
    "    [1, 2],\n",
    "    [1, 3],\n",
    "]"
   ],
   "id": "f1e658043b9fb0c7",
   "outputs": [],
   "execution_count": 644
  },
  {
   "metadata": {
    "ExecuteTime": {
     "end_time": "2024-07-23T10:41:44.553409Z",
     "start_time": "2024-07-23T10:41:44.546919Z"
    }
   },
   "cell_type": "code",
   "source": "np.linalg.cond(condition_number_example_arr)",
   "id": "8c84cfc594d916a6",
   "outputs": [
    {
     "data": {
      "text/plain": [
       "14.933034373659247"
      ]
     },
     "execution_count": 646,
     "metadata": {},
     "output_type": "execute_result"
    }
   ],
   "execution_count": 646
  },
  {
   "metadata": {},
   "cell_type": "code",
   "outputs": [],
   "execution_count": null,
   "source": "",
   "id": "7289b4a8b2a43227"
  },
  {
   "metadata": {},
   "cell_type": "markdown",
   "source": "### random number generator",
   "id": "e763e3e20121c659"
  },
  {
   "metadata": {
    "ExecuteTime": {
     "end_time": "2024-07-24T05:50:17.741978Z",
     "start_time": "2024-07-24T05:50:17.738840Z"
    }
   },
   "cell_type": "code",
   "source": "from numpy import random",
   "id": "4d18367efdfec27e",
   "outputs": [],
   "execution_count": 647
  },
  {
   "metadata": {
    "ExecuteTime": {
     "end_time": "2024-07-24T05:51:16.420613Z",
     "start_time": "2024-07-24T05:51:16.416209Z"
    }
   },
   "cell_type": "code",
   "source": "random_number_example = random.randint(10)",
   "id": "5e7947ec52439b95",
   "outputs": [],
   "execution_count": 654
  },
  {
   "metadata": {
    "ExecuteTime": {
     "end_time": "2024-07-24T05:51:16.901633Z",
     "start_time": "2024-07-24T05:51:16.895826Z"
    }
   },
   "cell_type": "code",
   "source": "random_number_example",
   "id": "8a568179b9c03445",
   "outputs": [
    {
     "data": {
      "text/plain": [
       "0"
      ]
     },
     "execution_count": 655,
     "metadata": {},
     "output_type": "execute_result"
    }
   ],
   "execution_count": 655
  },
  {
   "metadata": {
    "ExecuteTime": {
     "end_time": "2024-07-24T05:53:19.055171Z",
     "start_time": "2024-07-24T05:53:19.049260Z"
    }
   },
   "cell_type": "code",
   "source": "random.randint(10)",
   "id": "d5623a01f1b00f0e",
   "outputs": [
    {
     "data": {
      "text/plain": [
       "2"
      ]
     },
     "execution_count": 659,
     "metadata": {},
     "output_type": "execute_result"
    }
   ],
   "execution_count": 659
  },
  {
   "metadata": {
    "ExecuteTime": {
     "end_time": "2024-07-24T05:53:37.442066Z",
     "start_time": "2024-07-24T05:53:37.436890Z"
    }
   },
   "cell_type": "code",
   "source": "random.rand()",
   "id": "7e1d3c6bc1a78733",
   "outputs": [
    {
     "data": {
      "text/plain": [
       "0.20701021549187626"
      ]
     },
     "execution_count": 662,
     "metadata": {},
     "output_type": "execute_result"
    }
   ],
   "execution_count": 662
  },
  {
   "metadata": {
    "ExecuteTime": {
     "end_time": "2024-07-24T05:54:55.889721Z",
     "start_time": "2024-07-24T05:54:55.880810Z"
    }
   },
   "cell_type": "code",
   "source": "# generate random array",
   "id": "8be0727e7c99eb1",
   "outputs": [],
   "execution_count": 663
  },
  {
   "metadata": {
    "ExecuteTime": {
     "end_time": "2024-07-24T05:55:23.713557Z",
     "start_time": "2024-07-24T05:55:23.703418Z"
    }
   },
   "cell_type": "code",
   "source": "random.randint(10, size=(10, 10, 10))",
   "id": "c7c2aac09d522b26",
   "outputs": [
    {
     "data": {
      "text/plain": [
       "array([[[0, 8, 4, 1, 1, 0, 2, 7, 8, 9],\n",
       "        [0, 7, 2, 7, 4, 0, 4, 2, 5, 6],\n",
       "        [1, 6, 4, 4, 6, 3, 5, 2, 6, 8],\n",
       "        [0, 6, 9, 3, 7, 3, 7, 8, 9, 1],\n",
       "        [0, 5, 0, 5, 5, 9, 5, 0, 9, 5],\n",
       "        [5, 4, 5, 5, 8, 8, 0, 9, 9, 1],\n",
       "        [6, 6, 0, 7, 4, 7, 1, 3, 2, 0],\n",
       "        [9, 8, 4, 1, 0, 0, 5, 0, 1, 4],\n",
       "        [9, 9, 0, 3, 1, 4, 5, 7, 0, 3],\n",
       "        [0, 4, 1, 6, 2, 3, 8, 9, 4, 3]],\n",
       "\n",
       "       [[5, 8, 1, 8, 3, 1, 9, 1, 5, 7],\n",
       "        [5, 5, 1, 3, 0, 0, 6, 3, 1, 7],\n",
       "        [4, 7, 3, 5, 7, 3, 1, 2, 6, 1],\n",
       "        [5, 4, 2, 3, 2, 1, 4, 3, 9, 6],\n",
       "        [2, 1, 5, 5, 0, 9, 8, 7, 8, 3],\n",
       "        [1, 3, 6, 6, 0, 4, 1, 4, 0, 4],\n",
       "        [4, 8, 8, 9, 9, 5, 2, 8, 4, 8],\n",
       "        [2, 4, 2, 4, 2, 9, 5, 3, 6, 9],\n",
       "        [9, 0, 7, 2, 3, 8, 9, 9, 7, 9],\n",
       "        [2, 1, 6, 7, 9, 6, 5, 4, 1, 0]],\n",
       "\n",
       "       [[4, 2, 8, 8, 2, 8, 3, 0, 9, 8],\n",
       "        [0, 3, 3, 4, 9, 7, 3, 7, 9, 7],\n",
       "        [7, 6, 8, 1, 2, 2, 2, 5, 2, 0],\n",
       "        [5, 8, 2, 9, 0, 0, 6, 0, 1, 5],\n",
       "        [3, 3, 5, 3, 9, 8, 4, 1, 5, 0],\n",
       "        [2, 0, 2, 5, 7, 5, 7, 0, 5, 1],\n",
       "        [0, 4, 9, 9, 9, 5, 3, 8, 1, 2],\n",
       "        [9, 1, 7, 1, 2, 3, 4, 5, 2, 6],\n",
       "        [5, 2, 7, 6, 5, 4, 2, 2, 7, 0],\n",
       "        [7, 8, 1, 3, 8, 1, 3, 6, 1, 7]],\n",
       "\n",
       "       [[6, 6, 4, 0, 1, 8, 2, 6, 9, 9],\n",
       "        [2, 5, 8, 9, 9, 5, 4, 3, 1, 9],\n",
       "        [4, 4, 2, 1, 0, 7, 3, 0, 7, 2],\n",
       "        [9, 2, 0, 6, 9, 5, 4, 9, 9, 4],\n",
       "        [3, 6, 8, 5, 1, 8, 0, 8, 2, 4],\n",
       "        [0, 7, 1, 5, 3, 2, 2, 2, 0, 3],\n",
       "        [3, 2, 3, 1, 9, 9, 3, 5, 8, 2],\n",
       "        [2, 8, 4, 8, 4, 1, 4, 0, 8, 3],\n",
       "        [7, 0, 6, 6, 6, 5, 6, 4, 3, 7],\n",
       "        [5, 7, 1, 5, 8, 5, 7, 0, 5, 9]],\n",
       "\n",
       "       [[2, 4, 3, 6, 5, 9, 9, 0, 9, 3],\n",
       "        [3, 4, 5, 2, 0, 6, 8, 3, 5, 8],\n",
       "        [9, 6, 6, 0, 6, 3, 7, 1, 6, 6],\n",
       "        [8, 1, 0, 3, 7, 8, 6, 3, 4, 7],\n",
       "        [8, 1, 3, 5, 0, 5, 3, 3, 6, 6],\n",
       "        [1, 9, 7, 6, 2, 8, 8, 9, 1, 6],\n",
       "        [9, 7, 8, 3, 8, 3, 3, 5, 2, 4],\n",
       "        [2, 5, 9, 9, 7, 8, 5, 3, 4, 9],\n",
       "        [1, 2, 2, 6, 7, 2, 9, 2, 7, 1],\n",
       "        [7, 9, 5, 8, 7, 3, 5, 9, 9, 5]],\n",
       "\n",
       "       [[0, 8, 1, 9, 8, 9, 0, 8, 6, 4],\n",
       "        [6, 3, 5, 4, 8, 1, 9, 5, 3, 6],\n",
       "        [4, 4, 3, 9, 3, 6, 7, 3, 2, 1],\n",
       "        [1, 7, 9, 7, 9, 0, 3, 5, 7, 4],\n",
       "        [1, 7, 7, 5, 5, 7, 9, 4, 5, 6],\n",
       "        [9, 4, 4, 0, 8, 1, 0, 9, 7, 7],\n",
       "        [0, 5, 0, 9, 4, 0, 7, 4, 0, 9],\n",
       "        [9, 5, 1, 6, 4, 8, 4, 8, 6, 4],\n",
       "        [8, 8, 3, 8, 5, 0, 4, 8, 0, 3],\n",
       "        [2, 8, 4, 0, 7, 6, 3, 6, 7, 2]],\n",
       "\n",
       "       [[7, 1, 2, 2, 5, 3, 7, 7, 1, 0],\n",
       "        [2, 0, 8, 2, 1, 9, 2, 8, 0, 4],\n",
       "        [4, 3, 7, 2, 8, 5, 0, 3, 8, 2],\n",
       "        [6, 8, 5, 6, 3, 7, 9, 5, 7, 1],\n",
       "        [7, 2, 7, 4, 5, 5, 3, 3, 2, 5],\n",
       "        [7, 2, 6, 6, 5, 5, 2, 3, 5, 7],\n",
       "        [8, 9, 5, 4, 5, 5, 4, 7, 4, 8],\n",
       "        [5, 9, 5, 3, 1, 1, 4, 6, 9, 9],\n",
       "        [8, 1, 5, 2, 8, 0, 4, 6, 3, 7],\n",
       "        [5, 1, 4, 9, 9, 2, 5, 3, 9, 6]],\n",
       "\n",
       "       [[6, 4, 1, 0, 2, 0, 2, 1, 5, 0],\n",
       "        [7, 4, 3, 8, 7, 7, 1, 8, 5, 9],\n",
       "        [0, 2, 3, 5, 4, 4, 6, 8, 1, 3],\n",
       "        [4, 0, 0, 8, 6, 9, 9, 5, 6, 3],\n",
       "        [3, 5, 3, 8, 8, 6, 1, 9, 5, 6],\n",
       "        [3, 4, 4, 6, 6, 3, 0, 5, 1, 7],\n",
       "        [7, 4, 3, 9, 7, 0, 0, 9, 4, 0],\n",
       "        [5, 0, 1, 2, 6, 6, 1, 1, 5, 0],\n",
       "        [7, 3, 4, 8, 1, 2, 9, 8, 5, 5],\n",
       "        [0, 5, 6, 5, 5, 8, 5, 3, 4, 4]],\n",
       "\n",
       "       [[8, 9, 3, 5, 4, 5, 8, 8, 5, 1],\n",
       "        [7, 2, 3, 9, 7, 4, 0, 8, 6, 0],\n",
       "        [5, 1, 7, 7, 6, 9, 0, 3, 9, 6],\n",
       "        [8, 8, 7, 5, 5, 0, 3, 6, 3, 7],\n",
       "        [0, 5, 5, 8, 4, 6, 9, 7, 7, 5],\n",
       "        [0, 1, 7, 0, 9, 1, 8, 4, 1, 9],\n",
       "        [2, 8, 0, 6, 1, 1, 2, 0, 5, 2],\n",
       "        [7, 6, 2, 9, 6, 4, 2, 6, 4, 1],\n",
       "        [5, 5, 1, 8, 3, 9, 5, 8, 2, 8],\n",
       "        [0, 7, 8, 7, 6, 0, 7, 2, 0, 9]],\n",
       "\n",
       "       [[7, 4, 4, 0, 7, 4, 6, 8, 0, 0],\n",
       "        [9, 8, 0, 2, 2, 9, 2, 4, 2, 8],\n",
       "        [4, 2, 2, 7, 0, 7, 2, 7, 7, 0],\n",
       "        [1, 2, 6, 0, 9, 9, 6, 6, 0, 9],\n",
       "        [6, 2, 9, 4, 6, 9, 1, 3, 0, 6],\n",
       "        [3, 4, 4, 6, 4, 7, 2, 9, 3, 1],\n",
       "        [5, 1, 6, 7, 9, 8, 3, 9, 5, 2],\n",
       "        [3, 4, 5, 9, 0, 7, 0, 8, 0, 3],\n",
       "        [5, 4, 3, 4, 2, 3, 5, 1, 4, 0],\n",
       "        [9, 5, 6, 3, 9, 7, 5, 2, 7, 8]]])"
      ]
     },
     "execution_count": 665,
     "metadata": {},
     "output_type": "execute_result"
    }
   ],
   "execution_count": 665
  },
  {
   "metadata": {
    "ExecuteTime": {
     "end_time": "2024-07-24T05:57:45.498347Z",
     "start_time": "2024-07-24T05:57:45.489560Z"
    }
   },
   "cell_type": "code",
   "source": "random.rand()",
   "id": "f9239759a589e484",
   "outputs": [
    {
     "data": {
      "text/plain": [
       "0.027559006483543813"
      ]
     },
     "execution_count": 666,
     "metadata": {},
     "output_type": "execute_result"
    }
   ],
   "execution_count": 666
  },
  {
   "metadata": {
    "ExecuteTime": {
     "end_time": "2024-07-24T05:59:43.776284Z",
     "start_time": "2024-07-24T05:59:43.769588Z"
    }
   },
   "cell_type": "code",
   "source": "random.rand(3, 3)",
   "id": "629f964f4b855e73",
   "outputs": [
    {
     "data": {
      "text/plain": [
       "array([[0.68176815, 0.76050576, 0.42110989],\n",
       "       [0.37623111, 0.00469414, 0.90148869],\n",
       "       [0.24961342, 0.65008965, 0.36397434]])"
      ]
     },
     "execution_count": 668,
     "metadata": {},
     "output_type": "execute_result"
    }
   ],
   "execution_count": 668
  },
  {
   "metadata": {
    "ExecuteTime": {
     "end_time": "2024-07-24T06:02:47.668953Z",
     "start_time": "2024-07-24T06:02:47.656779Z"
    }
   },
   "cell_type": "code",
   "source": "random.choice([1, 2, 3, 4, 5, 6, 14, 15, 16, 17, 18], size=(3, 2, 3))",
   "id": "78820c2ce7520ab9",
   "outputs": [
    {
     "data": {
      "text/plain": [
       "array([[[15,  3,  3],\n",
       "        [ 5, 17,  5]],\n",
       "\n",
       "       [[16, 15, 18],\n",
       "        [ 3,  1,  5]],\n",
       "\n",
       "       [[ 4,  3, 17],\n",
       "        [17, 16, 18]]])"
      ]
     },
     "execution_count": 672,
     "metadata": {},
     "output_type": "execute_result"
    }
   ],
   "execution_count": 672
  },
  {
   "metadata": {},
   "cell_type": "code",
   "outputs": [],
   "execution_count": null,
   "source": "",
   "id": "a6c56cb42bd3dd9c"
  },
  {
   "metadata": {},
   "cell_type": "markdown",
   "source": "### random seed",
   "id": "2308d88853355ddf"
  },
  {
   "metadata": {
    "ExecuteTime": {
     "end_time": "2024-07-24T06:05:21.998020Z",
     "start_time": "2024-07-24T06:05:21.992257Z"
    }
   },
   "cell_type": "code",
   "source": "random.randint(10, size=(3, 3))",
   "id": "f39f6b1056fc0294",
   "outputs": [
    {
     "data": {
      "text/plain": [
       "array([[0, 7, 4],\n",
       "       [0, 7, 5],\n",
       "       [6, 4, 5]])"
      ]
     },
     "execution_count": 675,
     "metadata": {},
     "output_type": "execute_result"
    }
   ],
   "execution_count": 675
  },
  {
   "metadata": {
    "ExecuteTime": {
     "end_time": "2024-07-24T06:08:28.640746Z",
     "start_time": "2024-07-24T06:08:28.630508Z"
    }
   },
   "cell_type": "code",
   "source": [
    "random.seed(0)\n",
    "random.randint(10, size=(3, 3))"
   ],
   "id": "5aa0bd3bcbd22a53",
   "outputs": [
    {
     "data": {
      "text/plain": [
       "array([[5, 0, 3],\n",
       "       [3, 7, 9],\n",
       "       [3, 5, 2]])"
      ]
     },
     "execution_count": 679,
     "metadata": {},
     "output_type": "execute_result"
    }
   ],
   "execution_count": 679
  },
  {
   "metadata": {
    "ExecuteTime": {
     "end_time": "2024-07-24T06:10:22.146523Z",
     "start_time": "2024-07-24T06:10:22.139890Z"
    }
   },
   "cell_type": "code",
   "source": [
    "random.seed(40)\n",
    "random.randint(10, size=(3, 3))"
   ],
   "id": "928d815f6893604",
   "outputs": [
    {
     "data": {
      "text/plain": [
       "array([[6, 7, 5],\n",
       "       [8, 8, 2],\n",
       "       [1, 7, 2]])"
      ]
     },
     "execution_count": 680,
     "metadata": {},
     "output_type": "execute_result"
    }
   ],
   "execution_count": 680
  },
  {
   "metadata": {
    "ExecuteTime": {
     "end_time": "2024-07-24T06:14:50.748182Z",
     "start_time": "2024-07-24T06:14:50.742931Z"
    }
   },
   "cell_type": "code",
   "source": [
    "random.seed(4)\n",
    "random_seed_example = random.choice([1, 2, 3, 4, 5, 6, 14, 15, 16, 17, 18], size=(3, 4))\n",
    "print(random_seed_example)"
   ],
   "id": "747637284bc5ea90",
   "outputs": [
    {
     "name": "stdout",
     "output_type": "stream",
     "text": [
      "[[18 15  6  2]\n",
      " [16 15 16  3]\n",
      " [17 18 15 15]]\n"
     ]
    }
   ],
   "execution_count": 688
  },
  {
   "metadata": {
    "ExecuteTime": {
     "end_time": "2024-07-24T06:14:02.135512Z",
     "start_time": "2024-07-24T06:14:02.129887Z"
    }
   },
   "cell_type": "code",
   "source": [
    "# for 4\n",
    "# [[18 15  6  2]\n",
    "#  [16 15 16  3]\n",
    "#  [17 18 15 15]]"
   ],
   "id": "484f59b3d24c2851",
   "outputs": [],
   "execution_count": 685
  },
  {
   "metadata": {
    "ExecuteTime": {
     "end_time": "2024-07-24T07:24:58.547913Z",
     "start_time": "2024-07-24T07:24:58.544547Z"
    }
   },
   "cell_type": "code",
   "source": [
    "# # for 100\n",
    "# [[16 16  4 15]\n",
    "#  [15  1 18  5]\n",
    "#  [ 3  6  3  3]]"
   ],
   "id": "bc86334a6083c289",
   "outputs": [],
   "execution_count": 689
  },
  {
   "metadata": {},
   "cell_type": "code",
   "outputs": [],
   "execution_count": null,
   "source": "",
   "id": "bb0619161b7ed521"
  },
  {
   "metadata": {},
   "cell_type": "markdown",
   "source": [
    "### data distribution\n",
    "\n",
    "* probability distribution function\n",
    "* random distribution"
   ],
   "id": "6c934bf4dd2a1799"
  },
  {
   "metadata": {
    "ExecuteTime": {
     "end_time": "2024-07-24T07:33:28.029435Z",
     "start_time": "2024-07-24T07:33:28.022765Z"
    }
   },
   "cell_type": "code",
   "source": "random.choice([1, 2, 3], p=[.7, .1, .2], size=10)",
   "id": "5b527481e0257752",
   "outputs": [
    {
     "data": {
      "text/plain": [
       "array([1, 1, 2, 1, 3, 3, 1, 1, 1, 1])"
      ]
     },
     "execution_count": 690,
     "metadata": {},
     "output_type": "execute_result"
    }
   ],
   "execution_count": 690
  },
  {
   "metadata": {},
   "cell_type": "code",
   "outputs": [],
   "execution_count": null,
   "source": "",
   "id": "494f59538fcc80c"
  },
  {
   "metadata": {},
   "cell_type": "markdown",
   "source": [
    "### numpy vs matplotlib vs seaborn\n",
    "\n",
    "* numpy for array\n",
    "* matplotlib for array visualization(basic)\n",
    "* seaborn for array visualization(advanced)"
   ],
   "id": "a64b040e56af673"
  },
  {
   "metadata": {
    "ExecuteTime": {
     "end_time": "2024-07-24T07:44:06.941259Z",
     "start_time": "2024-07-24T07:44:04.805905Z"
    }
   },
   "cell_type": "code",
   "source": [
    "import matplotlib.pyplot as plt\n",
    "import seaborn as sns"
   ],
   "id": "30e2a3a12ac5cffd",
   "outputs": [],
   "execution_count": 691
  },
  {
   "metadata": {
    "ExecuteTime": {
     "end_time": "2024-07-24T07:48:10.053740Z",
     "start_time": "2024-07-24T07:48:09.849629Z"
    }
   },
   "cell_type": "code",
   "source": [
    "plt.plot([1, 2])\n",
    "plt.show()"
   ],
   "id": "77470009ffd1be1b",
   "outputs": [
    {
     "data": {
      "text/plain": [
       "<Figure size 640x480 with 1 Axes>"
      ],
      "image/png": "[encoded data removed]"
     },
     "metadata": {},
     "output_type": "display_data"
    }
   ],
   "execution_count": 694
  },
  {
   "metadata": {
    "ExecuteTime": {
     "end_time": "2024-07-24T07:52:09.951226Z",
     "start_time": "2024-07-24T07:52:09.800847Z"
    }
   },
   "cell_type": "code",
   "source": [
    "x_coordinates = np.array([1, 2])\n",
    "y_coordinates = np.array([9, 20])\n",
    "plt.plot(x_coordinates, y_coordinates, )\n",
    "plt.show()"
   ],
   "id": "5a9daa79600830a",
   "outputs": [
    {
     "data": {
      "text/plain": [
       "<Figure size 640x480 with 1 Axes>"
      ],
      "image/png": "[encoded data removed]"
     },
     "metadata": {},
     "output_type": "display_data"
    }
   ],
   "execution_count": 697
  },
  {
   "metadata": {
    "ExecuteTime": {
     "end_time": "2024-07-24T07:52:13.243751Z",
     "start_time": "2024-07-24T07:52:13.108416Z"
    }
   },
   "cell_type": "code",
   "source": [
    "x_coordinates = np.array([1, 2])\n",
    "y_coordinates = np.array([9, 20])\n",
    "plt.plot(x_coordinates, y_coordinates, 'o')\n",
    "plt.show()"
   ],
   "id": "711a197b95444218",
   "outputs": [
    {
     "data": {
      "text/plain": [
       "<Figure size 640x480 with 1 Axes>"
      ],
      "image/png": "[encoded data removed]"
     },
     "metadata": {},
     "output_type": "display_data"
    }
   ],
   "execution_count": 698
  },
  {
   "metadata": {},
   "cell_type": "markdown",
   "source": [
    "### numpy for distribution\n",
    "\n",
    "* gaussian distribution\n",
    "* bellman (bell cufee) distribution\n",
    "\n",
    "\n",
    "1. height measurements\n",
    "2. blood pressure measurements\n",
    "3. iq measurements\n",
    "4. measurement of errors"
   ],
   "id": "3bd84d965cf69a05"
  },
  {
   "metadata": {
    "ExecuteTime": {
     "end_time": "2024-07-24T08:00:49.470202Z",
     "start_time": "2024-07-24T08:00:49.463867Z"
    }
   },
   "cell_type": "code",
   "source": [
    "no = random.normal(size=(3, 4))\n",
    "no"
   ],
   "id": "481f84a7690ace8a",
   "outputs": [
    {
     "data": {
      "text/plain": [
       "array([[ 0.61866969, -0.08798693,  0.4250724 ,  0.33225315],\n",
       "       [-1.15681626,  0.35099715, -0.60688728,  1.54697933],\n",
       "       [ 0.72334161,  0.04613557, -0.98299165,  0.05443274]])"
      ]
     },
     "execution_count": 699,
     "metadata": {},
     "output_type": "execute_result"
    }
   ],
   "execution_count": 699
  },
  {
   "metadata": {
    "ExecuteTime": {
     "end_time": "2024-07-24T08:03:03.891071Z",
     "start_time": "2024-07-24T08:03:03.885594Z"
    }
   },
   "cell_type": "code",
   "source": [
    "no = random.normal(loc=1, scale=2, size=(3, 4))\n",
    "no"
   ],
   "id": "9d80a9e376f0ec7a",
   "outputs": [
    {
     "data": {
      "text/plain": [
       "array([[-1.21116809,  2.67567271,  5.17574174,  2.82968192],\n",
       "       [ 0.44759329,  2.5930238 , -1.28759714,  2.01983957],\n",
       "       [-1.69492059,  0.9812798 ,  0.73859072,  2.60417323]])"
      ]
     },
     "execution_count": 701,
     "metadata": {},
     "output_type": "execute_result"
    }
   ],
   "execution_count": 701
  },
  {
   "metadata": {},
   "cell_type": "markdown",
   "source": "### normal distribution",
   "id": "aa2b9e9f69c0f451"
  },
  {
   "metadata": {
    "ExecuteTime": {
     "end_time": "2024-07-24T08:05:42.233019Z",
     "start_time": "2024-07-24T08:05:41.888280Z"
    }
   },
   "cell_type": "code",
   "source": "sns.histplot(random.normal(size=(1000)), label=\"some hist\", color=\"blue\", kde=True, stat='density', linewidth=1)",
   "id": "c77aae0015cb9a71",
   "outputs": [
    {
     "data": {
      "text/plain": [
       "<Axes: ylabel='Density'>"
      ]
     },
     "execution_count": 702,
     "metadata": {},
     "output_type": "execute_result"
    },
    {
     "data": {
      "text/plain": [
       "<Figure size 640x480 with 1 Axes>"
      ],
      "image/png": "[encoded data removed]"
     },
     "metadata": {},
     "output_type": "display_data"
    }
   ],
   "execution_count": 702
  },
  {
   "metadata": {},
   "cell_type": "code",
   "outputs": [],
   "execution_count": null,
   "source": "",
   "id": "c20c7235f477a996"
  },
  {
   "metadata": {},
   "cell_type": "markdown",
   "source": "### binomial distributions\n",
   "id": "c286c7237ecbb8b5"
  },
  {
   "metadata": {
    "ExecuteTime": {
     "end_time": "2024-07-24T08:13:29.122534Z",
     "start_time": "2024-07-24T08:13:29.106497Z"
    }
   },
   "cell_type": "code",
   "source": "random.binomial(n=10, p=0.5, size=(10))",
   "id": "fc3398aeccaeabd2",
   "outputs": [
    {
     "data": {
      "text/plain": [
       "array([3, 7, 6, 5, 4, 3, 4, 4, 3, 7])"
      ]
     },
     "execution_count": 704,
     "metadata": {},
     "output_type": "execute_result"
    }
   ],
   "execution_count": 704
  },
  {
   "metadata": {
    "ExecuteTime": {
     "end_time": "2024-07-24T08:16:53.587100Z",
     "start_time": "2024-07-24T08:16:53.341717Z"
    }
   },
   "cell_type": "code",
   "source": "sns.histplot(random.binomial(n=10, p=0.5, size=(10)),kde=True)",
   "id": "97850d3363ba8016",
   "outputs": [
    {
     "data": {
      "text/plain": [
       "<Axes: ylabel='Count'>"
      ]
     },
     "execution_count": 709,
     "metadata": {},
     "output_type": "execute_result"
    },
    {
     "data": {
      "text/plain": [
       "<Figure size 640x480 with 1 Axes>"
      ],
      "image/png": "[encoded data removed]"
     },
     "metadata": {},
     "output_type": "display_data"
    }
   ],
   "execution_count": 709
  }
 ],
 "metadata": {
  "kernelspec": {
   "display_name": "Python 3",
   "language": "python",
   "name": "python3"
  },
  "language_info": {
   "codemirror_mode": {
    "name": "ipython",
    "version": 2
   },
   "file_extension": ".py",
   "mimetype": "text/x-python",
   "name": "python",
   "nbconvert_exporter": "python",
   "pygments_lexer": "ipython2",
   "version": "2.7.6"
  }
 },
 "nbformat": 4,
 "nbformat_minor": 5
}
